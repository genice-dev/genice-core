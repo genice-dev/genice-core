{
  "cells": [
    {
      "cell_type": "markdown",
      "metadata": {
        "id": "1seOAdKi9r1h"
      },
      "source": [
        "## for Google Colaboratory\n"
      ]
    },
    {
      "cell_type": "code",
      "execution_count": null,
      "metadata": {
        "id": "oe2Lyk1o9rBf"
      },
      "outputs": [],
      "source": [
        "try:\n",
        "    import google.colab\n",
        "    %pip install git+https://github.com/vitroid/GenIce-core.git pairlist\n",
        "except:\n",
        "    pass"
      ]
    },
    {
      "cell_type": "markdown",
      "metadata": {
        "id": "RecKmyFH9khy"
      },
      "source": [
        "## 1. Prepare an undirected graph.\n"
      ]
    },
    {
      "cell_type": "code",
      "execution_count": null,
      "metadata": {},
      "outputs": [],
      "source": [
        "import networkx as nx\n",
        "import numpy as np\n",
        "import plotly.graph_objects as go\n",
        "\n",
        "\n",
        "# a useful function to draw a graph with plotly.\n",
        "def draw_graph(g: nx.Graph, pos: dict, fixed: list = None, dopant: list = []):\n",
        "    # draw the graph with edges and labels in 3D\n",
        "    pos = np.array([pos[i] for i in sorted(g.nodes())])\n",
        "\n",
        "    # 通常の辺のリスト\n",
        "    normal_edges = [\n",
        "        (i, j)\n",
        "        for i, j in g.edges()\n",
        "        if fixed is None or [i, j] not in fixed and [j, i] not in fixed\n",
        "    ]\n",
        "    # 固定された辺のリスト\n",
        "    fixed_edges = fixed if fixed is not None else []\n",
        "\n",
        "    normal_nodes = [i for i in g.nodes() if i not in dopant]\n",
        "    dopant_nodes = [i for i in dopant]\n",
        "\n",
        "    normal_pos = pos[normal_nodes]\n",
        "    dopant_pos = pos[dopant_nodes]\n",
        "\n",
        "    fig = go.Figure(\n",
        "        data=[\n",
        "            # ノードの表示\n",
        "            go.Scatter3d(\n",
        "                x=normal_pos[:, 0],\n",
        "                y=normal_pos[:, 1],\n",
        "                z=normal_pos[:, 2],\n",
        "                mode=\"markers+text\",\n",
        "                marker=dict(size=2, color=\"blue\"),\n",
        "                text=[str(i) for i in normal_nodes],\n",
        "                textposition=\"top center\",\n",
        "            ),\n",
        "            go.Scatter3d(\n",
        "                x=dopant_pos[:, 0],\n",
        "                y=dopant_pos[:, 1],\n",
        "                z=dopant_pos[:, 2],\n",
        "                mode=\"markers+text\",\n",
        "                marker=dict(size=4, color=\"red\"),\n",
        "                text=[str(i) for i in dopant_nodes],\n",
        "                textposition=\"top center\",\n",
        "            ),\n",
        "            # 通常の辺の表示\n",
        "            *[\n",
        "                go.Scatter3d(\n",
        "                    x=[pos[i, 0], pos[j, 0]],\n",
        "                    y=[pos[i, 1], pos[j, 1]],\n",
        "                    z=[pos[i, 2], pos[j, 2]],\n",
        "                    mode=\"lines\",\n",
        "                    line=dict(color=\"gray\", width=2),\n",
        "                    hoverinfo=\"none\",\n",
        "                )\n",
        "                for i, j in normal_edges\n",
        "            ],\n",
        "            # 固定された辺（矢印）の表示\n",
        "            *[\n",
        "                go.Scatter3d(\n",
        "                    x=[pos[i, 0], pos[j, 0]],\n",
        "                    y=[pos[i, 1], pos[j, 1]],\n",
        "                    z=[pos[i, 2], pos[j, 2]],\n",
        "                    mode=\"lines\",\n",
        "                    line=dict(color=\"green\", width=3),\n",
        "                    hoverinfo=\"none\",\n",
        "                )\n",
        "                for i, j in fixed_edges\n",
        "            ],\n",
        "            # 矢印の先端（コーン）の表示\n",
        "            *[\n",
        "                go.Cone(\n",
        "                    x=[(pos[j, 0] - pos[i, 0]) * 0.8 + pos[i, 0]],\n",
        "                    y=[(pos[j, 1] - pos[i, 1]) * 0.8 + pos[i, 1]],\n",
        "                    z=[(pos[j, 2] - pos[i, 2]) * 0.8 + pos[i, 2]],\n",
        "                    u=[(pos[j, 0] - pos[i, 0]) * 0.4],\n",
        "                    v=[(pos[j, 1] - pos[i, 1]) * 0.4],\n",
        "                    w=[(pos[j, 2] - pos[i, 2]) * 0.4],\n",
        "                    colorscale=[[0, \"green\"], [1, \"green\"]],\n",
        "                    showscale=False,\n",
        "                )\n",
        "                for i, j in fixed_edges\n",
        "            ],\n",
        "        ]\n",
        "    )\n",
        "    fig.show()"
      ]
    },
    {
      "cell_type": "markdown",
      "metadata": {},
      "source": [
        "Here we prepare a dodecahedral graph plus one extra node at the center. The nodes 0, 6, 13, and 17 are four-connected and others are 3-connected (defect or surface nodes).\n"
      ]
    },
    {
      "cell_type": "code",
      "execution_count": 44,
      "metadata": {},
      "outputs": [
        {
          "name": "stdout",
          "output_type": "stream",
          "text": [
            "{0: array([ 0.7399368 ,  0.16728837, -0.68368313]), 1: array([ 0.25728465,  0.70731062, -0.67188741]), 2: array([ 0.21299554,  0.98567687, -0.00456885]), 3: array([0.67707858, 0.61839107, 0.407865  ]), 4: array([0.29372004, 0.29269164, 0.92918597]), 5: array([-0.4041032 ,  0.44886867,  0.83998716]), 6: array([-0.4536867 ,  0.87786349,  0.26339073]), 7: array([-0.82414998,  0.52536547, -0.25300005]), 8: array([-0.38510825,  0.43134489, -0.82722587]), 9: array([-0.2971183 , -0.28085755, -0.92742334]), 10: array([ 0.40023928, -0.44750119, -0.83946974]), 11: array([ 0.44845498, -0.88496245, -0.25979255]), 12: array([-0.21175502, -0.98663088,  0.00558809]), 13: array([-0.67321348, -0.61862195, -0.41107111]), 14: array([-0.99894461, -0.12048449,  0.00953242]), 15: array([-0.73971937, -0.16996296,  0.68154396]), 16: array([-0.25441322, -0.70342555,  0.67473527]), 17: array([ 0.39135068, -0.42070784,  0.82707458]), 18: array([ 0.82115156, -0.5354032 ,  0.25050446]), 19: array([ 1.        ,  0.11375697, -0.01128559])}\n"
          ]
        },
        {
          "data": {
            "application/vnd.plotly.v1+json": {
              "config": {
                "plotlyServerURL": "https://plot.ly"
              },
              "data": [
                {
                  "marker": {
                    "color": "blue",
                    "size": 2
                  },
                  "mode": "markers+text",
                  "text": [
                    "0",
                    "1",
                    "2",
                    "3",
                    "4",
                    "5",
                    "6",
                    "7",
                    "8",
                    "9",
                    "10",
                    "11",
                    "12",
                    "13",
                    "14",
                    "15",
                    "16",
                    "17",
                    "18",
                    "19",
                    "20"
                  ],
                  "textposition": "top center",
                  "type": "scatter3d",
                  "x": {
                    "bdata": "BeTZ8I+t5z9p1NAHWnfQP8894xlwQ8s/3MbStKCq5T8eo4MhT8zSP/LdwqvT3Nm/3AYH7TMJ3b90uoTIb1/qvy26rg6dpdi/qvyAdvwD079Eb3I5hZ3ZP4kh/IN8s9w/O+Gh4ckay786QqL+9orlv6yNP61a9++/lW7D9cer57/ymetdTkjQv2PlhL3jC9k/6Zo7ot9G6j8AAAAAAADwPwAAAAAAAAAA",
                    "dtype": "f8"
                  },
                  "y": {
                    "bdata": "uGrtjrRpxT8oiE/gSaLmPwz2rjmqiu8/XAAFENzJ4z93Bma4dbvSP9A7Za1Dutw/axcEK3UX7D+nEjtBy8/gPyrUgJknm9s/pkny8ZH50b+NiuMC3KPcv2t0FsacUey/CDIU6nqS779fWCpCwMvjv6umymES2L6/i+DjrVjBxb/k/iBOdoLmv5/dA4/g7Nq/O/YR5gUi4b+2Wxg0LR+9PwAAAAAAAAAA",
                    "dtype": "f8"
                  },
                  "z": {
                    "bdata": "2c8Vcbvg5b9WHEoGGoDlvzI6tfvItnK/bvZKynUa2j8EIns35LvtP1bPa78s4eo/Gu7hz2Tb0D8rrxgaJzHQv6a3RGSieOq/3nfes3Ot7b98B8yj79zqv7VVVvBwoNC/SknmtIjjdj9j2pA2/U7av6GC+ze7hYM/DdMnSTXP5T9KGFNpbpflP3vsaRlld+o/7dCv3UMI0D+dTljP5RyHvwAAAAAAAAAA",
                    "dtype": "f8"
                  }
                },
                {
                  "marker": {
                    "color": "red",
                    "size": 4
                  },
                  "mode": "markers+text",
                  "text": [],
                  "textposition": "top center",
                  "type": "scatter3d",
                  "x": [],
                  "y": [],
                  "z": []
                },
                {
                  "hoverinfo": "none",
                  "line": {
                    "color": "gray",
                    "width": 2
                  },
                  "mode": "lines",
                  "type": "scatter3d",
                  "x": [
                    0.7399368003963224,
                    0.2572846485448453
                  ],
                  "y": [
                    0.1672883699310057,
                    0.7073106175487327
                  ],
                  "z": [
                    -0.6836831291861883,
                    -0.6718874094812104
                  ]
                },
                {
                  "hoverinfo": "none",
                  "line": {
                    "color": "gray",
                    "width": 2
                  },
                  "mode": "lines",
                  "type": "scatter3d",
                  "x": [
                    0.7399368003963224,
                    1
                  ],
                  "y": [
                    0.1672883699310057,
                    0.11375696679929956
                  ],
                  "z": [
                    -0.6836831291861883,
                    -0.011285586729207703
                  ]
                },
                {
                  "hoverinfo": "none",
                  "line": {
                    "color": "gray",
                    "width": 2
                  },
                  "mode": "lines",
                  "type": "scatter3d",
                  "x": [
                    0.7399368003963224,
                    0.400239282703968
                  ],
                  "y": [
                    0.1672883699310057,
                    -0.4475011852465876
                  ],
                  "z": [
                    -0.6836831291861883,
                    -0.8394697379264779
                  ]
                },
                {
                  "hoverinfo": "none",
                  "line": {
                    "color": "gray",
                    "width": 2
                  },
                  "mode": "lines",
                  "type": "scatter3d",
                  "x": [
                    0.7399368003963224,
                    0
                  ],
                  "y": [
                    0.1672883699310057,
                    0
                  ],
                  "z": [
                    -0.6836831291861883,
                    0
                  ]
                },
                {
                  "hoverinfo": "none",
                  "line": {
                    "color": "gray",
                    "width": 2
                  },
                  "mode": "lines",
                  "type": "scatter3d",
                  "x": [
                    0.2572846485448453,
                    0.21299554122968664
                  ],
                  "y": [
                    0.7073106175487327,
                    0.9856768728856777
                  ],
                  "z": [
                    -0.6718874094812104,
                    -0.004568848696477933
                  ]
                },
                {
                  "hoverinfo": "none",
                  "line": {
                    "color": "gray",
                    "width": 2
                  },
                  "mode": "lines",
                  "type": "scatter3d",
                  "x": [
                    0.2572846485448453,
                    -0.385108246172339
                  ],
                  "y": [
                    0.7073106175487327,
                    0.4313448905043652
                  ],
                  "z": [
                    -0.6718874094812104,
                    -0.8272258718841285
                  ]
                },
                {
                  "hoverinfo": "none",
                  "line": {
                    "color": "gray",
                    "width": 2
                  },
                  "mode": "lines",
                  "type": "scatter3d",
                  "x": [
                    0.21299554122968664,
                    0.6770785838800424
                  ],
                  "y": [
                    0.9856768728856777,
                    0.6183910668260171
                  ],
                  "z": [
                    -0.004568848696477933,
                    0.40786499743612736
                  ]
                },
                {
                  "hoverinfo": "none",
                  "line": {
                    "color": "gray",
                    "width": 2
                  },
                  "mode": "lines",
                  "type": "scatter3d",
                  "x": [
                    0.21299554122968664,
                    -0.4536866965027977
                  ],
                  "y": [
                    0.9856768728856777,
                    0.8778634872585206
                  ],
                  "z": [
                    -0.004568848696477933,
                    0.26339073468236196
                  ]
                },
                {
                  "hoverinfo": "none",
                  "line": {
                    "color": "gray",
                    "width": 2
                  },
                  "mode": "lines",
                  "type": "scatter3d",
                  "x": [
                    0.6770785838800424,
                    0.29372003815528724
                  ],
                  "y": [
                    0.6183910668260171,
                    0.2926916409270243
                  ],
                  "z": [
                    0.40786499743612736,
                    0.9291859706509631
                  ]
                },
                {
                  "hoverinfo": "none",
                  "line": {
                    "color": "gray",
                    "width": 2
                  },
                  "mode": "lines",
                  "type": "scatter3d",
                  "x": [
                    0.6770785838800424,
                    1
                  ],
                  "y": [
                    0.6183910668260171,
                    0.11375696679929956
                  ],
                  "z": [
                    0.40786499743612736,
                    -0.011285586729207703
                  ]
                },
                {
                  "hoverinfo": "none",
                  "line": {
                    "color": "gray",
                    "width": 2
                  },
                  "mode": "lines",
                  "type": "scatter3d",
                  "x": [
                    0.29372003815528724,
                    -0.4041032006602726
                  ],
                  "y": [
                    0.2926916409270243,
                    0.44886867459439106
                  ],
                  "z": [
                    0.9291859706509631,
                    0.8399871576971047
                  ]
                },
                {
                  "hoverinfo": "none",
                  "line": {
                    "color": "gray",
                    "width": 2
                  },
                  "mode": "lines",
                  "type": "scatter3d",
                  "x": [
                    0.29372003815528724,
                    0.39135068423964564
                  ],
                  "y": [
                    0.2926916409270243,
                    -0.4207078358299103
                  ],
                  "z": [
                    0.9291859706509631,
                    0.827074575077304
                  ]
                },
                {
                  "hoverinfo": "none",
                  "line": {
                    "color": "gray",
                    "width": 2
                  },
                  "mode": "lines",
                  "type": "scatter3d",
                  "x": [
                    -0.4041032006602726,
                    -0.4536866965027977
                  ],
                  "y": [
                    0.44886867459439106,
                    0.8778634872585206
                  ],
                  "z": [
                    0.8399871576971047,
                    0.26339073468236196
                  ]
                },
                {
                  "hoverinfo": "none",
                  "line": {
                    "color": "gray",
                    "width": 2
                  },
                  "mode": "lines",
                  "type": "scatter3d",
                  "x": [
                    -0.4041032006602726,
                    -0.7397193718019986
                  ],
                  "y": [
                    0.44886867459439106,
                    -0.16996296396951424
                  ],
                  "z": [
                    0.8399871576971047,
                    0.6815439633197414
                  ]
                },
                {
                  "hoverinfo": "none",
                  "line": {
                    "color": "gray",
                    "width": 2
                  },
                  "mode": "lines",
                  "type": "scatter3d",
                  "x": [
                    -0.4536866965027977,
                    -0.8241499821068161
                  ],
                  "y": [
                    0.8778634872585206,
                    0.5253654741323616
                  ],
                  "z": [
                    0.26339073468236196,
                    -0.2530000452850227
                  ]
                },
                {
                  "hoverinfo": "none",
                  "line": {
                    "color": "gray",
                    "width": 2
                  },
                  "mode": "lines",
                  "type": "scatter3d",
                  "x": [
                    -0.4536866965027977,
                    0
                  ],
                  "y": [
                    0.8778634872585206,
                    0
                  ],
                  "z": [
                    0.26339073468236196,
                    0
                  ]
                },
                {
                  "hoverinfo": "none",
                  "line": {
                    "color": "gray",
                    "width": 2
                  },
                  "mode": "lines",
                  "type": "scatter3d",
                  "x": [
                    -0.8241499821068161,
                    -0.385108246172339
                  ],
                  "y": [
                    0.5253654741323616,
                    0.4313448905043652
                  ],
                  "z": [
                    -0.2530000452850227,
                    -0.8272258718841285
                  ]
                },
                {
                  "hoverinfo": "none",
                  "line": {
                    "color": "gray",
                    "width": 2
                  },
                  "mode": "lines",
                  "type": "scatter3d",
                  "x": [
                    -0.8241499821068161,
                    -0.998944605231761
                  ],
                  "y": [
                    0.5253654741323616,
                    -0.12048449408998844
                  ],
                  "z": [
                    -0.2530000452850227,
                    0.00953241600603977
                  ]
                },
                {
                  "hoverinfo": "none",
                  "line": {
                    "color": "gray",
                    "width": 2
                  },
                  "mode": "lines",
                  "type": "scatter3d",
                  "x": [
                    -0.385108246172339,
                    -0.29711829731599926
                  ],
                  "y": [
                    0.4313448905043652,
                    -0.2808575499303977
                  ],
                  "z": [
                    -0.8272258718841285,
                    -0.9274233353678445
                  ]
                },
                {
                  "hoverinfo": "none",
                  "line": {
                    "color": "gray",
                    "width": 2
                  },
                  "mode": "lines",
                  "type": "scatter3d",
                  "x": [
                    -0.29711829731599926,
                    0.400239282703968
                  ],
                  "y": [
                    -0.2808575499303977,
                    -0.4475011852465876
                  ],
                  "z": [
                    -0.9274233353678445,
                    -0.8394697379264779
                  ]
                },
                {
                  "hoverinfo": "none",
                  "line": {
                    "color": "gray",
                    "width": 2
                  },
                  "mode": "lines",
                  "type": "scatter3d",
                  "x": [
                    -0.29711829731599926,
                    -0.6732134793583733
                  ],
                  "y": [
                    -0.2808575499303977,
                    -0.6186219494145567
                  ],
                  "z": [
                    -0.9274233353678445,
                    -0.41107111290640413
                  ]
                },
                {
                  "hoverinfo": "none",
                  "line": {
                    "color": "gray",
                    "width": 2
                  },
                  "mode": "lines",
                  "type": "scatter3d",
                  "x": [
                    0.400239282703968,
                    0.4484549797930631
                  ],
                  "y": [
                    -0.4475011852465876,
                    -0.8849624508762991
                  ],
                  "z": [
                    -0.8394697379264779,
                    -0.25979255171236143
                  ]
                },
                {
                  "hoverinfo": "none",
                  "line": {
                    "color": "gray",
                    "width": 2
                  },
                  "mode": "lines",
                  "type": "scatter3d",
                  "x": [
                    0.4484549797930631,
                    -0.211755023166697
                  ],
                  "y": [
                    -0.8849624508762991,
                    -0.9866308757642068
                  ],
                  "z": [
                    -0.25979255171236143,
                    0.0055880870917398105
                  ]
                },
                {
                  "hoverinfo": "none",
                  "line": {
                    "color": "gray",
                    "width": 2
                  },
                  "mode": "lines",
                  "type": "scatter3d",
                  "x": [
                    0.4484549797930631,
                    0.8211515587434778
                  ],
                  "y": [
                    -0.8849624508762991,
                    -0.5354032033498649
                  ],
                  "z": [
                    -0.25979255171236143,
                    0.2505044617567041
                  ]
                },
                {
                  "hoverinfo": "none",
                  "line": {
                    "color": "gray",
                    "width": 2
                  },
                  "mode": "lines",
                  "type": "scatter3d",
                  "x": [
                    -0.211755023166697,
                    -0.6732134793583733
                  ],
                  "y": [
                    -0.9866308757642068,
                    -0.6186219494145567
                  ],
                  "z": [
                    0.0055880870917398105,
                    -0.41107111290640413
                  ]
                },
                {
                  "hoverinfo": "none",
                  "line": {
                    "color": "gray",
                    "width": 2
                  },
                  "mode": "lines",
                  "type": "scatter3d",
                  "x": [
                    -0.211755023166697,
                    -0.2544132153692821
                  ],
                  "y": [
                    -0.9866308757642068,
                    -0.7034255529360647
                  ],
                  "z": [
                    0.0055880870917398105,
                    0.6747352654572378
                  ]
                },
                {
                  "hoverinfo": "none",
                  "line": {
                    "color": "gray",
                    "width": 2
                  },
                  "mode": "lines",
                  "type": "scatter3d",
                  "x": [
                    -0.6732134793583733,
                    -0.998944605231761
                  ],
                  "y": [
                    -0.6186219494145567,
                    -0.12048449408998844
                  ],
                  "z": [
                    -0.41107111290640413,
                    0.00953241600603977
                  ]
                },
                {
                  "hoverinfo": "none",
                  "line": {
                    "color": "gray",
                    "width": 2
                  },
                  "mode": "lines",
                  "type": "scatter3d",
                  "x": [
                    -0.6732134793583733,
                    0
                  ],
                  "y": [
                    -0.6186219494145567,
                    0
                  ],
                  "z": [
                    -0.41107111290640413,
                    0
                  ]
                },
                {
                  "hoverinfo": "none",
                  "line": {
                    "color": "gray",
                    "width": 2
                  },
                  "mode": "lines",
                  "type": "scatter3d",
                  "x": [
                    -0.998944605231761,
                    -0.7397193718019986
                  ],
                  "y": [
                    -0.12048449408998844,
                    -0.16996296396951424
                  ],
                  "z": [
                    0.00953241600603977,
                    0.6815439633197414
                  ]
                },
                {
                  "hoverinfo": "none",
                  "line": {
                    "color": "gray",
                    "width": 2
                  },
                  "mode": "lines",
                  "type": "scatter3d",
                  "x": [
                    -0.7397193718019986,
                    -0.2544132153692821
                  ],
                  "y": [
                    -0.16996296396951424,
                    -0.7034255529360647
                  ],
                  "z": [
                    0.6815439633197414,
                    0.6747352654572378
                  ]
                },
                {
                  "hoverinfo": "none",
                  "line": {
                    "color": "gray",
                    "width": 2
                  },
                  "mode": "lines",
                  "type": "scatter3d",
                  "x": [
                    -0.2544132153692821,
                    0.39135068423964564
                  ],
                  "y": [
                    -0.7034255529360647,
                    -0.4207078358299103
                  ],
                  "z": [
                    0.6747352654572378,
                    0.827074575077304
                  ]
                },
                {
                  "hoverinfo": "none",
                  "line": {
                    "color": "gray",
                    "width": 2
                  },
                  "mode": "lines",
                  "type": "scatter3d",
                  "x": [
                    0.39135068423964564,
                    0.8211515587434778
                  ],
                  "y": [
                    -0.4207078358299103,
                    -0.5354032033498649
                  ],
                  "z": [
                    0.827074575077304,
                    0.2505044617567041
                  ]
                },
                {
                  "hoverinfo": "none",
                  "line": {
                    "color": "gray",
                    "width": 2
                  },
                  "mode": "lines",
                  "type": "scatter3d",
                  "x": [
                    0.39135068423964564,
                    0
                  ],
                  "y": [
                    -0.4207078358299103,
                    0
                  ],
                  "z": [
                    0.827074575077304,
                    0
                  ]
                },
                {
                  "hoverinfo": "none",
                  "line": {
                    "color": "gray",
                    "width": 2
                  },
                  "mode": "lines",
                  "type": "scatter3d",
                  "x": [
                    0.8211515587434778,
                    1
                  ],
                  "y": [
                    -0.5354032033498649,
                    0.11375696679929956
                  ],
                  "z": [
                    0.2505044617567041,
                    -0.011285586729207703
                  ]
                }
              ],
              "layout": {
                "template": {
                  "data": {
                    "bar": [
                      {
                        "error_x": {
                          "color": "#2a3f5f"
                        },
                        "error_y": {
                          "color": "#2a3f5f"
                        },
                        "marker": {
                          "line": {
                            "color": "#E5ECF6",
                            "width": 0.5
                          },
                          "pattern": {
                            "fillmode": "overlay",
                            "size": 10,
                            "solidity": 0.2
                          }
                        },
                        "type": "bar"
                      }
                    ],
                    "barpolar": [
                      {
                        "marker": {
                          "line": {
                            "color": "#E5ECF6",
                            "width": 0.5
                          },
                          "pattern": {
                            "fillmode": "overlay",
                            "size": 10,
                            "solidity": 0.2
                          }
                        },
                        "type": "barpolar"
                      }
                    ],
                    "carpet": [
                      {
                        "aaxis": {
                          "endlinecolor": "#2a3f5f",
                          "gridcolor": "white",
                          "linecolor": "white",
                          "minorgridcolor": "white",
                          "startlinecolor": "#2a3f5f"
                        },
                        "baxis": {
                          "endlinecolor": "#2a3f5f",
                          "gridcolor": "white",
                          "linecolor": "white",
                          "minorgridcolor": "white",
                          "startlinecolor": "#2a3f5f"
                        },
                        "type": "carpet"
                      }
                    ],
                    "choropleth": [
                      {
                        "colorbar": {
                          "outlinewidth": 0,
                          "ticks": ""
                        },
                        "type": "choropleth"
                      }
                    ],
                    "contour": [
                      {
                        "colorbar": {
                          "outlinewidth": 0,
                          "ticks": ""
                        },
                        "colorscale": [
                          [
                            0,
                            "#0d0887"
                          ],
                          [
                            0.1111111111111111,
                            "#46039f"
                          ],
                          [
                            0.2222222222222222,
                            "#7201a8"
                          ],
                          [
                            0.3333333333333333,
                            "#9c179e"
                          ],
                          [
                            0.4444444444444444,
                            "#bd3786"
                          ],
                          [
                            0.5555555555555556,
                            "#d8576b"
                          ],
                          [
                            0.6666666666666666,
                            "#ed7953"
                          ],
                          [
                            0.7777777777777778,
                            "#fb9f3a"
                          ],
                          [
                            0.8888888888888888,
                            "#fdca26"
                          ],
                          [
                            1,
                            "#f0f921"
                          ]
                        ],
                        "type": "contour"
                      }
                    ],
                    "contourcarpet": [
                      {
                        "colorbar": {
                          "outlinewidth": 0,
                          "ticks": ""
                        },
                        "type": "contourcarpet"
                      }
                    ],
                    "heatmap": [
                      {
                        "colorbar": {
                          "outlinewidth": 0,
                          "ticks": ""
                        },
                        "colorscale": [
                          [
                            0,
                            "#0d0887"
                          ],
                          [
                            0.1111111111111111,
                            "#46039f"
                          ],
                          [
                            0.2222222222222222,
                            "#7201a8"
                          ],
                          [
                            0.3333333333333333,
                            "#9c179e"
                          ],
                          [
                            0.4444444444444444,
                            "#bd3786"
                          ],
                          [
                            0.5555555555555556,
                            "#d8576b"
                          ],
                          [
                            0.6666666666666666,
                            "#ed7953"
                          ],
                          [
                            0.7777777777777778,
                            "#fb9f3a"
                          ],
                          [
                            0.8888888888888888,
                            "#fdca26"
                          ],
                          [
                            1,
                            "#f0f921"
                          ]
                        ],
                        "type": "heatmap"
                      }
                    ],
                    "histogram": [
                      {
                        "marker": {
                          "pattern": {
                            "fillmode": "overlay",
                            "size": 10,
                            "solidity": 0.2
                          }
                        },
                        "type": "histogram"
                      }
                    ],
                    "histogram2d": [
                      {
                        "colorbar": {
                          "outlinewidth": 0,
                          "ticks": ""
                        },
                        "colorscale": [
                          [
                            0,
                            "#0d0887"
                          ],
                          [
                            0.1111111111111111,
                            "#46039f"
                          ],
                          [
                            0.2222222222222222,
                            "#7201a8"
                          ],
                          [
                            0.3333333333333333,
                            "#9c179e"
                          ],
                          [
                            0.4444444444444444,
                            "#bd3786"
                          ],
                          [
                            0.5555555555555556,
                            "#d8576b"
                          ],
                          [
                            0.6666666666666666,
                            "#ed7953"
                          ],
                          [
                            0.7777777777777778,
                            "#fb9f3a"
                          ],
                          [
                            0.8888888888888888,
                            "#fdca26"
                          ],
                          [
                            1,
                            "#f0f921"
                          ]
                        ],
                        "type": "histogram2d"
                      }
                    ],
                    "histogram2dcontour": [
                      {
                        "colorbar": {
                          "outlinewidth": 0,
                          "ticks": ""
                        },
                        "colorscale": [
                          [
                            0,
                            "#0d0887"
                          ],
                          [
                            0.1111111111111111,
                            "#46039f"
                          ],
                          [
                            0.2222222222222222,
                            "#7201a8"
                          ],
                          [
                            0.3333333333333333,
                            "#9c179e"
                          ],
                          [
                            0.4444444444444444,
                            "#bd3786"
                          ],
                          [
                            0.5555555555555556,
                            "#d8576b"
                          ],
                          [
                            0.6666666666666666,
                            "#ed7953"
                          ],
                          [
                            0.7777777777777778,
                            "#fb9f3a"
                          ],
                          [
                            0.8888888888888888,
                            "#fdca26"
                          ],
                          [
                            1,
                            "#f0f921"
                          ]
                        ],
                        "type": "histogram2dcontour"
                      }
                    ],
                    "mesh3d": [
                      {
                        "colorbar": {
                          "outlinewidth": 0,
                          "ticks": ""
                        },
                        "type": "mesh3d"
                      }
                    ],
                    "parcoords": [
                      {
                        "line": {
                          "colorbar": {
                            "outlinewidth": 0,
                            "ticks": ""
                          }
                        },
                        "type": "parcoords"
                      }
                    ],
                    "pie": [
                      {
                        "automargin": true,
                        "type": "pie"
                      }
                    ],
                    "scatter": [
                      {
                        "fillpattern": {
                          "fillmode": "overlay",
                          "size": 10,
                          "solidity": 0.2
                        },
                        "type": "scatter"
                      }
                    ],
                    "scatter3d": [
                      {
                        "line": {
                          "colorbar": {
                            "outlinewidth": 0,
                            "ticks": ""
                          }
                        },
                        "marker": {
                          "colorbar": {
                            "outlinewidth": 0,
                            "ticks": ""
                          }
                        },
                        "type": "scatter3d"
                      }
                    ],
                    "scattercarpet": [
                      {
                        "marker": {
                          "colorbar": {
                            "outlinewidth": 0,
                            "ticks": ""
                          }
                        },
                        "type": "scattercarpet"
                      }
                    ],
                    "scattergeo": [
                      {
                        "marker": {
                          "colorbar": {
                            "outlinewidth": 0,
                            "ticks": ""
                          }
                        },
                        "type": "scattergeo"
                      }
                    ],
                    "scattergl": [
                      {
                        "marker": {
                          "colorbar": {
                            "outlinewidth": 0,
                            "ticks": ""
                          }
                        },
                        "type": "scattergl"
                      }
                    ],
                    "scattermap": [
                      {
                        "marker": {
                          "colorbar": {
                            "outlinewidth": 0,
                            "ticks": ""
                          }
                        },
                        "type": "scattermap"
                      }
                    ],
                    "scattermapbox": [
                      {
                        "marker": {
                          "colorbar": {
                            "outlinewidth": 0,
                            "ticks": ""
                          }
                        },
                        "type": "scattermapbox"
                      }
                    ],
                    "scatterpolar": [
                      {
                        "marker": {
                          "colorbar": {
                            "outlinewidth": 0,
                            "ticks": ""
                          }
                        },
                        "type": "scatterpolar"
                      }
                    ],
                    "scatterpolargl": [
                      {
                        "marker": {
                          "colorbar": {
                            "outlinewidth": 0,
                            "ticks": ""
                          }
                        },
                        "type": "scatterpolargl"
                      }
                    ],
                    "scatterternary": [
                      {
                        "marker": {
                          "colorbar": {
                            "outlinewidth": 0,
                            "ticks": ""
                          }
                        },
                        "type": "scatterternary"
                      }
                    ],
                    "surface": [
                      {
                        "colorbar": {
                          "outlinewidth": 0,
                          "ticks": ""
                        },
                        "colorscale": [
                          [
                            0,
                            "#0d0887"
                          ],
                          [
                            0.1111111111111111,
                            "#46039f"
                          ],
                          [
                            0.2222222222222222,
                            "#7201a8"
                          ],
                          [
                            0.3333333333333333,
                            "#9c179e"
                          ],
                          [
                            0.4444444444444444,
                            "#bd3786"
                          ],
                          [
                            0.5555555555555556,
                            "#d8576b"
                          ],
                          [
                            0.6666666666666666,
                            "#ed7953"
                          ],
                          [
                            0.7777777777777778,
                            "#fb9f3a"
                          ],
                          [
                            0.8888888888888888,
                            "#fdca26"
                          ],
                          [
                            1,
                            "#f0f921"
                          ]
                        ],
                        "type": "surface"
                      }
                    ],
                    "table": [
                      {
                        "cells": {
                          "fill": {
                            "color": "#EBF0F8"
                          },
                          "line": {
                            "color": "white"
                          }
                        },
                        "header": {
                          "fill": {
                            "color": "#C8D4E3"
                          },
                          "line": {
                            "color": "white"
                          }
                        },
                        "type": "table"
                      }
                    ]
                  },
                  "layout": {
                    "annotationdefaults": {
                      "arrowcolor": "#2a3f5f",
                      "arrowhead": 0,
                      "arrowwidth": 1
                    },
                    "autotypenumbers": "strict",
                    "coloraxis": {
                      "colorbar": {
                        "outlinewidth": 0,
                        "ticks": ""
                      }
                    },
                    "colorscale": {
                      "diverging": [
                        [
                          0,
                          "#8e0152"
                        ],
                        [
                          0.1,
                          "#c51b7d"
                        ],
                        [
                          0.2,
                          "#de77ae"
                        ],
                        [
                          0.3,
                          "#f1b6da"
                        ],
                        [
                          0.4,
                          "#fde0ef"
                        ],
                        [
                          0.5,
                          "#f7f7f7"
                        ],
                        [
                          0.6,
                          "#e6f5d0"
                        ],
                        [
                          0.7,
                          "#b8e186"
                        ],
                        [
                          0.8,
                          "#7fbc41"
                        ],
                        [
                          0.9,
                          "#4d9221"
                        ],
                        [
                          1,
                          "#276419"
                        ]
                      ],
                      "sequential": [
                        [
                          0,
                          "#0d0887"
                        ],
                        [
                          0.1111111111111111,
                          "#46039f"
                        ],
                        [
                          0.2222222222222222,
                          "#7201a8"
                        ],
                        [
                          0.3333333333333333,
                          "#9c179e"
                        ],
                        [
                          0.4444444444444444,
                          "#bd3786"
                        ],
                        [
                          0.5555555555555556,
                          "#d8576b"
                        ],
                        [
                          0.6666666666666666,
                          "#ed7953"
                        ],
                        [
                          0.7777777777777778,
                          "#fb9f3a"
                        ],
                        [
                          0.8888888888888888,
                          "#fdca26"
                        ],
                        [
                          1,
                          "#f0f921"
                        ]
                      ],
                      "sequentialminus": [
                        [
                          0,
                          "#0d0887"
                        ],
                        [
                          0.1111111111111111,
                          "#46039f"
                        ],
                        [
                          0.2222222222222222,
                          "#7201a8"
                        ],
                        [
                          0.3333333333333333,
                          "#9c179e"
                        ],
                        [
                          0.4444444444444444,
                          "#bd3786"
                        ],
                        [
                          0.5555555555555556,
                          "#d8576b"
                        ],
                        [
                          0.6666666666666666,
                          "#ed7953"
                        ],
                        [
                          0.7777777777777778,
                          "#fb9f3a"
                        ],
                        [
                          0.8888888888888888,
                          "#fdca26"
                        ],
                        [
                          1,
                          "#f0f921"
                        ]
                      ]
                    },
                    "colorway": [
                      "#636efa",
                      "#EF553B",
                      "#00cc96",
                      "#ab63fa",
                      "#FFA15A",
                      "#19d3f3",
                      "#FF6692",
                      "#B6E880",
                      "#FF97FF",
                      "#FECB52"
                    ],
                    "font": {
                      "color": "#2a3f5f"
                    },
                    "geo": {
                      "bgcolor": "white",
                      "lakecolor": "white",
                      "landcolor": "#E5ECF6",
                      "showlakes": true,
                      "showland": true,
                      "subunitcolor": "white"
                    },
                    "hoverlabel": {
                      "align": "left"
                    },
                    "hovermode": "closest",
                    "mapbox": {
                      "style": "light"
                    },
                    "paper_bgcolor": "white",
                    "plot_bgcolor": "#E5ECF6",
                    "polar": {
                      "angularaxis": {
                        "gridcolor": "white",
                        "linecolor": "white",
                        "ticks": ""
                      },
                      "bgcolor": "#E5ECF6",
                      "radialaxis": {
                        "gridcolor": "white",
                        "linecolor": "white",
                        "ticks": ""
                      }
                    },
                    "scene": {
                      "xaxis": {
                        "backgroundcolor": "#E5ECF6",
                        "gridcolor": "white",
                        "gridwidth": 2,
                        "linecolor": "white",
                        "showbackground": true,
                        "ticks": "",
                        "zerolinecolor": "white"
                      },
                      "yaxis": {
                        "backgroundcolor": "#E5ECF6",
                        "gridcolor": "white",
                        "gridwidth": 2,
                        "linecolor": "white",
                        "showbackground": true,
                        "ticks": "",
                        "zerolinecolor": "white"
                      },
                      "zaxis": {
                        "backgroundcolor": "#E5ECF6",
                        "gridcolor": "white",
                        "gridwidth": 2,
                        "linecolor": "white",
                        "showbackground": true,
                        "ticks": "",
                        "zerolinecolor": "white"
                      }
                    },
                    "shapedefaults": {
                      "line": {
                        "color": "#2a3f5f"
                      }
                    },
                    "ternary": {
                      "aaxis": {
                        "gridcolor": "white",
                        "linecolor": "white",
                        "ticks": ""
                      },
                      "baxis": {
                        "gridcolor": "white",
                        "linecolor": "white",
                        "ticks": ""
                      },
                      "bgcolor": "#E5ECF6",
                      "caxis": {
                        "gridcolor": "white",
                        "linecolor": "white",
                        "ticks": ""
                      }
                    },
                    "title": {
                      "x": 0.05
                    },
                    "xaxis": {
                      "automargin": true,
                      "gridcolor": "white",
                      "linecolor": "white",
                      "ticks": "",
                      "title": {
                        "standoff": 15
                      },
                      "zerolinecolor": "white",
                      "zerolinewidth": 2
                    },
                    "yaxis": {
                      "automargin": true,
                      "gridcolor": "white",
                      "linecolor": "white",
                      "ticks": "",
                      "title": {
                        "standoff": 15
                      },
                      "zerolinecolor": "white",
                      "zerolinewidth": 2
                    }
                  }
                }
              }
            }
          },
          "metadata": {},
          "output_type": "display_data"
        }
      ],
      "source": [
        "from logging import getLogger, DEBUG\n",
        "\n",
        "logger = getLogger()\n",
        "logger.setLevel(DEBUG)\n",
        "\n",
        "g = nx.dodecahedral_graph()  # dodecahedral 20mer and an additional node at the center\n",
        "pos = nx.spring_layout(g, dim=3)\n",
        "print(pos)\n",
        "\n",
        "# add a new node at the center\n",
        "g.add_node(20)\n",
        "pos[20] = (0, 0, 0)\n",
        "g.add_edge(0, 20)\n",
        "g.add_edge(6, 20)\n",
        "g.add_edge(13, 20)\n",
        "g.add_edge(17, 20)\n",
        "\n",
        "# pos = nx.spring_layout(g, pos=pos)\n",
        "\n",
        "draw_graph(g, pos)"
      ]
    },
    {
      "cell_type": "markdown",
      "metadata": {},
      "source": [
        "Now let's assume that the node 0 is a cation and donating hydrogen bonds to its neighbors.\n"
      ]
    },
    {
      "cell_type": "code",
      "execution_count": 39,
      "metadata": {},
      "outputs": [
        {
          "data": {
            "application/vnd.plotly.v1+json": {
              "config": {
                "plotlyServerURL": "https://plot.ly"
              },
              "data": [
                {
                  "marker": {
                    "color": "blue",
                    "size": 2
                  },
                  "mode": "markers+text",
                  "text": [
                    "1",
                    "2",
                    "3",
                    "4",
                    "5",
                    "6",
                    "7",
                    "8",
                    "9",
                    "10",
                    "11",
                    "12",
                    "13",
                    "14",
                    "15",
                    "16",
                    "17",
                    "18",
                    "19",
                    "20"
                  ],
                  "textposition": "top center",
                  "type": "scatter3d",
                  "x": {
                    "bdata": "Fnp+4Lhn5b+QPyqRg9mSP2ep0GI6680/uVCD8Z9u6j/CNVj/JoTvP5t5XCELCN8/cquqYQOjsz/sj+zXQ0Tkv+baa20meeq/26RuyQNh77/kbbxLIcjev8GdH7Ap0Zm/bZ/7YddYzr+2aDGEMJvUP9kvyS2HQ+w/4muY4Sds5T8R5MwhHy7kP61itrQkK7K/Rqk/TWSS1L8AAAAAAAAAAA==",
                    "dtype": "f8"
                  },
                  "y": {
                    "bdata": "cCfRv5vxpb/YqKM4AMrMv/NkBW56j+m/cU2KGAnZ4r/3CoBswUO9P2TJt0DeONU/tCdJx2il6z+K3/dVUS/kPy2WTgyG1+I/7ePnrtXCvb+cjTGxvJrVv3L2x1n/r8w/dDEIuHWp6T9Hl/7fnRnvP9Y3bPKxNOA/+k32fiGXpT8o1RwKNjfkv81T9XwvrOu/sbHv3q/07r8AAAAAAAAAAA==",
                    "dtype": "f8"
                  },
                  "z": {
                    "bdata": "xnax1uRV6T8AAAAAAADwPwsVnPTxM+M/vSjtuFhyyj+tZTEOqdTWP5XDpRtPLus/7SVHNiZM4T/zQePxCQvgP/Tmd9seisq/Ym1YN4zi1r+0UUFsIDHrvw75gzN82++/gW6DNOEo47/HsffIFj/CvzOwEFwDsdC/2Z+KRvQ46b9rnXhIbxTgv+YKv29bS+G/gZI+eyQDwj8AAAAAAAAAAA==",
                    "dtype": "f8"
                  }
                },
                {
                  "marker": {
                    "color": "red",
                    "size": 4
                  },
                  "mode": "markers+text",
                  "text": [
                    "0"
                  ],
                  "textposition": "top center",
                  "type": "scatter3d",
                  "x": {
                    "bdata": "1ILpnaBK7L8=",
                    "dtype": "f8"
                  },
                  "y": {
                    "bdata": "d5kiK3MW4L8=",
                    "dtype": "f8"
                  },
                  "z": {
                    "bdata": "Qzs0RZBm0D8=",
                    "dtype": "f8"
                  }
                },
                {
                  "hoverinfo": "none",
                  "line": {
                    "color": "gray",
                    "width": 2
                  },
                  "mode": "lines",
                  "type": "scatter3d",
                  "x": [
                    -0.6689113983773634,
                    0.018407874808474
                  ],
                  "y": [
                    -0.04285895077244006,
                    -0.22491457715597707
                  ],
                  "z": [
                    0.7917350953318525,
                    1
                  ]
                },
                {
                  "hoverinfo": "none",
                  "line": {
                    "color": "gray",
                    "width": 2
                  },
                  "mode": "lines",
                  "type": "scatter3d",
                  "x": [
                    -0.6689113983773634,
                    -0.6333331315295232
                  ],
                  "y": [
                    -0.04285895077244006,
                    0.630776088625667
                  ],
                  "z": [
                    0.7917350953318525,
                    0.5013475155229216
                  ]
                },
                {
                  "hoverinfo": "none",
                  "line": {
                    "color": "gray",
                    "width": 2
                  },
                  "mode": "lines",
                  "type": "scatter3d",
                  "x": [
                    0.018407874808474,
                    0.23374109101252857
                  ],
                  "y": [
                    -0.22491457715597707,
                    -0.7987644337510161
                  ],
                  "z": [
                    1,
                    0.6000909593136908
                  ]
                },
                {
                  "hoverinfo": "none",
                  "line": {
                    "color": "gray",
                    "width": 2
                  },
                  "mode": "lines",
                  "type": "scatter3d",
                  "x": [
                    0.018407874808474,
                    0.48486593492443725
                  ],
                  "y": [
                    -0.22491457715597707,
                    0.3315959579478174
                  ],
                  "z": [
                    1,
                    0.8494029560080089
                  ]
                },
                {
                  "hoverinfo": "none",
                  "line": {
                    "color": "gray",
                    "width": 2
                  },
                  "mode": "lines",
                  "type": "scatter3d",
                  "x": [
                    0.23374109101252857,
                    0.82600400133608
                  ],
                  "y": [
                    -0.7987644337510161,
                    -0.5889935950566906
                  ],
                  "z": [
                    0.6000909593136908,
                    0.20661458043679728
                  ]
                },
                {
                  "hoverinfo": "none",
                  "line": {
                    "color": "gray",
                    "width": 2
                  },
                  "mode": "lines",
                  "type": "scatter3d",
                  "x": [
                    0.23374109101252857,
                    -0.3214350466138466
                  ],
                  "y": [
                    -0.7987644337510161,
                    -0.9673690180039128
                  ],
                  "z": [
                    0.6000909593136908,
                    0.14072090165895548
                  ]
                },
                {
                  "hoverinfo": "none",
                  "line": {
                    "color": "gray",
                    "width": 2
                  },
                  "mode": "lines",
                  "type": "scatter3d",
                  "x": [
                    0.82600400133608,
                    0.9848818766783369
                  ],
                  "y": [
                    -0.5889935950566906,
                    0.11431511782579294
                  ],
                  "z": [
                    0.20661458043679728,
                    0.35672975908309007
                  ]
                },
                {
                  "hoverinfo": "none",
                  "line": {
                    "color": "gray",
                    "width": 2
                  },
                  "mode": "lines",
                  "type": "scatter3d",
                  "x": [
                    0.82600400133608,
                    0.6306300792849716
                  ],
                  "y": [
                    -0.5889935950566906,
                    -0.6317396352302795
                  ],
                  "z": [
                    0.20661458043679728,
                    -0.5024944701626003
                  ]
                },
                {
                  "hoverinfo": "none",
                  "line": {
                    "color": "gray",
                    "width": 2
                  },
                  "mode": "lines",
                  "type": "scatter3d",
                  "x": [
                    0.9848818766783369,
                    0.48486593492443725
                  ],
                  "y": [
                    0.11431511782579294,
                    0.3315959579478174
                  ],
                  "z": [
                    0.35672975908309007,
                    0.8494029560080089
                  ]
                },
                {
                  "hoverinfo": "none",
                  "line": {
                    "color": "gray",
                    "width": 2
                  },
                  "mode": "lines",
                  "type": "scatter3d",
                  "x": [
                    0.9848818766783369,
                    0.8832431692367165
                  ],
                  "y": [
                    0.11431511782579294,
                    0.5064325079745184
                  ],
                  "z": [
                    0.35672975908309007,
                    -0.26080402365437577
                  ]
                },
                {
                  "hoverinfo": "none",
                  "line": {
                    "color": "gray",
                    "width": 2
                  },
                  "mode": "lines",
                  "type": "scatter3d",
                  "x": [
                    0.48486593492443725,
                    0.07670613417091746
                  ],
                  "y": [
                    0.3315959579478174,
                    0.8639415638256112
                  ],
                  "z": [
                    0.8494029560080089,
                    0.5405455646625207
                  ]
                },
                {
                  "hoverinfo": "none",
                  "line": {
                    "color": "gray",
                    "width": 2
                  },
                  "mode": "lines",
                  "type": "scatter3d",
                  "x": [
                    0.48486593492443725,
                    0
                  ],
                  "y": [
                    0.3315959579478174,
                    0
                  ],
                  "z": [
                    0.8494029560080089,
                    0
                  ]
                },
                {
                  "hoverinfo": "none",
                  "line": {
                    "color": "gray",
                    "width": 2
                  },
                  "mode": "lines",
                  "type": "scatter3d",
                  "x": [
                    0.07670613417091746,
                    -0.6333331315295232
                  ],
                  "y": [
                    0.8639415638256112,
                    0.630776088625667
                  ],
                  "z": [
                    0.5405455646625207,
                    0.5013475155229216
                  ]
                },
                {
                  "hoverinfo": "none",
                  "line": {
                    "color": "gray",
                    "width": 2
                  },
                  "mode": "lines",
                  "type": "scatter3d",
                  "x": [
                    0.07670613417091746,
                    0.3219720164248757
                  ],
                  "y": [
                    0.8639415638256112,
                    0.971877038468599
                  ],
                  "z": [
                    0.5405455646625207,
                    -0.14255032360905615
                  ]
                },
                {
                  "hoverinfo": "none",
                  "line": {
                    "color": "gray",
                    "width": 2
                  },
                  "mode": "lines",
                  "type": "scatter3d",
                  "x": [
                    -0.6333331315295232,
                    -0.8272888314375819
                  ],
                  "y": [
                    0.630776088625667,
                    0.588809036290234
                  ],
                  "z": [
                    0.5013475155229216,
                    -0.2073401042578592
                  ]
                },
                {
                  "hoverinfo": "none",
                  "line": {
                    "color": "gray",
                    "width": 2
                  },
                  "mode": "lines",
                  "type": "scatter3d",
                  "x": [
                    -0.8272888314375819,
                    -0.9805926260206904
                  ],
                  "y": [
                    0.588809036290234,
                    -0.11625419159089719
                  ],
                  "z": [
                    -0.2073401042578592,
                    -0.3575773754580124
                  ]
                },
                {
                  "hoverinfo": "none",
                  "line": {
                    "color": "gray",
                    "width": 2
                  },
                  "mode": "lines",
                  "type": "scatter3d",
                  "x": [
                    -0.8272888314375819,
                    -0.23708622249909742
                  ],
                  "y": [
                    0.588809036290234,
                    0.8019360155463304
                  ],
                  "z": [
                    -0.2073401042578592,
                    -0.5987401986744346
                  ]
                },
                {
                  "hoverinfo": "none",
                  "line": {
                    "color": "gray",
                    "width": 2
                  },
                  "mode": "lines",
                  "type": "scatter3d",
                  "x": [
                    -0.9805926260206904,
                    -0.4809649695978051
                  ],
                  "y": [
                    -0.11625419159089719,
                    -0.33756940177974015
                  ],
                  "z": [
                    -0.3575773754580124,
                    -0.849746905742498
                  ]
                },
                {
                  "hoverinfo": "none",
                  "line": {
                    "color": "gray",
                    "width": 2
                  },
                  "mode": "lines",
                  "type": "scatter3d",
                  "x": [
                    -0.4809649695978051,
                    -0.02521195542786159
                  ],
                  "y": [
                    -0.33756940177974015,
                    0.224121016348295
                  ],
                  "z": [
                    -0.849746905742498,
                    -0.9955426222002488
                  ]
                },
                {
                  "hoverinfo": "none",
                  "line": {
                    "color": "gray",
                    "width": 2
                  },
                  "mode": "lines",
                  "type": "scatter3d",
                  "x": [
                    -0.4809649695978051,
                    -0.07097081577229387
                  ],
                  "y": [
                    -0.33756940177974015,
                    -0.8647687378494254
                  ],
                  "z": [
                    -0.849746905742498,
                    -0.5404488737625257
                  ]
                },
                {
                  "hoverinfo": "none",
                  "line": {
                    "color": "gray",
                    "width": 2
                  },
                  "mode": "lines",
                  "type": "scatter3d",
                  "x": [
                    -0.02521195542786159,
                    -0.23708622249909742
                  ],
                  "y": [
                    0.224121016348295,
                    0.8019360155463304
                  ],
                  "z": [
                    -0.9955426222002488,
                    -0.5987401986744346
                  ]
                },
                {
                  "hoverinfo": "none",
                  "line": {
                    "color": "gray",
                    "width": 2
                  },
                  "mode": "lines",
                  "type": "scatter3d",
                  "x": [
                    -0.02521195542786159,
                    0.6694526106033403
                  ],
                  "y": [
                    0.224121016348295,
                    0.04216866183119446
                  ],
                  "z": [
                    -0.9955426222002488,
                    -0.7882024171603873
                  ]
                },
                {
                  "hoverinfo": "none",
                  "line": {
                    "color": "gray",
                    "width": 2
                  },
                  "mode": "lines",
                  "type": "scatter3d",
                  "x": [
                    -0.23708622249909742,
                    0.3219720164248757
                  ],
                  "y": [
                    0.8019360155463304,
                    0.971877038468599
                  ],
                  "z": [
                    -0.5987401986744346,
                    -0.14255032360905615
                  ]
                },
                {
                  "hoverinfo": "none",
                  "line": {
                    "color": "gray",
                    "width": 2
                  },
                  "mode": "lines",
                  "type": "scatter3d",
                  "x": [
                    -0.23708622249909742,
                    0
                  ],
                  "y": [
                    0.8019360155463304,
                    0
                  ],
                  "z": [
                    -0.5987401986744346,
                    0
                  ]
                },
                {
                  "hoverinfo": "none",
                  "line": {
                    "color": "gray",
                    "width": 2
                  },
                  "mode": "lines",
                  "type": "scatter3d",
                  "x": [
                    0.3219720164248757,
                    0.8832431692367165
                  ],
                  "y": [
                    0.971877038468599,
                    0.5064325079745184
                  ],
                  "z": [
                    -0.14255032360905615,
                    -0.26080402365437577
                  ]
                },
                {
                  "hoverinfo": "none",
                  "line": {
                    "color": "gray",
                    "width": 2
                  },
                  "mode": "lines",
                  "type": "scatter3d",
                  "x": [
                    0.8832431692367165,
                    0.6694526106033403
                  ],
                  "y": [
                    0.5064325079745184,
                    0.04216866183119446
                  ],
                  "z": [
                    -0.26080402365437577,
                    -0.7882024171603873
                  ]
                },
                {
                  "hoverinfo": "none",
                  "line": {
                    "color": "gray",
                    "width": 2
                  },
                  "mode": "lines",
                  "type": "scatter3d",
                  "x": [
                    0.6694526106033403,
                    0.6306300792849716
                  ],
                  "y": [
                    0.04216866183119446,
                    -0.6317396352302795
                  ],
                  "z": [
                    -0.7882024171603873,
                    -0.5024944701626003
                  ]
                },
                {
                  "hoverinfo": "none",
                  "line": {
                    "color": "gray",
                    "width": 2
                  },
                  "mode": "lines",
                  "type": "scatter3d",
                  "x": [
                    0.6306300792849716,
                    -0.07097081577229387
                  ],
                  "y": [
                    -0.6317396352302795,
                    -0.8647687378494254
                  ],
                  "z": [
                    -0.5024944701626003,
                    -0.5404488737625257
                  ]
                },
                {
                  "hoverinfo": "none",
                  "line": {
                    "color": "gray",
                    "width": 2
                  },
                  "mode": "lines",
                  "type": "scatter3d",
                  "x": [
                    0.6306300792849716,
                    0
                  ],
                  "y": [
                    -0.6317396352302795,
                    0
                  ],
                  "z": [
                    -0.5024944701626003,
                    0
                  ]
                },
                {
                  "hoverinfo": "none",
                  "line": {
                    "color": "gray",
                    "width": 2
                  },
                  "mode": "lines",
                  "type": "scatter3d",
                  "x": [
                    -0.07097081577229387,
                    -0.3214350466138466
                  ],
                  "y": [
                    -0.8647687378494254,
                    -0.9673690180039128
                  ],
                  "z": [
                    -0.5404488737625257,
                    0.14072090165895548
                  ]
                },
                {
                  "hoverinfo": "none",
                  "line": {
                    "color": "green",
                    "width": 3
                  },
                  "mode": "lines",
                  "type": "scatter3d",
                  "x": [
                    -0.8841097912046174,
                    -0.6689113983773634
                  ],
                  "y": [
                    -0.5027404634936791,
                    -0.04285895077244006
                  ],
                  "z": [
                    0.25625998266416533,
                    0.7917350953318525
                  ]
                },
                {
                  "hoverinfo": "none",
                  "line": {
                    "color": "green",
                    "width": 3
                  },
                  "mode": "lines",
                  "type": "scatter3d",
                  "x": [
                    -0.8841097912046174,
                    -0.3214350466138466
                  ],
                  "y": [
                    -0.5027404634936791,
                    -0.9673690180039128
                  ],
                  "z": [
                    0.25625998266416533,
                    0.14072090165895548
                  ]
                },
                {
                  "hoverinfo": "none",
                  "line": {
                    "color": "green",
                    "width": 3
                  },
                  "mode": "lines",
                  "type": "scatter3d",
                  "x": [
                    -0.8841097912046174,
                    -0.9805926260206904
                  ],
                  "y": [
                    -0.5027404634936791,
                    -0.11625419159089719
                  ],
                  "z": [
                    0.25625998266416533,
                    -0.3575773754580124
                  ]
                },
                {
                  "hoverinfo": "none",
                  "line": {
                    "color": "green",
                    "width": 3
                  },
                  "mode": "lines",
                  "type": "scatter3d",
                  "x": [
                    -0.8841097912046174,
                    0
                  ],
                  "y": [
                    -0.5027404634936791,
                    0
                  ],
                  "z": [
                    0.25625998266416533,
                    0
                  ]
                },
                {
                  "colorscale": [
                    [
                      0,
                      "green"
                    ],
                    [
                      1,
                      "green"
                    ]
                  ],
                  "showscale": false,
                  "type": "cone",
                  "u": [
                    0.08607935713090163
                  ],
                  "v": [
                    0.18395260508849562
                  ],
                  "w": [
                    0.21419004506707484
                  ],
                  "x": [
                    -0.7119510769428141
                  ],
                  "y": [
                    -0.13483525331668783
                  ],
                  "z": [
                    0.6846400727983151
                  ]
                },
                {
                  "colorscale": [
                    [
                      0,
                      "green"
                    ],
                    [
                      1,
                      "green"
                    ]
                  ],
                  "showscale": false,
                  "type": "cone",
                  "u": [
                    0.22506989783630835
                  ],
                  "v": [
                    -0.18585142180409353
                  ],
                  "w": [
                    -0.04621563240208394
                  ],
                  "x": [
                    -0.4339699955320007
                  ],
                  "y": [
                    -0.8744433071018661
                  ],
                  "z": [
                    0.16382871785999745
                  ]
                },
                {
                  "colorscale": [
                    [
                      0,
                      "green"
                    ],
                    [
                      1,
                      "green"
                    ]
                  ],
                  "showscale": false,
                  "type": "cone",
                  "u": [
                    -0.038593133926429206
                  ],
                  "v": [
                    0.15459450876111278
                  ],
                  "w": [
                    -0.24553494324887107
                  ],
                  "x": [
                    -0.9612960590574758
                  ],
                  "y": [
                    -0.19355144597145352
                  ],
                  "z": [
                    -0.2348099038335768
                  ]
                },
                {
                  "colorscale": [
                    [
                      0,
                      "green"
                    ],
                    [
                      1,
                      "green"
                    ]
                  ],
                  "showscale": false,
                  "type": "cone",
                  "u": [
                    0.353643916481847
                  ],
                  "v": [
                    0.20109618539747165
                  ],
                  "w": [
                    -0.10250399306566614
                  ],
                  "x": [
                    -0.1768219582409234
                  ],
                  "y": [
                    -0.10054809269873577
                  ],
                  "z": [
                    0.05125199653283305
                  ]
                }
              ],
              "layout": {
                "template": {
                  "data": {
                    "bar": [
                      {
                        "error_x": {
                          "color": "#2a3f5f"
                        },
                        "error_y": {
                          "color": "#2a3f5f"
                        },
                        "marker": {
                          "line": {
                            "color": "#E5ECF6",
                            "width": 0.5
                          },
                          "pattern": {
                            "fillmode": "overlay",
                            "size": 10,
                            "solidity": 0.2
                          }
                        },
                        "type": "bar"
                      }
                    ],
                    "barpolar": [
                      {
                        "marker": {
                          "line": {
                            "color": "#E5ECF6",
                            "width": 0.5
                          },
                          "pattern": {
                            "fillmode": "overlay",
                            "size": 10,
                            "solidity": 0.2
                          }
                        },
                        "type": "barpolar"
                      }
                    ],
                    "carpet": [
                      {
                        "aaxis": {
                          "endlinecolor": "#2a3f5f",
                          "gridcolor": "white",
                          "linecolor": "white",
                          "minorgridcolor": "white",
                          "startlinecolor": "#2a3f5f"
                        },
                        "baxis": {
                          "endlinecolor": "#2a3f5f",
                          "gridcolor": "white",
                          "linecolor": "white",
                          "minorgridcolor": "white",
                          "startlinecolor": "#2a3f5f"
                        },
                        "type": "carpet"
                      }
                    ],
                    "choropleth": [
                      {
                        "colorbar": {
                          "outlinewidth": 0,
                          "ticks": ""
                        },
                        "type": "choropleth"
                      }
                    ],
                    "contour": [
                      {
                        "colorbar": {
                          "outlinewidth": 0,
                          "ticks": ""
                        },
                        "colorscale": [
                          [
                            0,
                            "#0d0887"
                          ],
                          [
                            0.1111111111111111,
                            "#46039f"
                          ],
                          [
                            0.2222222222222222,
                            "#7201a8"
                          ],
                          [
                            0.3333333333333333,
                            "#9c179e"
                          ],
                          [
                            0.4444444444444444,
                            "#bd3786"
                          ],
                          [
                            0.5555555555555556,
                            "#d8576b"
                          ],
                          [
                            0.6666666666666666,
                            "#ed7953"
                          ],
                          [
                            0.7777777777777778,
                            "#fb9f3a"
                          ],
                          [
                            0.8888888888888888,
                            "#fdca26"
                          ],
                          [
                            1,
                            "#f0f921"
                          ]
                        ],
                        "type": "contour"
                      }
                    ],
                    "contourcarpet": [
                      {
                        "colorbar": {
                          "outlinewidth": 0,
                          "ticks": ""
                        },
                        "type": "contourcarpet"
                      }
                    ],
                    "heatmap": [
                      {
                        "colorbar": {
                          "outlinewidth": 0,
                          "ticks": ""
                        },
                        "colorscale": [
                          [
                            0,
                            "#0d0887"
                          ],
                          [
                            0.1111111111111111,
                            "#46039f"
                          ],
                          [
                            0.2222222222222222,
                            "#7201a8"
                          ],
                          [
                            0.3333333333333333,
                            "#9c179e"
                          ],
                          [
                            0.4444444444444444,
                            "#bd3786"
                          ],
                          [
                            0.5555555555555556,
                            "#d8576b"
                          ],
                          [
                            0.6666666666666666,
                            "#ed7953"
                          ],
                          [
                            0.7777777777777778,
                            "#fb9f3a"
                          ],
                          [
                            0.8888888888888888,
                            "#fdca26"
                          ],
                          [
                            1,
                            "#f0f921"
                          ]
                        ],
                        "type": "heatmap"
                      }
                    ],
                    "histogram": [
                      {
                        "marker": {
                          "pattern": {
                            "fillmode": "overlay",
                            "size": 10,
                            "solidity": 0.2
                          }
                        },
                        "type": "histogram"
                      }
                    ],
                    "histogram2d": [
                      {
                        "colorbar": {
                          "outlinewidth": 0,
                          "ticks": ""
                        },
                        "colorscale": [
                          [
                            0,
                            "#0d0887"
                          ],
                          [
                            0.1111111111111111,
                            "#46039f"
                          ],
                          [
                            0.2222222222222222,
                            "#7201a8"
                          ],
                          [
                            0.3333333333333333,
                            "#9c179e"
                          ],
                          [
                            0.4444444444444444,
                            "#bd3786"
                          ],
                          [
                            0.5555555555555556,
                            "#d8576b"
                          ],
                          [
                            0.6666666666666666,
                            "#ed7953"
                          ],
                          [
                            0.7777777777777778,
                            "#fb9f3a"
                          ],
                          [
                            0.8888888888888888,
                            "#fdca26"
                          ],
                          [
                            1,
                            "#f0f921"
                          ]
                        ],
                        "type": "histogram2d"
                      }
                    ],
                    "histogram2dcontour": [
                      {
                        "colorbar": {
                          "outlinewidth": 0,
                          "ticks": ""
                        },
                        "colorscale": [
                          [
                            0,
                            "#0d0887"
                          ],
                          [
                            0.1111111111111111,
                            "#46039f"
                          ],
                          [
                            0.2222222222222222,
                            "#7201a8"
                          ],
                          [
                            0.3333333333333333,
                            "#9c179e"
                          ],
                          [
                            0.4444444444444444,
                            "#bd3786"
                          ],
                          [
                            0.5555555555555556,
                            "#d8576b"
                          ],
                          [
                            0.6666666666666666,
                            "#ed7953"
                          ],
                          [
                            0.7777777777777778,
                            "#fb9f3a"
                          ],
                          [
                            0.8888888888888888,
                            "#fdca26"
                          ],
                          [
                            1,
                            "#f0f921"
                          ]
                        ],
                        "type": "histogram2dcontour"
                      }
                    ],
                    "mesh3d": [
                      {
                        "colorbar": {
                          "outlinewidth": 0,
                          "ticks": ""
                        },
                        "type": "mesh3d"
                      }
                    ],
                    "parcoords": [
                      {
                        "line": {
                          "colorbar": {
                            "outlinewidth": 0,
                            "ticks": ""
                          }
                        },
                        "type": "parcoords"
                      }
                    ],
                    "pie": [
                      {
                        "automargin": true,
                        "type": "pie"
                      }
                    ],
                    "scatter": [
                      {
                        "fillpattern": {
                          "fillmode": "overlay",
                          "size": 10,
                          "solidity": 0.2
                        },
                        "type": "scatter"
                      }
                    ],
                    "scatter3d": [
                      {
                        "line": {
                          "colorbar": {
                            "outlinewidth": 0,
                            "ticks": ""
                          }
                        },
                        "marker": {
                          "colorbar": {
                            "outlinewidth": 0,
                            "ticks": ""
                          }
                        },
                        "type": "scatter3d"
                      }
                    ],
                    "scattercarpet": [
                      {
                        "marker": {
                          "colorbar": {
                            "outlinewidth": 0,
                            "ticks": ""
                          }
                        },
                        "type": "scattercarpet"
                      }
                    ],
                    "scattergeo": [
                      {
                        "marker": {
                          "colorbar": {
                            "outlinewidth": 0,
                            "ticks": ""
                          }
                        },
                        "type": "scattergeo"
                      }
                    ],
                    "scattergl": [
                      {
                        "marker": {
                          "colorbar": {
                            "outlinewidth": 0,
                            "ticks": ""
                          }
                        },
                        "type": "scattergl"
                      }
                    ],
                    "scattermap": [
                      {
                        "marker": {
                          "colorbar": {
                            "outlinewidth": 0,
                            "ticks": ""
                          }
                        },
                        "type": "scattermap"
                      }
                    ],
                    "scattermapbox": [
                      {
                        "marker": {
                          "colorbar": {
                            "outlinewidth": 0,
                            "ticks": ""
                          }
                        },
                        "type": "scattermapbox"
                      }
                    ],
                    "scatterpolar": [
                      {
                        "marker": {
                          "colorbar": {
                            "outlinewidth": 0,
                            "ticks": ""
                          }
                        },
                        "type": "scatterpolar"
                      }
                    ],
                    "scatterpolargl": [
                      {
                        "marker": {
                          "colorbar": {
                            "outlinewidth": 0,
                            "ticks": ""
                          }
                        },
                        "type": "scatterpolargl"
                      }
                    ],
                    "scatterternary": [
                      {
                        "marker": {
                          "colorbar": {
                            "outlinewidth": 0,
                            "ticks": ""
                          }
                        },
                        "type": "scatterternary"
                      }
                    ],
                    "surface": [
                      {
                        "colorbar": {
                          "outlinewidth": 0,
                          "ticks": ""
                        },
                        "colorscale": [
                          [
                            0,
                            "#0d0887"
                          ],
                          [
                            0.1111111111111111,
                            "#46039f"
                          ],
                          [
                            0.2222222222222222,
                            "#7201a8"
                          ],
                          [
                            0.3333333333333333,
                            "#9c179e"
                          ],
                          [
                            0.4444444444444444,
                            "#bd3786"
                          ],
                          [
                            0.5555555555555556,
                            "#d8576b"
                          ],
                          [
                            0.6666666666666666,
                            "#ed7953"
                          ],
                          [
                            0.7777777777777778,
                            "#fb9f3a"
                          ],
                          [
                            0.8888888888888888,
                            "#fdca26"
                          ],
                          [
                            1,
                            "#f0f921"
                          ]
                        ],
                        "type": "surface"
                      }
                    ],
                    "table": [
                      {
                        "cells": {
                          "fill": {
                            "color": "#EBF0F8"
                          },
                          "line": {
                            "color": "white"
                          }
                        },
                        "header": {
                          "fill": {
                            "color": "#C8D4E3"
                          },
                          "line": {
                            "color": "white"
                          }
                        },
                        "type": "table"
                      }
                    ]
                  },
                  "layout": {
                    "annotationdefaults": {
                      "arrowcolor": "#2a3f5f",
                      "arrowhead": 0,
                      "arrowwidth": 1
                    },
                    "autotypenumbers": "strict",
                    "coloraxis": {
                      "colorbar": {
                        "outlinewidth": 0,
                        "ticks": ""
                      }
                    },
                    "colorscale": {
                      "diverging": [
                        [
                          0,
                          "#8e0152"
                        ],
                        [
                          0.1,
                          "#c51b7d"
                        ],
                        [
                          0.2,
                          "#de77ae"
                        ],
                        [
                          0.3,
                          "#f1b6da"
                        ],
                        [
                          0.4,
                          "#fde0ef"
                        ],
                        [
                          0.5,
                          "#f7f7f7"
                        ],
                        [
                          0.6,
                          "#e6f5d0"
                        ],
                        [
                          0.7,
                          "#b8e186"
                        ],
                        [
                          0.8,
                          "#7fbc41"
                        ],
                        [
                          0.9,
                          "#4d9221"
                        ],
                        [
                          1,
                          "#276419"
                        ]
                      ],
                      "sequential": [
                        [
                          0,
                          "#0d0887"
                        ],
                        [
                          0.1111111111111111,
                          "#46039f"
                        ],
                        [
                          0.2222222222222222,
                          "#7201a8"
                        ],
                        [
                          0.3333333333333333,
                          "#9c179e"
                        ],
                        [
                          0.4444444444444444,
                          "#bd3786"
                        ],
                        [
                          0.5555555555555556,
                          "#d8576b"
                        ],
                        [
                          0.6666666666666666,
                          "#ed7953"
                        ],
                        [
                          0.7777777777777778,
                          "#fb9f3a"
                        ],
                        [
                          0.8888888888888888,
                          "#fdca26"
                        ],
                        [
                          1,
                          "#f0f921"
                        ]
                      ],
                      "sequentialminus": [
                        [
                          0,
                          "#0d0887"
                        ],
                        [
                          0.1111111111111111,
                          "#46039f"
                        ],
                        [
                          0.2222222222222222,
                          "#7201a8"
                        ],
                        [
                          0.3333333333333333,
                          "#9c179e"
                        ],
                        [
                          0.4444444444444444,
                          "#bd3786"
                        ],
                        [
                          0.5555555555555556,
                          "#d8576b"
                        ],
                        [
                          0.6666666666666666,
                          "#ed7953"
                        ],
                        [
                          0.7777777777777778,
                          "#fb9f3a"
                        ],
                        [
                          0.8888888888888888,
                          "#fdca26"
                        ],
                        [
                          1,
                          "#f0f921"
                        ]
                      ]
                    },
                    "colorway": [
                      "#636efa",
                      "#EF553B",
                      "#00cc96",
                      "#ab63fa",
                      "#FFA15A",
                      "#19d3f3",
                      "#FF6692",
                      "#B6E880",
                      "#FF97FF",
                      "#FECB52"
                    ],
                    "font": {
                      "color": "#2a3f5f"
                    },
                    "geo": {
                      "bgcolor": "white",
                      "lakecolor": "white",
                      "landcolor": "#E5ECF6",
                      "showlakes": true,
                      "showland": true,
                      "subunitcolor": "white"
                    },
                    "hoverlabel": {
                      "align": "left"
                    },
                    "hovermode": "closest",
                    "mapbox": {
                      "style": "light"
                    },
                    "paper_bgcolor": "white",
                    "plot_bgcolor": "#E5ECF6",
                    "polar": {
                      "angularaxis": {
                        "gridcolor": "white",
                        "linecolor": "white",
                        "ticks": ""
                      },
                      "bgcolor": "#E5ECF6",
                      "radialaxis": {
                        "gridcolor": "white",
                        "linecolor": "white",
                        "ticks": ""
                      }
                    },
                    "scene": {
                      "xaxis": {
                        "backgroundcolor": "#E5ECF6",
                        "gridcolor": "white",
                        "gridwidth": 2,
                        "linecolor": "white",
                        "showbackground": true,
                        "ticks": "",
                        "zerolinecolor": "white"
                      },
                      "yaxis": {
                        "backgroundcolor": "#E5ECF6",
                        "gridcolor": "white",
                        "gridwidth": 2,
                        "linecolor": "white",
                        "showbackground": true,
                        "ticks": "",
                        "zerolinecolor": "white"
                      },
                      "zaxis": {
                        "backgroundcolor": "#E5ECF6",
                        "gridcolor": "white",
                        "gridwidth": 2,
                        "linecolor": "white",
                        "showbackground": true,
                        "ticks": "",
                        "zerolinecolor": "white"
                      }
                    },
                    "shapedefaults": {
                      "line": {
                        "color": "#2a3f5f"
                      }
                    },
                    "ternary": {
                      "aaxis": {
                        "gridcolor": "white",
                        "linecolor": "white",
                        "ticks": ""
                      },
                      "baxis": {
                        "gridcolor": "white",
                        "linecolor": "white",
                        "ticks": ""
                      },
                      "bgcolor": "#E5ECF6",
                      "caxis": {
                        "gridcolor": "white",
                        "linecolor": "white",
                        "ticks": ""
                      }
                    },
                    "title": {
                      "x": 0.05
                    },
                    "xaxis": {
                      "automargin": true,
                      "gridcolor": "white",
                      "linecolor": "white",
                      "ticks": "",
                      "title": {
                        "standoff": 15
                      },
                      "zerolinecolor": "white",
                      "zerolinewidth": 2
                    },
                    "yaxis": {
                      "automargin": true,
                      "gridcolor": "white",
                      "linecolor": "white",
                      "ticks": "",
                      "title": {
                        "standoff": 15
                      },
                      "zerolinecolor": "white",
                      "zerolinewidth": 2
                    }
                  }
                }
              }
            }
          },
          "metadata": {},
          "output_type": "display_data"
        }
      ],
      "source": [
        "cation = 0\n",
        "\n",
        "# prefixed directed edges.\n",
        "fixed = []\n",
        "for node in g.neighbors(cation):\n",
        "    fixed.append([cation, node])\n",
        "\n",
        "draw_graph(g, pos, dopant=[cation], fixed=fixed)"
      ]
    },
    {
      "cell_type": "markdown",
      "metadata": {},
      "source": [
        "Other edges are arranged appropriately by the GenIce-core.\n"
      ]
    },
    {
      "cell_type": "code",
      "execution_count": 45,
      "metadata": {
        "id": "6d-3otwO9kh0"
      },
      "outputs": [
        {
          "data": {
            "application/vnd.plotly.v1+json": {
              "config": {
                "plotlyServerURL": "https://plot.ly"
              },
              "data": [
                {
                  "marker": {
                    "color": "blue",
                    "size": 2
                  },
                  "mode": "markers+text",
                  "text": [
                    "1",
                    "2",
                    "3",
                    "4",
                    "5",
                    "6",
                    "7",
                    "8",
                    "9",
                    "10",
                    "11",
                    "12",
                    "13",
                    "14",
                    "15",
                    "16",
                    "17",
                    "18",
                    "19",
                    "20"
                  ],
                  "textposition": "top center",
                  "type": "scatter3d",
                  "x": {
                    "bdata": "adTQB1p30D/PPeMZcEPLP9zG0rSgquU/HqODIU/M0j/y3cKr09zZv9wGB+0zCd2/dLqEyG9f6r8tuq4OnaXYv6r8gHb8A9O/RG9yOYWd2T+JIfyDfLPcPzvhoeHJGsu/OkKi/vaK5b+sjT+tWvfvv5Vuw/XHq+e/8pnrXU5I0L9j5YS94wvZP+maO6LfRuo/AAAAAAAA8D8AAAAAAAAAAA==",
                    "dtype": "f8"
                  },
                  "y": {
                    "bdata": "KIhP4Emi5j8M9q45qorvP1wABRDcyeM/dwZmuHW70j/QO2WtQ7rcP2sXBCt1F+w/pxI7QcvP4D8q1ICZJ5vbP6ZJ8vGR+dG/jYrjAtyj3L9rdBbGnFHsvwgyFOp6ku+/X1gqQsDL47+rpsphEti+v4vg461YwcW/5P4gTnaC5r+f3QOP4Ozavzv2EeYFIuG/tlsYNC0fvT8AAAAAAAAAAA==",
                    "dtype": "f8"
                  },
                  "z": {
                    "bdata": "VhxKBhqA5b8yOrX7yLZyv272Ssp1Gto/BCJ7N+S77T9Wz2u/LOHqPxru4c9k29A/K68YGicx0L+mt0Rkonjqv9533rNzre2/fAfMo+/c6r+1VVbwcKDQv0pJ5rSI43Y/Y9qQNv1O2r+hgvs3u4WDPw3TJ0k1z+U/ShhTaW6X5T977GkZZXfqP+3Qr91DCNA/nU5Yz+Uch78AAAAAAAAAAA==",
                    "dtype": "f8"
                  }
                },
                {
                  "marker": {
                    "color": "red",
                    "size": 4
                  },
                  "mode": "markers+text",
                  "text": [
                    "0"
                  ],
                  "textposition": "top center",
                  "type": "scatter3d",
                  "x": {
                    "bdata": "BeTZ8I+t5z8=",
                    "dtype": "f8"
                  },
                  "y": {
                    "bdata": "uGrtjrRpxT8=",
                    "dtype": "f8"
                  },
                  "z": {
                    "bdata": "2c8Vcbvg5b8=",
                    "dtype": "f8"
                  }
                },
                {
                  "hoverinfo": "none",
                  "line": {
                    "color": "green",
                    "width": 3
                  },
                  "mode": "lines",
                  "type": "scatter3d",
                  "x": [
                    0.7399368003963224,
                    0.2572846485448453
                  ],
                  "y": [
                    0.1672883699310057,
                    0.7073106175487327
                  ],
                  "z": [
                    -0.6836831291861883,
                    -0.6718874094812104
                  ]
                },
                {
                  "hoverinfo": "none",
                  "line": {
                    "color": "green",
                    "width": 3
                  },
                  "mode": "lines",
                  "type": "scatter3d",
                  "x": [
                    0.7399368003963224,
                    1
                  ],
                  "y": [
                    0.1672883699310057,
                    0.11375696679929956
                  ],
                  "z": [
                    -0.6836831291861883,
                    -0.011285586729207703
                  ]
                },
                {
                  "hoverinfo": "none",
                  "line": {
                    "color": "green",
                    "width": 3
                  },
                  "mode": "lines",
                  "type": "scatter3d",
                  "x": [
                    0.7399368003963224,
                    0.400239282703968
                  ],
                  "y": [
                    0.1672883699310057,
                    -0.4475011852465876
                  ],
                  "z": [
                    -0.6836831291861883,
                    -0.8394697379264779
                  ]
                },
                {
                  "hoverinfo": "none",
                  "line": {
                    "color": "green",
                    "width": 3
                  },
                  "mode": "lines",
                  "type": "scatter3d",
                  "x": [
                    0.7399368003963224,
                    0
                  ],
                  "y": [
                    0.1672883699310057,
                    0
                  ],
                  "z": [
                    -0.6836831291861883,
                    0
                  ]
                },
                {
                  "hoverinfo": "none",
                  "line": {
                    "color": "green",
                    "width": 3
                  },
                  "mode": "lines",
                  "type": "scatter3d",
                  "x": [
                    0.2572846485448453,
                    -0.385108246172339
                  ],
                  "y": [
                    0.7073106175487327,
                    0.4313448905043652
                  ],
                  "z": [
                    -0.6718874094812104,
                    -0.8272258718841285
                  ]
                },
                {
                  "hoverinfo": "none",
                  "line": {
                    "color": "green",
                    "width": 3
                  },
                  "mode": "lines",
                  "type": "scatter3d",
                  "x": [
                    1,
                    0.8211515587434778
                  ],
                  "y": [
                    0.11375696679929956,
                    -0.5354032033498649
                  ],
                  "z": [
                    -0.011285586729207703,
                    0.2505044617567041
                  ]
                },
                {
                  "hoverinfo": "none",
                  "line": {
                    "color": "green",
                    "width": 3
                  },
                  "mode": "lines",
                  "type": "scatter3d",
                  "x": [
                    1,
                    0.6770785838800424
                  ],
                  "y": [
                    0.11375696679929956,
                    0.6183910668260171
                  ],
                  "z": [
                    -0.011285586729207703,
                    0.40786499743612736
                  ]
                },
                {
                  "hoverinfo": "none",
                  "line": {
                    "color": "green",
                    "width": 3
                  },
                  "mode": "lines",
                  "type": "scatter3d",
                  "x": [
                    0.400239282703968,
                    -0.29711829731599926
                  ],
                  "y": [
                    -0.4475011852465876,
                    -0.2808575499303977
                  ],
                  "z": [
                    -0.8394697379264779,
                    -0.9274233353678445
                  ]
                },
                {
                  "hoverinfo": "none",
                  "line": {
                    "color": "green",
                    "width": 3
                  },
                  "mode": "lines",
                  "type": "scatter3d",
                  "x": [
                    0,
                    -0.6732134793583733
                  ],
                  "y": [
                    0,
                    -0.6186219494145567
                  ],
                  "z": [
                    0,
                    -0.41107111290640413
                  ]
                },
                {
                  "hoverinfo": "none",
                  "line": {
                    "color": "green",
                    "width": 3
                  },
                  "mode": "lines",
                  "type": "scatter3d",
                  "x": [
                    0,
                    -0.4536866965027977
                  ],
                  "y": [
                    0,
                    0.8778634872585206
                  ],
                  "z": [
                    0,
                    0.26339073468236196
                  ]
                },
                {
                  "hoverinfo": "none",
                  "line": {
                    "color": "green",
                    "width": 3
                  },
                  "mode": "lines",
                  "type": "scatter3d",
                  "x": [
                    -0.385108246172339,
                    -0.29711829731599926
                  ],
                  "y": [
                    0.4313448905043652,
                    -0.2808575499303977
                  ],
                  "z": [
                    -0.8272258718841285,
                    -0.9274233353678445
                  ]
                },
                {
                  "hoverinfo": "none",
                  "line": {
                    "color": "green",
                    "width": 3
                  },
                  "mode": "lines",
                  "type": "scatter3d",
                  "x": [
                    -0.385108246172339,
                    -0.8241499821068161
                  ],
                  "y": [
                    0.4313448905043652,
                    0.5253654741323616
                  ],
                  "z": [
                    -0.8272258718841285,
                    -0.2530000452850227
                  ]
                },
                {
                  "hoverinfo": "none",
                  "line": {
                    "color": "green",
                    "width": 3
                  },
                  "mode": "lines",
                  "type": "scatter3d",
                  "x": [
                    -0.29711829731599926,
                    -0.6732134793583733
                  ],
                  "y": [
                    -0.2808575499303977,
                    -0.6186219494145567
                  ],
                  "z": [
                    -0.9274233353678445,
                    -0.41107111290640413
                  ]
                },
                {
                  "hoverinfo": "none",
                  "line": {
                    "color": "green",
                    "width": 3
                  },
                  "mode": "lines",
                  "type": "scatter3d",
                  "x": [
                    -0.6732134793583733,
                    -0.211755023166697
                  ],
                  "y": [
                    -0.6186219494145567,
                    -0.9866308757642068
                  ],
                  "z": [
                    -0.41107111290640413,
                    0.0055880870917398105
                  ]
                },
                {
                  "hoverinfo": "none",
                  "line": {
                    "color": "green",
                    "width": 3
                  },
                  "mode": "lines",
                  "type": "scatter3d",
                  "x": [
                    -0.6732134793583733,
                    -0.998944605231761
                  ],
                  "y": [
                    -0.6186219494145567,
                    -0.12048449408998844
                  ],
                  "z": [
                    -0.41107111290640413,
                    0.00953241600603977
                  ]
                },
                {
                  "hoverinfo": "none",
                  "line": {
                    "color": "green",
                    "width": 3
                  },
                  "mode": "lines",
                  "type": "scatter3d",
                  "x": [
                    -0.211755023166697,
                    0.4484549797930631
                  ],
                  "y": [
                    -0.9866308757642068,
                    -0.8849624508762991
                  ],
                  "z": [
                    0.0055880870917398105,
                    -0.25979255171236143
                  ]
                },
                {
                  "hoverinfo": "none",
                  "line": {
                    "color": "green",
                    "width": 3
                  },
                  "mode": "lines",
                  "type": "scatter3d",
                  "x": [
                    -0.998944605231761,
                    -0.7397193718019986
                  ],
                  "y": [
                    -0.12048449408998844,
                    -0.16996296396951424
                  ],
                  "z": [
                    0.00953241600603977,
                    0.6815439633197414
                  ]
                },
                {
                  "hoverinfo": "none",
                  "line": {
                    "color": "green",
                    "width": 3
                  },
                  "mode": "lines",
                  "type": "scatter3d",
                  "x": [
                    0.8211515587434778,
                    0.39135068423964564
                  ],
                  "y": [
                    -0.5354032033498649,
                    -0.4207078358299103
                  ],
                  "z": [
                    0.2505044617567041,
                    0.827074575077304
                  ]
                },
                {
                  "hoverinfo": "none",
                  "line": {
                    "color": "green",
                    "width": 3
                  },
                  "mode": "lines",
                  "type": "scatter3d",
                  "x": [
                    0.39135068423964564,
                    0
                  ],
                  "y": [
                    -0.4207078358299103,
                    0
                  ],
                  "z": [
                    0.827074575077304,
                    0
                  ]
                },
                {
                  "hoverinfo": "none",
                  "line": {
                    "color": "green",
                    "width": 3
                  },
                  "mode": "lines",
                  "type": "scatter3d",
                  "x": [
                    0.39135068423964564,
                    0.29372003815528724
                  ],
                  "y": [
                    -0.4207078358299103,
                    0.2926916409270243
                  ],
                  "z": [
                    0.827074575077304,
                    0.9291859706509631
                  ]
                },
                {
                  "hoverinfo": "none",
                  "line": {
                    "color": "green",
                    "width": 3
                  },
                  "mode": "lines",
                  "type": "scatter3d",
                  "x": [
                    -0.4536866965027977,
                    -0.4041032006602726
                  ],
                  "y": [
                    0.8778634872585206,
                    0.44886867459439106
                  ],
                  "z": [
                    0.26339073468236196,
                    0.8399871576971047
                  ]
                },
                {
                  "hoverinfo": "none",
                  "line": {
                    "color": "green",
                    "width": 3
                  },
                  "mode": "lines",
                  "type": "scatter3d",
                  "x": [
                    -0.4536866965027977,
                    0.21299554122968664
                  ],
                  "y": [
                    0.8778634872585206,
                    0.9856768728856777
                  ],
                  "z": [
                    0.26339073468236196,
                    -0.004568848696477933
                  ]
                },
                {
                  "hoverinfo": "none",
                  "line": {
                    "color": "green",
                    "width": 3
                  },
                  "mode": "lines",
                  "type": "scatter3d",
                  "x": [
                    -0.4041032006602726,
                    -0.7397193718019986
                  ],
                  "y": [
                    0.44886867459439106,
                    -0.16996296396951424
                  ],
                  "z": [
                    0.8399871576971047,
                    0.6815439633197414
                  ]
                },
                {
                  "hoverinfo": "none",
                  "line": {
                    "color": "green",
                    "width": 3
                  },
                  "mode": "lines",
                  "type": "scatter3d",
                  "x": [
                    -0.7397193718019986,
                    -0.2544132153692821
                  ],
                  "y": [
                    -0.16996296396951424,
                    -0.7034255529360647
                  ],
                  "z": [
                    0.6815439633197414,
                    0.6747352654572378
                  ]
                },
                {
                  "hoverinfo": "none",
                  "line": {
                    "color": "green",
                    "width": 3
                  },
                  "mode": "lines",
                  "type": "scatter3d",
                  "x": [
                    -0.8241499821068161,
                    -0.4536866965027977
                  ],
                  "y": [
                    0.5253654741323616,
                    0.8778634872585206
                  ],
                  "z": [
                    -0.2530000452850227,
                    0.26339073468236196
                  ]
                },
                {
                  "hoverinfo": "none",
                  "line": {
                    "color": "green",
                    "width": 3
                  },
                  "mode": "lines",
                  "type": "scatter3d",
                  "x": [
                    -0.8241499821068161,
                    -0.998944605231761
                  ],
                  "y": [
                    0.5253654741323616,
                    -0.12048449408998844
                  ],
                  "z": [
                    -0.2530000452850227,
                    0.00953241600603977
                  ]
                },
                {
                  "hoverinfo": "none",
                  "line": {
                    "color": "green",
                    "width": 3
                  },
                  "mode": "lines",
                  "type": "scatter3d",
                  "x": [
                    0.21299554122968664,
                    0.2572846485448453
                  ],
                  "y": [
                    0.9856768728856777,
                    0.7073106175487327
                  ],
                  "z": [
                    -0.004568848696477933,
                    -0.6718874094812104
                  ]
                },
                {
                  "hoverinfo": "none",
                  "line": {
                    "color": "green",
                    "width": 3
                  },
                  "mode": "lines",
                  "type": "scatter3d",
                  "x": [
                    0.6770785838800424,
                    0.29372003815528724
                  ],
                  "y": [
                    0.6183910668260171,
                    0.2926916409270243
                  ],
                  "z": [
                    0.40786499743612736,
                    0.9291859706509631
                  ]
                },
                {
                  "hoverinfo": "none",
                  "line": {
                    "color": "green",
                    "width": 3
                  },
                  "mode": "lines",
                  "type": "scatter3d",
                  "x": [
                    0.6770785838800424,
                    0.21299554122968664
                  ],
                  "y": [
                    0.6183910668260171,
                    0.9856768728856777
                  ],
                  "z": [
                    0.40786499743612736,
                    -0.004568848696477933
                  ]
                },
                {
                  "hoverinfo": "none",
                  "line": {
                    "color": "green",
                    "width": 3
                  },
                  "mode": "lines",
                  "type": "scatter3d",
                  "x": [
                    0.29372003815528724,
                    -0.4041032006602726
                  ],
                  "y": [
                    0.2926916409270243,
                    0.44886867459439106
                  ],
                  "z": [
                    0.9291859706509631,
                    0.8399871576971047
                  ]
                },
                {
                  "hoverinfo": "none",
                  "line": {
                    "color": "green",
                    "width": 3
                  },
                  "mode": "lines",
                  "type": "scatter3d",
                  "x": [
                    -0.2544132153692821,
                    0.39135068423964564
                  ],
                  "y": [
                    -0.7034255529360647,
                    -0.4207078358299103
                  ],
                  "z": [
                    0.6747352654572378,
                    0.827074575077304
                  ]
                },
                {
                  "hoverinfo": "none",
                  "line": {
                    "color": "green",
                    "width": 3
                  },
                  "mode": "lines",
                  "type": "scatter3d",
                  "x": [
                    -0.2544132153692821,
                    -0.211755023166697
                  ],
                  "y": [
                    -0.7034255529360647,
                    -0.9866308757642068
                  ],
                  "z": [
                    0.6747352654572378,
                    0.0055880870917398105
                  ]
                },
                {
                  "hoverinfo": "none",
                  "line": {
                    "color": "green",
                    "width": 3
                  },
                  "mode": "lines",
                  "type": "scatter3d",
                  "x": [
                    0.4484549797930631,
                    0.400239282703968
                  ],
                  "y": [
                    -0.8849624508762991,
                    -0.4475011852465876
                  ],
                  "z": [
                    -0.25979255171236143,
                    -0.8394697379264779
                  ]
                },
                {
                  "hoverinfo": "none",
                  "line": {
                    "color": "green",
                    "width": 3
                  },
                  "mode": "lines",
                  "type": "scatter3d",
                  "x": [
                    0.4484549797930631,
                    0.8211515587434778
                  ],
                  "y": [
                    -0.8849624508762991,
                    -0.5354032033498649
                  ],
                  "z": [
                    -0.25979255171236143,
                    0.2505044617567041
                  ]
                },
                {
                  "colorscale": [
                    [
                      0,
                      "green"
                    ],
                    [
                      1,
                      "green"
                    ]
                  ],
                  "showscale": false,
                  "type": "cone",
                  "u": [
                    -0.19306086074059084
                  ],
                  "v": [
                    0.2160088990470908
                  ],
                  "w": [
                    0.00471828788199118
                  ],
                  "x": [
                    0.3538150789151407
                  ],
                  "y": [
                    0.5993061680251873
                  ],
                  "z": [
                    -0.674246553422206
                  ]
                },
                {
                  "colorscale": [
                    [
                      0,
                      "green"
                    ],
                    [
                      1,
                      "green"
                    ]
                  ],
                  "showscale": false,
                  "type": "cone",
                  "u": [
                    0.10402527984147106
                  ],
                  "v": [
                    -0.021412561252682462
                  ],
                  "w": [
                    0.2689590169827923
                  ],
                  "x": [
                    0.9479873600792645
                  ],
                  "y": [
                    0.12446324742564079
                  ],
                  "z": [
                    -0.14576509522060377
                  ]
                },
                {
                  "colorscale": [
                    [
                      0,
                      "green"
                    ],
                    [
                      1,
                      "green"
                    ]
                  ],
                  "showscale": false,
                  "type": "cone",
                  "u": [
                    -0.13587900707694175
                  ],
                  "v": [
                    -0.24591582207103732
                  ],
                  "w": [
                    -0.062314643496115846
                  ],
                  "x": [
                    0.46817878624243886
                  ],
                  "y": [
                    -0.32454327421106893
                  ],
                  "z": [
                    -0.8083124161784201
                  ]
                },
                {
                  "colorscale": [
                    [
                      0,
                      "green"
                    ],
                    [
                      1,
                      "green"
                    ]
                  ],
                  "showscale": false,
                  "type": "cone",
                  "u": [
                    -0.29597472015852894
                  ],
                  "v": [
                    -0.06691534797240228
                  ],
                  "w": [
                    0.27347325167447534
                  ],
                  "x": [
                    0.1479873600792645
                  ],
                  "y": [
                    0.03345767398620114
                  ],
                  "z": [
                    -0.13673662583723767
                  ]
                },
                {
                  "colorscale": [
                    [
                      0,
                      "green"
                    ],
                    [
                      1,
                      "green"
                    ]
                  ],
                  "showscale": false,
                  "type": "cone",
                  "u": [
                    -0.25695715788687373
                  ],
                  "v": [
                    -0.11038629081774701
                  ],
                  "w": [
                    -0.062135384961167266
                  ],
                  "x": [
                    -0.2566296672289022
                  ],
                  "y": [
                    0.4865380359132387
                  ],
                  "z": [
                    -0.7961581794035449
                  ]
                },
                {
                  "colorscale": [
                    [
                      0,
                      "green"
                    ],
                    [
                      1,
                      "green"
                    ]
                  ],
                  "showscale": false,
                  "type": "cone",
                  "u": [
                    -0.07153937650260889
                  ],
                  "v": [
                    -0.2596640680596658
                  ],
                  "w": [
                    0.10471601939436473
                  ],
                  "x": [
                    0.8569212469947822
                  ],
                  "y": [
                    -0.405571169320032
                  ],
                  "z": [
                    0.19814645205952175
                  ]
                },
                {
                  "colorscale": [
                    [
                      0,
                      "green"
                    ],
                    [
                      1,
                      "green"
                    ]
                  ],
                  "showscale": false,
                  "type": "cone",
                  "u": [
                    -0.12916856644798305
                  ],
                  "v": [
                    0.201853640010687
                  ],
                  "w": [
                    0.16766023366613403
                  ],
                  "x": [
                    0.741662867104034
                  ],
                  "y": [
                    0.5174642468206736
                  ],
                  "z": [
                    0.32403488060306035
                  ]
                },
                {
                  "colorscale": [
                    [
                      0,
                      "green"
                    ],
                    [
                      1,
                      "green"
                    ]
                  ],
                  "showscale": false,
                  "type": "cone",
                  "u": [
                    -0.2789430320079869
                  ],
                  "v": [
                    0.06665745412647597
                  ],
                  "w": [
                    -0.035181438976546624
                  ],
                  "x": [
                    -0.15764678131200582
                  ],
                  "y": [
                    -0.31418627699363566
                  ],
                  "z": [
                    -0.9098326158795712
                  ]
                },
                {
                  "colorscale": [
                    [
                      0,
                      "green"
                    ],
                    [
                      1,
                      "green"
                    ]
                  ],
                  "showscale": false,
                  "type": "cone",
                  "u": [
                    -0.2692853917433493
                  ],
                  "v": [
                    -0.2474487797658227
                  ],
                  "w": [
                    -0.16442844516256166
                  ],
                  "x": [
                    -0.5385707834866986
                  ],
                  "y": [
                    -0.4948975595316454
                  ],
                  "z": [
                    -0.32885689032512333
                  ]
                },
                {
                  "colorscale": [
                    [
                      0,
                      "green"
                    ],
                    [
                      1,
                      "green"
                    ]
                  ],
                  "showscale": false,
                  "type": "cone",
                  "u": [
                    -0.1814746786011191
                  ],
                  "v": [
                    0.35114539490340824
                  ],
                  "w": [
                    0.10535629387294479
                  ],
                  "x": [
                    -0.3629493572022382
                  ],
                  "y": [
                    0.7022907898068165
                  ],
                  "z": [
                    0.21071258774588958
                  ]
                },
                {
                  "colorscale": [
                    [
                      0,
                      "green"
                    ],
                    [
                      1,
                      "green"
                    ]
                  ],
                  "showscale": false,
                  "type": "cone",
                  "u": [
                    0.03519597954253591
                  ],
                  "v": [
                    -0.2848809761739052
                  ],
                  "w": [
                    -0.04007898539348638
                  ],
                  "x": [
                    -0.3147162870872672
                  ],
                  "y": [
                    -0.13841706184344515
                  ],
                  "z": [
                    -0.9073838426711013
                  ]
                },
                {
                  "colorscale": [
                    [
                      0,
                      "green"
                    ],
                    [
                      1,
                      "green"
                    ]
                  ],
                  "showscale": false,
                  "type": "cone",
                  "u": [
                    -0.17561669437379085
                  ],
                  "v": [
                    0.03760823345119855
                  ],
                  "w": [
                    0.22969033063964234
                  ],
                  "x": [
                    -0.7363416349199208
                  ],
                  "y": [
                    0.5065613574067623
                  ],
                  "z": [
                    -0.3678452106048439
                  ]
                },
                {
                  "colorscale": [
                    [
                      0,
                      "green"
                    ],
                    [
                      1,
                      "green"
                    ]
                  ],
                  "showscale": false,
                  "type": "cone",
                  "u": [
                    -0.15043807281694963
                  ],
                  "v": [
                    -0.13510575979366363
                  ],
                  "w": [
                    0.20654088898457612
                  ],
                  "x": [
                    -0.5979944429498985
                  ],
                  "y": [
                    -0.5510690695177249
                  ],
                  "z": [
                    -0.5143415573986923
                  ]
                },
                {
                  "colorscale": [
                    [
                      0,
                      "green"
                    ],
                    [
                      1,
                      "green"
                    ]
                  ],
                  "showscale": false,
                  "type": "cone",
                  "u": [
                    0.1845833824766705
                  ],
                  "v": [
                    -0.14720357053986005
                  ],
                  "w": [
                    0.16666367999925757
                  ],
                  "x": [
                    -0.3040467144050323
                  ],
                  "y": [
                    -0.9130290904942768
                  ],
                  "z": [
                    -0.07774375290788899
                  ]
                },
                {
                  "colorscale": [
                    [
                      0,
                      "green"
                    ],
                    [
                      1,
                      "green"
                    ]
                  ],
                  "showscale": false,
                  "type": "cone",
                  "u": [
                    -0.13029245034935508
                  ],
                  "v": [
                    0.1992549821298273
                  ],
                  "w": [
                    0.16824141156497757
                  ],
                  "x": [
                    -0.9337983800570835
                  ],
                  "y": [
                    -0.2201119851549021
                  ],
                  "z": [
                    -0.07458828977644899
                  ]
                },
                {
                  "colorscale": [
                    [
                      0,
                      "green"
                    ],
                    [
                      1,
                      "green"
                    ]
                  ],
                  "showscale": false,
                  "type": "cone",
                  "u": [
                    0.264084001183904
                  ],
                  "v": [
                    0.040667369955163096
                  ],
                  "w": [
                    -0.1061522555216405
                  ],
                  "x": [
                    0.316412979201111
                  ],
                  "y": [
                    -0.9052961358538807
                  ],
                  "z": [
                    -0.2067164239515412
                  ]
                },
                {
                  "colorscale": [
                    [
                      0,
                      "green"
                    ],
                    [
                      1,
                      "green"
                    ]
                  ],
                  "showscale": false,
                  "type": "cone",
                  "u": [
                    0.10369009337190493
                  ],
                  "v": [
                    -0.01979138795181032
                  ],
                  "w": [
                    0.26880461892548063
                  ],
                  "x": [
                    -0.7915644184879511
                  ],
                  "y": [
                    -0.1600672699936091
                  ],
                  "z": [
                    0.5471416538570011
                  ]
                },
                {
                  "colorscale": [
                    [
                      0,
                      "green"
                    ],
                    [
                      1,
                      "green"
                    ]
                  ],
                  "showscale": false,
                  "type": "cone",
                  "u": [
                    -0.17192034980153287
                  ],
                  "v": [
                    0.04587814700798185
                  ],
                  "w": [
                    0.23062804532823994
                  ],
                  "x": [
                    0.47731085914041205
                  ],
                  "y": [
                    -0.4436469093339012
                  ],
                  "z": [
                    0.711760552413184
                  ]
                },
                {
                  "colorscale": [
                    [
                      0,
                      "green"
                    ],
                    [
                      1,
                      "green"
                    ]
                  ],
                  "showscale": false,
                  "type": "cone",
                  "u": [
                    -0.15654027369585827
                  ],
                  "v": [
                    0.16828313433196412
                  ],
                  "w": [
                    -0.3308298300309216
                  ],
                  "x": [
                    0.0782701368479291
                  ],
                  "y": [
                    -0.08414156716598203
                  ],
                  "z": [
                    0.1654149150154608
                  ]
                },
                {
                  "colorscale": [
                    [
                      0,
                      "green"
                    ],
                    [
                      1,
                      "green"
                    ]
                  ],
                  "showscale": false,
                  "type": "cone",
                  "u": [
                    -0.03905225843374336
                  ],
                  "v": [
                    0.28535979070277384
                  ],
                  "w": [
                    0.040844558229463646
                  ],
                  "x": [
                    0.31324616737215893
                  ],
                  "y": [
                    0.1500117455756374
                  ],
                  "z": [
                    0.9087636915362313
                  ]
                },
                {
                  "colorscale": [
                    [
                      0,
                      "green"
                    ],
                    [
                      1,
                      "green"
                    ]
                  ],
                  "showscale": false,
                  "type": "cone",
                  "u": [
                    0.019833398337010033
                  ],
                  "v": [
                    -0.17159792506565183
                  ],
                  "w": [
                    0.23063856920589712
                  ],
                  "x": [
                    -0.4140198998287776
                  ],
                  "y": [
                    0.534667637127217
                  ],
                  "z": [
                    0.7246678730941563
                  ]
                },
                {
                  "colorscale": [
                    [
                      0,
                      "green"
                    ],
                    [
                      1,
                      "green"
                    ]
                  ],
                  "showscale": false,
                  "type": "cone",
                  "u": [
                    0.26667289509299374
                  ],
                  "v": [
                    0.04312535425086286
                  ],
                  "w": [
                    -0.10718383335153597
                  ],
                  "x": [
                    0.0796590936831898
                  ],
                  "y": [
                    0.9641141957602464
                  ],
                  "z": [
                    0.049023067979290014
                  ]
                },
                {
                  "colorscale": [
                    [
                      0,
                      "green"
                    ],
                    [
                      1,
                      "green"
                    ]
                  ],
                  "showscale": false,
                  "type": "cone",
                  "u": [
                    -0.13424646845669042
                  ],
                  "v": [
                    -0.24753265542556213
                  ],
                  "w": [
                    -0.06337727775094533
                  ],
                  "x": [
                    -0.6725961375736534
                  ],
                  "y": [
                    -0.0461966362567332
                  ],
                  "z": [
                    0.7132326021952141
                  ]
                },
                {
                  "colorscale": [
                    [
                      0,
                      "green"
                    ],
                    [
                      1,
                      "green"
                    ]
                  ],
                  "showscale": false,
                  "type": "cone",
                  "u": [
                    0.19412246257308663
                  ],
                  "v": [
                    -0.21338503558662017
                  ],
                  "w": [
                    -0.0027234791450014397
                  ],
                  "x": [
                    -0.3514744466558254
                  ],
                  "y": [
                    -0.5967330351427546
                  ],
                  "z": [
                    0.6760970050297386
                  ]
                },
                {
                  "colorscale": [
                    [
                      0,
                      "green"
                    ],
                    [
                      1,
                      "green"
                    ]
                  ],
                  "showscale": false,
                  "type": "cone",
                  "u": [
                    0.14818531424160739
                  ],
                  "v": [
                    0.1409992052504636
                  ],
                  "w": [
                    0.20655631198695384
                  ],
                  "x": [
                    -0.5277793536236013
                  ],
                  "y": [
                    0.8073638846332888
                  ],
                  "z": [
                    0.160112578688885
                  ]
                },
                {
                  "colorscale": [
                    [
                      0,
                      "green"
                    ],
                    [
                      1,
                      "green"
                    ]
                  ],
                  "showscale": false,
                  "type": "cone",
                  "u": [
                    -0.06991784924997795
                  ],
                  "v": [
                    -0.25833998728894
                  ],
                  "w": [
                    0.10501298451642499
                  ],
                  "x": [
                    -0.963985680606772
                  ],
                  "y": [
                    0.008685499554481613
                  ],
                  "z": [
                    -0.0429740762521727
                  ]
                },
                {
                  "colorscale": [
                    [
                      0,
                      "green"
                    ],
                    [
                      1,
                      "green"
                    ]
                  ],
                  "showscale": false,
                  "type": "cone",
                  "u": [
                    0.01771564292606346
                  ],
                  "v": [
                    -0.11134650213477802
                  ],
                  "w": [
                    -0.266927424313893
                  ],
                  "x": [
                    0.24842682708181357
                  ],
                  "y": [
                    0.7629838686161217
                  ],
                  "z": [
                    -0.5384236973242639
                  ]
                },
                {
                  "colorscale": [
                    [
                      0,
                      "green"
                    ],
                    [
                      1,
                      "green"
                    ]
                  ],
                  "showscale": false,
                  "type": "cone",
                  "u": [
                    -0.15334341828990206
                  ],
                  "v": [
                    -0.13027977035959712
                  ],
                  "w": [
                    0.2085283892859343
                  ],
                  "x": [
                    0.37039174730023827
                  ],
                  "y": [
                    0.35783152610682284
                  ],
                  "z": [
                    0.824921776007996
                  ]
                },
                {
                  "colorscale": [
                    [
                      0,
                      "green"
                    ],
                    [
                      1,
                      "green"
                    ]
                  ],
                  "showscale": false,
                  "type": "cone",
                  "u": [
                    -0.1856332170601423
                  ],
                  "v": [
                    0.14691432242386426
                  ],
                  "w": [
                    -0.16497353845304213
                  ],
                  "x": [
                    0.3058121497597578
                  ],
                  "y": [
                    0.9122197116737456
                  ],
                  "z": [
                    0.0779179205300431
                  ]
                },
                {
                  "colorscale": [
                    [
                      0,
                      "green"
                    ],
                    [
                      1,
                      "green"
                    ]
                  ],
                  "showscale": false,
                  "type": "cone",
                  "u": [
                    -0.27912929552622395
                  ],
                  "v": [
                    0.0624708134669467
                  ],
                  "w": [
                    -0.03567952518154334
                  ],
                  "x": [
                    -0.26453855289716066
                  ],
                  "y": [
                    0.4176332678609177
                  ],
                  "z": [
                    0.8578269202878764
                  ]
                },
                {
                  "colorscale": [
                    [
                      0,
                      "green"
                    ],
                    [
                      1,
                      "green"
                    ]
                  ],
                  "showscale": false,
                  "type": "cone",
                  "u": [
                    0.25830555984357106
                  ],
                  "v": [
                    0.11308708684246177
                  ],
                  "w": [
                    0.06093572384802646
                  ],
                  "x": [
                    0.26219790431786005
                  ],
                  "y": [
                    -0.47725137925114114
                  ],
                  "z": [
                    0.7966067131532908
                  ]
                },
                {
                  "colorscale": [
                    [
                      0,
                      "green"
                    ],
                    [
                      1,
                      "green"
                    ]
                  ],
                  "showscale": false,
                  "type": "cone",
                  "u": [
                    0.01706327688103403
                  ],
                  "v": [
                    -0.11328212913125686
                  ],
                  "w": [
                    -0.2676588713461992
                  ],
                  "x": [
                    -0.22028666160721402
                  ],
                  "y": [
                    -0.9299898111985784
                  ],
                  "z": [
                    0.13941752276483943
                  ]
                },
                {
                  "colorscale": [
                    [
                      0,
                      "green"
                    ],
                    [
                      1,
                      "green"
                    ]
                  ],
                  "showscale": false,
                  "type": "cone",
                  "u": [
                    -0.019286278835638028
                  ],
                  "v": [
                    0.1749845062518846
                  ],
                  "w": [
                    -0.23187087448564664
                  ],
                  "x": [
                    0.40988242212178705
                  ],
                  "y": [
                    -0.5349934383725299
                  ],
                  "z": [
                    -0.7235343006836548
                  ]
                },
                {
                  "colorscale": [
                    [
                      0,
                      "green"
                    ],
                    [
                      1,
                      "green"
                    ]
                  ],
                  "showscale": false,
                  "type": "cone",
                  "u": [
                    0.14907863158016588
                  ],
                  "v": [
                    0.13982369901057368
                  ],
                  "w": [
                    0.20411880538762622
                  ],
                  "x": [
                    0.7466122429533948
                  ],
                  "y": [
                    -0.6053150528551517
                  ],
                  "z": [
                    0.14844505906289102
                  ]
                }
              ],
              "layout": {
                "template": {
                  "data": {
                    "bar": [
                      {
                        "error_x": {
                          "color": "#2a3f5f"
                        },
                        "error_y": {
                          "color": "#2a3f5f"
                        },
                        "marker": {
                          "line": {
                            "color": "#E5ECF6",
                            "width": 0.5
                          },
                          "pattern": {
                            "fillmode": "overlay",
                            "size": 10,
                            "solidity": 0.2
                          }
                        },
                        "type": "bar"
                      }
                    ],
                    "barpolar": [
                      {
                        "marker": {
                          "line": {
                            "color": "#E5ECF6",
                            "width": 0.5
                          },
                          "pattern": {
                            "fillmode": "overlay",
                            "size": 10,
                            "solidity": 0.2
                          }
                        },
                        "type": "barpolar"
                      }
                    ],
                    "carpet": [
                      {
                        "aaxis": {
                          "endlinecolor": "#2a3f5f",
                          "gridcolor": "white",
                          "linecolor": "white",
                          "minorgridcolor": "white",
                          "startlinecolor": "#2a3f5f"
                        },
                        "baxis": {
                          "endlinecolor": "#2a3f5f",
                          "gridcolor": "white",
                          "linecolor": "white",
                          "minorgridcolor": "white",
                          "startlinecolor": "#2a3f5f"
                        },
                        "type": "carpet"
                      }
                    ],
                    "choropleth": [
                      {
                        "colorbar": {
                          "outlinewidth": 0,
                          "ticks": ""
                        },
                        "type": "choropleth"
                      }
                    ],
                    "contour": [
                      {
                        "colorbar": {
                          "outlinewidth": 0,
                          "ticks": ""
                        },
                        "colorscale": [
                          [
                            0,
                            "#0d0887"
                          ],
                          [
                            0.1111111111111111,
                            "#46039f"
                          ],
                          [
                            0.2222222222222222,
                            "#7201a8"
                          ],
                          [
                            0.3333333333333333,
                            "#9c179e"
                          ],
                          [
                            0.4444444444444444,
                            "#bd3786"
                          ],
                          [
                            0.5555555555555556,
                            "#d8576b"
                          ],
                          [
                            0.6666666666666666,
                            "#ed7953"
                          ],
                          [
                            0.7777777777777778,
                            "#fb9f3a"
                          ],
                          [
                            0.8888888888888888,
                            "#fdca26"
                          ],
                          [
                            1,
                            "#f0f921"
                          ]
                        ],
                        "type": "contour"
                      }
                    ],
                    "contourcarpet": [
                      {
                        "colorbar": {
                          "outlinewidth": 0,
                          "ticks": ""
                        },
                        "type": "contourcarpet"
                      }
                    ],
                    "heatmap": [
                      {
                        "colorbar": {
                          "outlinewidth": 0,
                          "ticks": ""
                        },
                        "colorscale": [
                          [
                            0,
                            "#0d0887"
                          ],
                          [
                            0.1111111111111111,
                            "#46039f"
                          ],
                          [
                            0.2222222222222222,
                            "#7201a8"
                          ],
                          [
                            0.3333333333333333,
                            "#9c179e"
                          ],
                          [
                            0.4444444444444444,
                            "#bd3786"
                          ],
                          [
                            0.5555555555555556,
                            "#d8576b"
                          ],
                          [
                            0.6666666666666666,
                            "#ed7953"
                          ],
                          [
                            0.7777777777777778,
                            "#fb9f3a"
                          ],
                          [
                            0.8888888888888888,
                            "#fdca26"
                          ],
                          [
                            1,
                            "#f0f921"
                          ]
                        ],
                        "type": "heatmap"
                      }
                    ],
                    "histogram": [
                      {
                        "marker": {
                          "pattern": {
                            "fillmode": "overlay",
                            "size": 10,
                            "solidity": 0.2
                          }
                        },
                        "type": "histogram"
                      }
                    ],
                    "histogram2d": [
                      {
                        "colorbar": {
                          "outlinewidth": 0,
                          "ticks": ""
                        },
                        "colorscale": [
                          [
                            0,
                            "#0d0887"
                          ],
                          [
                            0.1111111111111111,
                            "#46039f"
                          ],
                          [
                            0.2222222222222222,
                            "#7201a8"
                          ],
                          [
                            0.3333333333333333,
                            "#9c179e"
                          ],
                          [
                            0.4444444444444444,
                            "#bd3786"
                          ],
                          [
                            0.5555555555555556,
                            "#d8576b"
                          ],
                          [
                            0.6666666666666666,
                            "#ed7953"
                          ],
                          [
                            0.7777777777777778,
                            "#fb9f3a"
                          ],
                          [
                            0.8888888888888888,
                            "#fdca26"
                          ],
                          [
                            1,
                            "#f0f921"
                          ]
                        ],
                        "type": "histogram2d"
                      }
                    ],
                    "histogram2dcontour": [
                      {
                        "colorbar": {
                          "outlinewidth": 0,
                          "ticks": ""
                        },
                        "colorscale": [
                          [
                            0,
                            "#0d0887"
                          ],
                          [
                            0.1111111111111111,
                            "#46039f"
                          ],
                          [
                            0.2222222222222222,
                            "#7201a8"
                          ],
                          [
                            0.3333333333333333,
                            "#9c179e"
                          ],
                          [
                            0.4444444444444444,
                            "#bd3786"
                          ],
                          [
                            0.5555555555555556,
                            "#d8576b"
                          ],
                          [
                            0.6666666666666666,
                            "#ed7953"
                          ],
                          [
                            0.7777777777777778,
                            "#fb9f3a"
                          ],
                          [
                            0.8888888888888888,
                            "#fdca26"
                          ],
                          [
                            1,
                            "#f0f921"
                          ]
                        ],
                        "type": "histogram2dcontour"
                      }
                    ],
                    "mesh3d": [
                      {
                        "colorbar": {
                          "outlinewidth": 0,
                          "ticks": ""
                        },
                        "type": "mesh3d"
                      }
                    ],
                    "parcoords": [
                      {
                        "line": {
                          "colorbar": {
                            "outlinewidth": 0,
                            "ticks": ""
                          }
                        },
                        "type": "parcoords"
                      }
                    ],
                    "pie": [
                      {
                        "automargin": true,
                        "type": "pie"
                      }
                    ],
                    "scatter": [
                      {
                        "fillpattern": {
                          "fillmode": "overlay",
                          "size": 10,
                          "solidity": 0.2
                        },
                        "type": "scatter"
                      }
                    ],
                    "scatter3d": [
                      {
                        "line": {
                          "colorbar": {
                            "outlinewidth": 0,
                            "ticks": ""
                          }
                        },
                        "marker": {
                          "colorbar": {
                            "outlinewidth": 0,
                            "ticks": ""
                          }
                        },
                        "type": "scatter3d"
                      }
                    ],
                    "scattercarpet": [
                      {
                        "marker": {
                          "colorbar": {
                            "outlinewidth": 0,
                            "ticks": ""
                          }
                        },
                        "type": "scattercarpet"
                      }
                    ],
                    "scattergeo": [
                      {
                        "marker": {
                          "colorbar": {
                            "outlinewidth": 0,
                            "ticks": ""
                          }
                        },
                        "type": "scattergeo"
                      }
                    ],
                    "scattergl": [
                      {
                        "marker": {
                          "colorbar": {
                            "outlinewidth": 0,
                            "ticks": ""
                          }
                        },
                        "type": "scattergl"
                      }
                    ],
                    "scattermap": [
                      {
                        "marker": {
                          "colorbar": {
                            "outlinewidth": 0,
                            "ticks": ""
                          }
                        },
                        "type": "scattermap"
                      }
                    ],
                    "scattermapbox": [
                      {
                        "marker": {
                          "colorbar": {
                            "outlinewidth": 0,
                            "ticks": ""
                          }
                        },
                        "type": "scattermapbox"
                      }
                    ],
                    "scatterpolar": [
                      {
                        "marker": {
                          "colorbar": {
                            "outlinewidth": 0,
                            "ticks": ""
                          }
                        },
                        "type": "scatterpolar"
                      }
                    ],
                    "scatterpolargl": [
                      {
                        "marker": {
                          "colorbar": {
                            "outlinewidth": 0,
                            "ticks": ""
                          }
                        },
                        "type": "scatterpolargl"
                      }
                    ],
                    "scatterternary": [
                      {
                        "marker": {
                          "colorbar": {
                            "outlinewidth": 0,
                            "ticks": ""
                          }
                        },
                        "type": "scatterternary"
                      }
                    ],
                    "surface": [
                      {
                        "colorbar": {
                          "outlinewidth": 0,
                          "ticks": ""
                        },
                        "colorscale": [
                          [
                            0,
                            "#0d0887"
                          ],
                          [
                            0.1111111111111111,
                            "#46039f"
                          ],
                          [
                            0.2222222222222222,
                            "#7201a8"
                          ],
                          [
                            0.3333333333333333,
                            "#9c179e"
                          ],
                          [
                            0.4444444444444444,
                            "#bd3786"
                          ],
                          [
                            0.5555555555555556,
                            "#d8576b"
                          ],
                          [
                            0.6666666666666666,
                            "#ed7953"
                          ],
                          [
                            0.7777777777777778,
                            "#fb9f3a"
                          ],
                          [
                            0.8888888888888888,
                            "#fdca26"
                          ],
                          [
                            1,
                            "#f0f921"
                          ]
                        ],
                        "type": "surface"
                      }
                    ],
                    "table": [
                      {
                        "cells": {
                          "fill": {
                            "color": "#EBF0F8"
                          },
                          "line": {
                            "color": "white"
                          }
                        },
                        "header": {
                          "fill": {
                            "color": "#C8D4E3"
                          },
                          "line": {
                            "color": "white"
                          }
                        },
                        "type": "table"
                      }
                    ]
                  },
                  "layout": {
                    "annotationdefaults": {
                      "arrowcolor": "#2a3f5f",
                      "arrowhead": 0,
                      "arrowwidth": 1
                    },
                    "autotypenumbers": "strict",
                    "coloraxis": {
                      "colorbar": {
                        "outlinewidth": 0,
                        "ticks": ""
                      }
                    },
                    "colorscale": {
                      "diverging": [
                        [
                          0,
                          "#8e0152"
                        ],
                        [
                          0.1,
                          "#c51b7d"
                        ],
                        [
                          0.2,
                          "#de77ae"
                        ],
                        [
                          0.3,
                          "#f1b6da"
                        ],
                        [
                          0.4,
                          "#fde0ef"
                        ],
                        [
                          0.5,
                          "#f7f7f7"
                        ],
                        [
                          0.6,
                          "#e6f5d0"
                        ],
                        [
                          0.7,
                          "#b8e186"
                        ],
                        [
                          0.8,
                          "#7fbc41"
                        ],
                        [
                          0.9,
                          "#4d9221"
                        ],
                        [
                          1,
                          "#276419"
                        ]
                      ],
                      "sequential": [
                        [
                          0,
                          "#0d0887"
                        ],
                        [
                          0.1111111111111111,
                          "#46039f"
                        ],
                        [
                          0.2222222222222222,
                          "#7201a8"
                        ],
                        [
                          0.3333333333333333,
                          "#9c179e"
                        ],
                        [
                          0.4444444444444444,
                          "#bd3786"
                        ],
                        [
                          0.5555555555555556,
                          "#d8576b"
                        ],
                        [
                          0.6666666666666666,
                          "#ed7953"
                        ],
                        [
                          0.7777777777777778,
                          "#fb9f3a"
                        ],
                        [
                          0.8888888888888888,
                          "#fdca26"
                        ],
                        [
                          1,
                          "#f0f921"
                        ]
                      ],
                      "sequentialminus": [
                        [
                          0,
                          "#0d0887"
                        ],
                        [
                          0.1111111111111111,
                          "#46039f"
                        ],
                        [
                          0.2222222222222222,
                          "#7201a8"
                        ],
                        [
                          0.3333333333333333,
                          "#9c179e"
                        ],
                        [
                          0.4444444444444444,
                          "#bd3786"
                        ],
                        [
                          0.5555555555555556,
                          "#d8576b"
                        ],
                        [
                          0.6666666666666666,
                          "#ed7953"
                        ],
                        [
                          0.7777777777777778,
                          "#fb9f3a"
                        ],
                        [
                          0.8888888888888888,
                          "#fdca26"
                        ],
                        [
                          1,
                          "#f0f921"
                        ]
                      ]
                    },
                    "colorway": [
                      "#636efa",
                      "#EF553B",
                      "#00cc96",
                      "#ab63fa",
                      "#FFA15A",
                      "#19d3f3",
                      "#FF6692",
                      "#B6E880",
                      "#FF97FF",
                      "#FECB52"
                    ],
                    "font": {
                      "color": "#2a3f5f"
                    },
                    "geo": {
                      "bgcolor": "white",
                      "lakecolor": "white",
                      "landcolor": "#E5ECF6",
                      "showlakes": true,
                      "showland": true,
                      "subunitcolor": "white"
                    },
                    "hoverlabel": {
                      "align": "left"
                    },
                    "hovermode": "closest",
                    "mapbox": {
                      "style": "light"
                    },
                    "paper_bgcolor": "white",
                    "plot_bgcolor": "#E5ECF6",
                    "polar": {
                      "angularaxis": {
                        "gridcolor": "white",
                        "linecolor": "white",
                        "ticks": ""
                      },
                      "bgcolor": "#E5ECF6",
                      "radialaxis": {
                        "gridcolor": "white",
                        "linecolor": "white",
                        "ticks": ""
                      }
                    },
                    "scene": {
                      "xaxis": {
                        "backgroundcolor": "#E5ECF6",
                        "gridcolor": "white",
                        "gridwidth": 2,
                        "linecolor": "white",
                        "showbackground": true,
                        "ticks": "",
                        "zerolinecolor": "white"
                      },
                      "yaxis": {
                        "backgroundcolor": "#E5ECF6",
                        "gridcolor": "white",
                        "gridwidth": 2,
                        "linecolor": "white",
                        "showbackground": true,
                        "ticks": "",
                        "zerolinecolor": "white"
                      },
                      "zaxis": {
                        "backgroundcolor": "#E5ECF6",
                        "gridcolor": "white",
                        "gridwidth": 2,
                        "linecolor": "white",
                        "showbackground": true,
                        "ticks": "",
                        "zerolinecolor": "white"
                      }
                    },
                    "shapedefaults": {
                      "line": {
                        "color": "#2a3f5f"
                      }
                    },
                    "ternary": {
                      "aaxis": {
                        "gridcolor": "white",
                        "linecolor": "white",
                        "ticks": ""
                      },
                      "baxis": {
                        "gridcolor": "white",
                        "linecolor": "white",
                        "ticks": ""
                      },
                      "bgcolor": "#E5ECF6",
                      "caxis": {
                        "gridcolor": "white",
                        "linecolor": "white",
                        "ticks": ""
                      }
                    },
                    "title": {
                      "x": 0.05
                    },
                    "xaxis": {
                      "automargin": true,
                      "gridcolor": "white",
                      "linecolor": "white",
                      "ticks": "",
                      "title": {
                        "standoff": 15
                      },
                      "zerolinecolor": "white",
                      "zerolinewidth": 2
                    },
                    "yaxis": {
                      "automargin": true,
                      "gridcolor": "white",
                      "linecolor": "white",
                      "ticks": "",
                      "title": {
                        "standoff": 15
                      },
                      "zerolinecolor": "white",
                      "zerolinewidth": 2
                    }
                  }
                }
              }
            }
          },
          "metadata": {},
          "output_type": "display_data"
        }
      ],
      "source": [
        "import genice_core\n",
        "\n",
        "# set orientations of the hydrogen bonds.\n",
        "dg = genice_core.ice_graph(g, vertexPositions=pos, fixedEdges=nx.DiGraph(fixed))\n",
        "\n",
        "draw_graph(g, pos, fixed=dg.edges(), dopant=[cation])"
      ]
    },
    {
      "cell_type": "code",
      "execution_count": null,
      "metadata": {},
      "outputs": [],
      "source": []
    }
  ],
  "metadata": {
    "colab": {
      "include_colab_link": true,
      "provenance": []
    },
    "kernelspec": {
      "display_name": ".venv",
      "language": "python",
      "name": "python3"
    },
    "language_info": {
      "codemirror_mode": {
        "name": "ipython",
        "version": 3
      },
      "file_extension": ".py",
      "mimetype": "text/x-python",
      "name": "python",
      "nbconvert_exporter": "python",
      "pygments_lexer": "ipython3",
      "version": "3.11.13"
    }
  },
  "nbformat": 4,
  "nbformat_minor": 0
}
