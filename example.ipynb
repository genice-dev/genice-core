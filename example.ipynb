{
  "cells": [
    {
      "cell_type": "markdown",
      "metadata": {
        "colab_type": "text",
        "id": "view-in-github"
      },
      "source": [
        "<a href=\"https://colab.research.google.com/github/vitroid/GenIce-core/blob/main/example.ipynb\" target=\"_parent\"><img src=\"https://colab.research.google.com/assets/colab-badge.svg\" alt=\"Open In Colab\"/></a>"
      ]
    },
    {
      "cell_type": "markdown",
      "metadata": {
        "id": "1seOAdKi9r1h"
      },
      "source": [
        "## for Google Colaboratory"
      ]
    },
    {
      "cell_type": "code",
      "execution_count": null,
      "metadata": {
        "id": "oe2Lyk1o9rBf"
      },
      "outputs": [],
      "source": [
        "%pip install git+https://github.com/vitroid/GenIce-core.git pairlist"
      ]
    },
    {
      "cell_type": "markdown",
      "metadata": {
        "id": "RecKmyFH9khy"
      },
      "source": [
        "## 1. Make an arbitrary graph directed."
      ]
    },
    {
      "cell_type": "code",
      "execution_count": null,
      "metadata": {
        "id": "6d-3otwO9kh0"
      },
      "outputs": [],
      "source": [
        "import networkx as nx\n",
        "import matplotlib\n",
        "import genice_core\n",
        "\n",
        "g = nx.dodecahedral_graph()  # dodecahedral 20mer\n",
        "pos = nx.spring_layout(g)\n",
        "\n",
        "# set orientations of the hydrogen bonds.\n",
        "dg = genice_core.ice_graph(g)\n",
        "\n",
        "nx.draw_networkx(dg, pos)"
      ]
    },
    {
      "cell_type": "markdown",
      "metadata": {
        "id": "8fu7gRuU9kh2"
      },
      "source": [
        "## 2. And depolarized."
      ]
    },
    {
      "cell_type": "code",
      "execution_count": null,
      "metadata": {
        "id": "n8pRD6om9kh2"
      },
      "outputs": [],
      "source": [
        "import networkx as nx\n",
        "import matplotlib\n",
        "import genice_core\n",
        "from logging import getLogger, DEBUG, basicConfig, INFO\n",
        "\n",
        "basicConfig(level=INFO)\n",
        "logger=getLogger()\n",
        "\n",
        "g = nx.dodecahedral_graph()  # dodecahedral 20mer\n",
        "pos = nx.spring_layout(g)\n",
        "\n",
        "# set orientations of the hydrogen bonds.\n",
        "# Minimize the net dipole moment.\n",
        "dg = genice_core.ice_graph(g, pos, dipoleOptimizationCycles=100)\n",
        "\n",
        "nx.draw_networkx(dg, pos)"
      ]
    },
    {
      "cell_type": "markdown",
      "metadata": {
        "id": "74Jt1R_T9kh3"
      },
      "source": [
        "## 3. Under the periodic boundary condition."
      ]
    },
    {
      "cell_type": "code",
      "execution_count": null,
      "metadata": {
        "id": "uk-lEcZy9kh4"
      },
      "outputs": [],
      "source": [
        "from logging import DEBUG, INFO, basicConfig, getLogger\n",
        "\n",
        "import networkx as nx\n",
        "import numpy as np\n",
        "\n",
        "# import py3Dmol\n",
        "import pairlist\n",
        "from genice_core import ice_graph\n",
        "\n",
        "logger = getLogger()\n",
        "basicConfig(level=INFO)\n",
        "\n",
        "# a sample structure of ice 1h.\n",
        "# The first line specifies the cell dimension, and atomic positions (absolute) follows.\n",
        "pos = np.loadtxt(\"ice1h.txt\").reshape(-1, 3)\n",
        "cell, coords = pos[0], pos[1:]\n",
        "\n",
        "# prepare the cell matrix\n",
        "cellmat = np.diag(cell)\n",
        "\n",
        "# make the fractional coordinates\n",
        "fracCoords = coords / cell\n",
        "\n",
        "# make a graph from the proximity\n",
        "g = nx.Graph([(i, j) for i, j, _ in pairlist.pairs_iter(fracCoords, 0.3, cellmat)])\n",
        "\n",
        "# set orientations of the hydrogen bonds.\n",
        "dg = ice_graph(\n",
        "    g, vertexPositions=fracCoords, isPeriodicBoundary=True, dipoleOptimizationCycles=100\n",
        ")\n",
        "dg"
      ]
    },
    {
      "cell_type": "markdown",
      "metadata": {
        "id": "1PSs_WiV_aM7"
      },
      "source": [
        "## Benchmark tests"
      ]
    },
    {
      "cell_type": "markdown",
      "metadata": {
        "id": "9a5t5n49_ch-"
      },
      "source": [
        "### Scalability"
      ]
    },
    {
      "cell_type": "code",
      "execution_count": 2,
      "metadata": {},
      "outputs": [
        {
          "name": "stderr",
          "output_type": "stream",
          "text": [
            "INFO:root:Size 4\n",
            "INFO:root:Distance between a cation and an anion: 4.\n"
          ]
        },
        {
          "name": "stderr",
          "output_type": "stream",
          "text": [
            "INFO:root:Depol. loop 999: [ 0.  0. -2.]\n",
            "INFO:root:Depol. loop 2: [0. 0. 0.]\n",
            "INFO:root:Depol. loop 1: [0. 0. 0.]\n",
            "INFO:root:Depol. loop 999: [0. 0. 0.]\n",
            "INFO:root:Depol. loop 2: [0. 0. 0.]\n",
            "INFO:root:Depol. loop 999: [0. 0. 2.]\n",
            "INFO:root:Failed to balance. Starting over ...\n",
            "INFO:root:Depol. loop 62: [0. 0. 0.]\n",
            "INFO:root:Depol. loop 10: [0. 0. 0.]\n",
            "INFO:root:Depol. loop 6: [0. 0. 0.]\n",
            "INFO:root:Failed to balance. Starting over ...\n",
            "INFO:root:Depol. loop 4: [0. 0. 0.]\n",
            "INFO:root:Size 4 Done.\n",
            "\n",
            "INFO:root:Size 6\n",
            "INFO:root:Distance between a cation and an anion: 6.\n",
            "INFO:root:Failed to balance. Starting over ...\n",
            "INFO:root:Failed to balance. Starting over ...\n",
            "INFO:root:Depol. loop 999: [-5.55111512e-17 -1.11022302e-16  6.66666667e-01]\n",
            "INFO:root:Failed to balance. Starting over ...\n",
            "INFO:root:Failed to balance. Starting over ...\n",
            "INFO:root:Depol. loop 999: [ 0.00000000e+00 -1.33226763e-15  6.66666667e-01]\n",
            "INFO:root:Failed to balance. Starting over ...\n",
            "INFO:root:Depol. loop 999: [-1.11022302e-16 -2.08166817e-16  6.66666667e-01]\n",
            "INFO:root:Depol. loop 999: [-4.44089210e-16  1.11022302e-16  6.66666667e-01]\n",
            "INFO:root:Failed to balance. Starting over ...\n",
            "INFO:root:Depol. loop 999: [ 5.55111512e-17 -6.80011603e-16  6.66666667e-01]\n",
            "INFO:root:Depol. loop 999: [6.66133815e-16 0.00000000e+00 6.66666667e-01]\n",
            "INFO:root:Depol. loop 999: [ 1.11022302e-16 -1.44328993e-15  6.66666667e-01]\n",
            "INFO:root:Depol. loop 999: [-1.22124533e-15  2.08166817e-16  6.66666667e-01]\n",
            "INFO:root:Failed to balance. Starting over ...\n",
            "INFO:root:Depol. loop 999: [3.60822483e-16 1.11022302e-16 6.66666667e-01]\n",
            "INFO:root:Depol. loop 999: [-4.44089210e-16  1.11022302e-15  6.66666667e-01]\n",
            "INFO:root:Size 6 Done.\n",
            "\n",
            "INFO:root:Size 8\n",
            "INFO:root:Distance between a cation and an anion: 8.\n",
            "INFO:root:Failed to balance. Starting over ...\n",
            "INFO:root:Failed to balance. Starting over ...\n",
            "INFO:root:Depol. loop 4: [0. 0. 0.]\n",
            "INFO:root:Depol. loop 0: [0. 0. 0.]\n",
            "INFO:root:Failed to balance. Starting over ...\n",
            "INFO:root:Failed to balance. Starting over ...\n",
            "INFO:root:Depol. loop 89: [0. 0. 0.]\n",
            "INFO:root:Failed to balance. Starting over ...\n",
            "INFO:root:Depol. loop 17: [0. 0. 0.]\n",
            "INFO:root:Depol. loop 29: [0. 0. 0.]\n",
            "INFO:root:Depol. loop 92: [0. 0. 0.]\n",
            "INFO:root:Depol. loop 43: [0. 0. 0.]\n",
            "INFO:root:Depol. loop 38: [0. 0. 0.]\n",
            "INFO:root:Depol. loop 142: [0. 0. 0.]\n",
            "INFO:root:Failed to balance. Starting over ...\n",
            "INFO:root:Depol. loop 41: [0. 0. 0.]\n",
            "INFO:root:Size 8 Done.\n",
            "\n",
            "INFO:root:Size 12\n",
            "INFO:root:Distance between a cation and an anion: 12.\n",
            "INFO:root:Failed to balance. Starting over ...\n",
            "INFO:root:Failed to balance. Starting over ...\n",
            "INFO:root:Depol. loop 4: [-1.11022302e-16 -5.55111512e-16 -9.99200722e-16]\n",
            "INFO:root:Depol. loop 91: [ 1.11022302e-16  3.46944695e-16 -1.22124533e-15]\n",
            "INFO:root:Failed to balance. Starting over ...\n",
            "INFO:root:Failed to balance. Starting over ...\n",
            "INFO:root:Depol. loop 42: [ 0.0000000e+00  4.4408921e-16 -4.4408921e-16]\n",
            "INFO:root:Depol. loop 60: [ 2.49800181e-16  1.85962357e-15 -4.44089210e-16]\n",
            "INFO:root:Depol. loop 243: [ 1.11022302e-15 -7.77156117e-16 -5.55111512e-17]\n",
            "INFO:root:Depol. loop 4: [7.77156117e-16 8.88178420e-16 5.55111512e-16]\n",
            "INFO:root:Depol. loop 41: [ 5.55111512e-17 -9.36750677e-16 -5.55111512e-17]\n",
            "INFO:root:Depol. loop 12: [ 2.44249065e-15 -1.77635684e-15 -1.24900090e-16]\n",
            "INFO:root:Failed to balance. Starting over ...\n",
            "INFO:root:Depol. loop 39: [-4.44089210e-16  4.44089210e-16 -7.42461648e-16]\n",
            "INFO:root:Failed to balance. Starting over ...\n",
            "INFO:root:Depol. loop 19: [-1.77635684e-15 -1.99840144e-15 -8.88178420e-16]\n",
            "INFO:root:Size 12 Done.\n",
            "\n",
            "INFO:root:Size 16\n",
            "INFO:root:Distance between a cation and an anion: 16.\n",
            "INFO:root:Depol. loop 55: [0. 0. 0.]\n",
            "INFO:root:Failed to balance. Starting over ...\n",
            "INFO:root:Depol. loop 79: [0. 0. 0.]\n",
            "INFO:root:Depol. loop 999: [0. 0. 0.]\n",
            "INFO:root:Failed to balance. Starting over ...\n",
            "INFO:root:Depol. loop 102: [0. 0. 0.]\n",
            "INFO:root:Depol. loop 9: [0. 0. 0.]\n",
            "INFO:root:Failed to balance. Starting over ...\n",
            "INFO:root:Depol. loop 352: [0. 0. 0.]\n",
            "INFO:root:Failed to balance. Starting over ...\n",
            "INFO:root:Depol. loop 288: [0. 0. 0.]\n",
            "INFO:root:Depol. loop 127: [0. 0. 0.]\n",
            "INFO:root:Failed to balance. Starting over ...\n",
            "INFO:root:Failed to balance. Starting over ...\n",
            "INFO:root:Failed to balance. Starting over ...\n",
            "INFO:root:Depol. loop 28: [0. 0. 0.]\n",
            "INFO:root:Depol. loop 616: [0. 0. 0.]\n",
            "INFO:root:Size 16 Done.\n",
            "\n",
            "INFO:root:Size 24\n",
            "INFO:root:Distance between a cation and an anion: 24.\n",
            "INFO:root:Failed to balance. Starting over ...\n",
            "INFO:root:Failed to balance. Starting over ...\n",
            "INFO:root:Failed to balance. Starting over ...\n",
            "INFO:root:Depol. loop 513: [-8.88178420e-16  2.22044605e-16  5.96744876e-16]\n",
            "INFO:root:Failed to balance. Starting over ...\n",
            "INFO:root:Depol. loop 11: [-4.44089210e-16  1.99840144e-15 -7.77156117e-16]\n",
            "INFO:root:Failed to balance. Starting over ...\n",
            "INFO:root:Depol. loop 129: [-2.30371278e-15  3.21964677e-15  1.33226763e-15]\n",
            "INFO:root:Failed to balance. Starting over ...\n",
            "INFO:root:Depol. loop 264: [-2.76167977e-15  1.33226763e-15  4.44089210e-16]\n",
            "INFO:root:Failed to balance. Starting over ...\n",
            "INFO:root:Failed to balance. Starting over ...\n",
            "INFO:root:Depol. loop 448: [ 8.88178420e-16 -1.55431223e-15 -2.34534614e-15]\n",
            "INFO:root:Failed to balance. Starting over ...\n",
            "INFO:root:Depol. loop 145: [-1.32185929e-15  8.88178420e-16 -2.22044605e-16]\n",
            "INFO:root:Depol. loop 13: [ 3.08086889e-15 -3.33066907e-16 -9.33281230e-16]\n",
            "INFO:root:Failed to balance. Starting over ...\n",
            "INFO:root:Depol. loop 75: [-6.66133815e-16 -3.99680289e-15 -1.11022302e-15]\n",
            "INFO:root:Depol. loop 319: [-1.77635684e-15  2.88657986e-15  7.77156117e-16]\n",
            "INFO:root:Depol. loop 489: [-9.99200722e-16  0.00000000e+00  8.88178420e-16]\n",
            "INFO:root:Size 24 Done.\n",
            "\n",
            "INFO:root:Size 4\n",
            "INFO:root:Size 4 Done.\n",
            "\n",
            "INFO:root:Size 6\n",
            "INFO:root:Size 6 Done.\n",
            "\n",
            "INFO:root:Size 8\n",
            "INFO:root:Size 8 Done.\n",
            "\n",
            "INFO:root:Size 12\n",
            "INFO:root:Size 12 Done.\n",
            "\n",
            "INFO:root:Size 16\n",
            "INFO:root:Size 16 Done.\n",
            "\n",
            "INFO:root:Size 24\n",
            "INFO:root:Size 24 Done.\n",
            "\n",
            "INFO:root:Size 4\n",
            "INFO:root:Depol. loop 99: [0. 0. 0.]\n",
            "INFO:root:Depol. loop 28: [0. 0. 0.]\n",
            "INFO:root:Depol. loop 37: [0. 0. 0.]\n",
            "INFO:root:Depol. loop 6: [0. 0. 0.]\n",
            "INFO:root:Depol. loop 3: [0. 0. 0.]\n",
            "INFO:root:Depol. loop 17: [0. 0. 0.]\n",
            "INFO:root:Depol. loop 1: [0. 0. 0.]\n",
            "INFO:root:Depol. loop 23: [0. 0. 0.]\n",
            "INFO:root:Depol. loop 13: [0. 0. 0.]\n",
            "INFO:root:Depol. loop 4: [0. 0. 0.]\n",
            "INFO:root:Size 4 Done.\n",
            "\n",
            "INFO:root:Size 6\n",
            "INFO:root:Depol. loop 15: [ 1.11022302e-16 -1.11022302e-16  2.22044605e-16]\n",
            "INFO:root:Depol. loop 5: [2.35922393e-16 1.38777878e-17 0.00000000e+00]\n",
            "INFO:root:Depol. loop 45: [-1.66533454e-16  4.44089210e-16 -1.11022302e-16]\n",
            "INFO:root:Depol. loop 39: [-3.33066907e-16  2.77555756e-17  2.22044605e-16]\n",
            "INFO:root:Depol. loop 23: [0.00000000e+00 1.38777878e-16 3.33066907e-16]\n",
            "INFO:root:Depol. loop 169: [ 0.00000000e+00 -4.44089210e-16  1.11022302e-16]\n",
            "INFO:root:Depol. loop 41: [ 0.00000000e+00  0.00000000e+00 -1.11022302e-16]\n",
            "INFO:root:Depol. loop 83: [-1.11022302e-16  0.00000000e+00  1.66533454e-16]\n",
            "INFO:root:Depol. loop 3: [-5.55111512e-17 -1.66533454e-16  0.00000000e+00]\n",
            "INFO:root:Depol. loop 24: [4.16333634e-17 4.44089210e-16 0.00000000e+00]\n",
            "INFO:root:Size 6 Done.\n",
            "\n",
            "INFO:root:Size 8\n",
            "INFO:root:Depol. loop 126: [0. 0. 0.]\n",
            "INFO:root:Depol. loop 22: [0. 0. 0.]\n",
            "INFO:root:Depol. loop 68: [0. 0. 0.]\n",
            "INFO:root:Depol. loop 74: [0. 0. 0.]\n",
            "INFO:root:Depol. loop 7: [0. 0. 0.]\n",
            "INFO:root:Depol. loop 112: [0. 0. 0.]\n",
            "INFO:root:Depol. loop 32: [0. 0. 0.]\n",
            "INFO:root:Depol. loop 67: [0. 0. 0.]\n",
            "INFO:root:Depol. loop 8: [0. 0. 0.]\n",
            "INFO:root:Depol. loop 146: [0. 0. 0.]\n",
            "INFO:root:Size 8 Done.\n",
            "\n",
            "INFO:root:Size 12\n",
            "INFO:root:Depol. loop 2: [ 1.22124533e-15  1.80411242e-16 -5.55111512e-16]\n",
            "INFO:root:Depol. loop 41: [-1.11022302e-16  1.31838984e-16  8.32667268e-17]\n",
            "INFO:root:Depol. loop 54: [ 1.11022302e-16 -3.33066907e-16 -6.66133815e-16]\n",
            "INFO:root:Depol. loop 84: [3.88578059e-16 4.44089210e-16 2.22044605e-16]\n",
            "INFO:root:Depol. loop 117: [ 2.22044605e-16 -6.66133815e-16 -2.22044605e-16]\n",
            "INFO:root:Depol. loop 65: [ 5.55111512e-16  4.23272528e-16 -7.49400542e-16]\n",
            "INFO:root:Depol. loop 180: [-5.55111512e-16  1.04083409e-16  2.91433544e-16]\n",
            "INFO:root:Depol. loop 25: [8.32667268e-16 9.99200722e-16 1.11022302e-16]\n",
            "INFO:root:Depol. loop 117: [-4.44089210e-16  1.66533454e-16  0.00000000e+00]\n",
            "INFO:root:Depol. loop 167: [-4.78783679e-16 -1.11022302e-16 -9.92261828e-16]\n",
            "INFO:root:Size 12 Done.\n",
            "\n",
            "INFO:root:Size 16\n",
            "INFO:root:Depol. loop 364: [0. 0. 0.]\n",
            "INFO:root:Depol. loop 98: [0. 0. 0.]\n",
            "INFO:root:Depol. loop 265: [0. 0. 0.]\n",
            "INFO:root:Depol. loop 101: [0. 0. 0.]\n",
            "INFO:root:Depol. loop 12: [0. 0. 0.]\n",
            "INFO:root:Depol. loop 82: [0. 0. 0.]\n",
            "INFO:root:Depol. loop 619: [0. 0. 0.]\n",
            "INFO:root:Depol. loop 27: [0. 0. 0.]\n",
            "INFO:root:Depol. loop 384: [0. 0. 0.]\n",
            "INFO:root:Depol. loop 101: [0. 0. 0.]\n",
            "INFO:root:Size 16 Done.\n",
            "\n",
            "INFO:root:Size 24\n",
            "INFO:root:Depol. loop 192: [ 2.22044605e-16 -4.44089210e-16 -9.61036806e-16]\n",
            "INFO:root:Depol. loop 97: [-5.55111512e-16 -2.91433544e-16  4.16333634e-15]\n",
            "INFO:root:Depol. loop 76: [ 3.74700271e-15  1.77635684e-15 -5.55111512e-16]\n",
            "INFO:root:Depol. loop 552: [ 6.93889390e-16 -1.11022302e-15  5.13478149e-16]\n",
            "INFO:root:Depol. loop 52: [ 1.11022302e-15 -1.38777878e-17  0.00000000e+00]\n",
            "INFO:root:Depol. loop 305: [ 3.33066907e-15  1.58900670e-15 -2.10942375e-15]\n",
            "INFO:root:Depol. loop 23: [ 2.22044605e-16  5.55111512e-16 -1.06858966e-15]\n",
            "INFO:root:Depol. loop 81: [-2.12330153e-15  5.27355937e-16  1.11022302e-16]\n",
            "INFO:root:Depol. loop 534: [-9.99200722e-16  2.22044605e-16 -8.88178420e-16]\n",
            "INFO:root:Depol. loop 65: [ 5.55111512e-17  0.00000000e+00 -5.10008702e-16]\n",
            "INFO:root:Size 24 Done.\n",
            "\n"
          ]
        },
        {
          "data": {
            "image/png": "[encoded data removed]",
            "text/plain": [
              "<Figure size 640x480 with 1 Axes>"
            ]
          },
          "metadata": {},
          "output_type": "display_data"
        }
      ],
      "source": [
        "import pairlist as pl\n",
        "import networkx as nx\n",
        "import genice_core\n",
        "import numpy as np\n",
        "import time\n",
        "import matplotlib.pyplot as plt\n",
        "from logging import getLogger, basicConfig, INFO\n",
        "\n",
        "\n",
        "def diamond(N: int) -> np.ndarray:\n",
        "    \"\"\"Diamond lattice. == ice 1c\n",
        "\n",
        "    Args:\n",
        "        N (int): Number of unit cells per an edge of the simulation cell.\n",
        "\n",
        "    Returns:\n",
        "        np.ndarray: atomic positions in the fractional coordinate.\n",
        "    \"\"\"\n",
        "    # make an FCC\n",
        "    xyz = np.array(\n",
        "        [\n",
        "            (x, y, z)\n",
        "            for x in range(N)\n",
        "            for y in range(N)\n",
        "            for z in range(N)\n",
        "            if (x + y + z) % 2 == 0\n",
        "        ]\n",
        "    )\n",
        "    xyz = np.vstack([xyz, xyz + 0.5])\n",
        "    return xyz / N\n",
        "\n",
        "\n",
        "basicConfig(level=INFO)\n",
        "logger = getLogger()\n",
        "\n",
        "np.random.seed(998)\n",
        "\n",
        "fig = plt.figure()\n",
        "\n",
        "for doped, depol in (\n",
        "    (True, 1000),\n",
        "    (False, 0),\n",
        "    (False, 1000),\n",
        "):\n",
        "    X = []\n",
        "    Y = []\n",
        "    for N in (4, 6, 8, 12, 16, 24): #, 36, 48, 64, 96):  # , 64, 96):\n",
        "        logger.info(f\"Size {N}\")\n",
        "\n",
        "        pos = diamond(N)\n",
        "        cell = np.diag([N, N, N])\n",
        "\n",
        "        # adjacency graph\n",
        "        g = nx.Graph(\n",
        "            [\n",
        "                (i, j)\n",
        "                for i, j in pl.pairs_iter(pos, 1, cell, fractional=True, distance=False)\n",
        "            ]\n",
        "        )\n",
        "\n",
        "        fixed = nx.DiGraph()\n",
        "        if doped:\n",
        "            for nei in g[0]:\n",
        "                fixed.add_edge(0, nei)\n",
        "            c = len(g.nodes()) // 4\n",
        "            pairDistance = nx.shortest_path_length(g, 0, c)\n",
        "            logger.info(f\"Distance between a cation and an anion: {pairDistance}.\")\n",
        "            for nei in g[c]:\n",
        "                fixed.add_edge(nei, c)\n",
        "\n",
        "        dt = []\n",
        "        for i in range(10):\n",
        "            now = time.time()\n",
        "            dg = genice_core.ice_graph(\n",
        "                g,\n",
        "                vertexPositions=pos,\n",
        "                dipoleOptimizationCycles=depol,\n",
        "                isPeriodicBoundary=True,\n",
        "                fixedEdges=fixed,\n",
        "            )\n",
        "            dt.append(time.time() - now)\n",
        "        X.append(len(g))\n",
        "        Y.append(np.mean(dt))\n",
        "        logger.info(f\"Size {N} Done.\\n\")\n",
        "\n",
        "    plt.plot(X, Y, \"o-\", label=f\"Depol. {depol}{', doped' if doped else ''}\")\n",
        "\n",
        "plt.xscale(\"log\")\n",
        "plt.yscale(\"log\")\n",
        "X = np.logspace(3, 5, 10)\n",
        "Y = X / 20000\n",
        "plt.plot(X, Y, \"k:\", label=\"linear\")\n",
        "plt.xlabel(\"Number of nodes\")\n",
        "plt.ylabel(\"Time / s\")\n",
        "plt.legend()\n",
        "fig.savefig(\"Figure3.pdf\")"
      ]
    },
    {
      "cell_type": "markdown",
      "metadata": {
        "id": "mNr4y0JsGD7Y"
      },
      "source": [
        "### Doped ice\n",
        "\n",
        "Comparison with original GenIce 2.1 using Buch's algorithm."
      ]
    },
    {
      "cell_type": "code",
      "execution_count": null,
      "metadata": {
        "id": "_jtD5N4SGry6"
      },
      "outputs": [],
      "source": [
        "%pip install git+https://github.com/vitroid/GenIce.git#2.1.7.2"
      ]
    },
    {
      "cell_type": "code",
      "execution_count": null,
      "metadata": {
        "id": "AdTrJPJHGtsa"
      },
      "outputs": [],
      "source": [
        "! time genice2 1c -r 30 30 30 --cation 0=Li --anion 1000=F --depol=optimal > doped1c.gro\n",
        "# 65 sec for stages 3 and 4 on Apple M1\n"
      ]
    },
    {
      "cell_type": "code",
      "execution_count": null,
      "metadata": {},
      "outputs": [],
      "source": [
        "! time genice2 1c -r 30 30 30 --depol=strict > doped1c.gro\n",
        "# 6 sec for stage 3D on Apple M1\n"
      ]
    },
    {
      "cell_type": "code",
      "execution_count": null,
      "metadata": {
        "id": "P4RUi-UEGxYl"
      },
      "outputs": [],
      "source": [
        "! pip install git+https://github.com/vitroid/GenIce.git@genice-core"
      ]
    },
    {
      "cell_type": "code",
      "execution_count": null,
      "metadata": {
        "id": "LaulJumEHfPs"
      },
      "outputs": [],
      "source": [
        "! time genice2 1c -r 30 30 30 --cation 0=Li --anion 1000=F --depol=optimal > doped1c.gro\n",
        "# 15.8 sec for stage 34E on Apple M1\n"
      ]
    },
    {
      "cell_type": "code",
      "execution_count": null,
      "metadata": {},
      "outputs": [],
      "source": [
        "! time genice2 1c -r 30 30 30 --depol=optimal > doped1c.gro\n",
        "# 7.7 sec for stage 34E on Apple M1\n"
      ]
    },
    {
      "cell_type": "code",
      "execution_count": null,
      "metadata": {
        "id": "DWjPBn5yHsOb"
      },
      "outputs": [],
      "source": [
        "! pip install py3dmol"
      ]
    },
    {
      "cell_type": "code",
      "execution_count": null,
      "metadata": {
        "id": "CNYtjcETLZ_h"
      },
      "outputs": [],
      "source": [
        "! time genice2 1c -r 4 4 4 --cation 0=Li --anion 10=F --depol=optimal > doped1c.gro"
      ]
    },
    {
      "cell_type": "code",
      "execution_count": null,
      "metadata": {
        "id": "rmt5qMlMKh1v"
      },
      "outputs": [],
      "source": [
        "# なぜか表示されない\n",
        "import py3Dmol\n",
        "\n",
        "# show\n",
        "view = py3Dmol.view()\n",
        "view.addModel(\"doped1c.gro\")\n",
        "view.setStyle({'stick':{}})\n",
        "view.addUnitCell()\n",
        "view.zoomTo()\n",
        "view.show()"
      ]
    },
    {
      "cell_type": "markdown",
      "metadata": {},
      "source": [
        "### Normal ice\n",
        "\n",
        "Improvement from GenIce2.1"
      ]
    },
    {
      "cell_type": "code",
      "execution_count": null,
      "metadata": {
        "id": "RGzd2Ra3Lhms"
      },
      "outputs": [],
      "source": [
        "! pip install git+https://github.com/vitroid/GenIce.git#2.1.7.2\n",
        "! time genice2 1c -r 30 30 30 > doped1c.gro"
      ]
    },
    {
      "cell_type": "code",
      "execution_count": null,
      "metadata": {
        "id": "T-zonSKPOAa7"
      },
      "outputs": [],
      "source": [
        "! pip uninstall -y genice2\n",
        "! pip install git+https://github.com/vitroid/GenIce.git@genice-core\n",
        "! time genice2 1c -r 30 30 30 > doped1c.gro\n",
        "! genice2 --version"
      ]
    },
    {
      "cell_type": "markdown",
      "metadata": {},
      "source": [
        "## Debug and Tuning"
      ]
    },
    {
      "cell_type": "code",
      "execution_count": null,
      "metadata": {
        "id": "wMITeElB9kh5"
      },
      "outputs": [],
      "source": [
        "import pairlist as pl\n",
        "import networkx as nx\n",
        "import genice_core\n",
        "import time\n",
        "import matplotlib.pyplot as plt\n",
        "from logging import getLogger, INFO, basicConfig\n",
        "\n",
        "logger = getLogger()\n",
        "basicConfig(level=INFO)\n",
        "\n",
        "\n",
        "def main():\n",
        "    np.random.seed(999)\n",
        "\n",
        "    N = 64\n",
        "    pos = diamond(N)\n",
        "    cell = np.diag([N, N, N])\n",
        "    # adjacency graph\n",
        "    g = nx.Graph(\n",
        "        [\n",
        "            (i, j)\n",
        "            for i, j in pl.pairs_iter(pos, 1, cell, fractional=True, distance=False)\n",
        "        ]\n",
        "    )\n",
        "\n",
        "    now = time.time()\n",
        "    dg = genice_core.ice_graph(\n",
        "        g,\n",
        "        vertexPositions=pos,\n",
        "        dipoleOptimizationCycles=100,\n",
        "    )\n",
        "\n",
        "\n",
        "import cProfile\n",
        "\n",
        "cProfile.run(\"main()\", filename=\"main.prof\")"
      ]
    },
    {
      "cell_type": "code",
      "execution_count": null,
      "metadata": {},
      "outputs": [],
      "source": [
        "import pstats\n",
        "\n",
        "sts = pstats.Stats(\"main.prof\")\n",
        "sts.strip_dirs().sort_stats(-1).print_stats()"
      ]
    },
    {
      "cell_type": "code",
      "execution_count": null,
      "metadata": {},
      "outputs": [],
      "source": [
        "import networkx as nx\n",
        "import matplotlib\n",
        "import genice_core\n",
        "from logging import getLogger, DEBUG, basicConfig, INFO\n",
        "import numpy as np\n",
        "\n",
        "basicConfig(level=INFO)\n",
        "logger = getLogger()\n",
        "\n",
        "np.random.seed(999)\n",
        "\n",
        "g = nx.dodecahedral_graph()  # dodecahedral 20mer\n",
        "pos = nx.spring_layout(g)\n",
        "\n",
        "fixed = nx.DiGraph(\n",
        "    [\n",
        "        [0, 1],\n",
        "    ]\n",
        ")\n",
        "\n",
        "# set orientations of the hydrogen bonds.\n",
        "# Minimize the net dipole moment.\n",
        "dg = genice_core.ice_graph(\n",
        "    g,\n",
        "    pos,\n",
        "    dipoleOptimizationCycles=100,\n",
        "    fixedEdges=fixed,\n",
        ")\n",
        "\n",
        "nx.draw_networkx(dg, pos)"
      ]
    },
    {
      "cell_type": "code",
      "execution_count": null,
      "metadata": {},
      "outputs": [],
      "source": []
    }
  ],
  "metadata": {
    "colab": {
      "include_colab_link": true,
      "provenance": []
    },
    "kernelspec": {
      "display_name": "GenIce-core-RY0sKM3p",
      "language": "python",
      "name": "python3"
    },
    "language_info": {
      "codemirror_mode": {
        "name": "ipython",
        "version": 3
      },
      "file_extension": ".py",
      "mimetype": "text/x-python",
      "name": "python",
      "nbconvert_exporter": "python",
      "pygments_lexer": "ipython3",
      "version": "3.11.4"
    }
  },
  "nbformat": 4,
  "nbformat_minor": 0
}
