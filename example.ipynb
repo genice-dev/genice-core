{
  "cells": [
    {
      "cell_type": "markdown",
      "metadata": {
        "colab_type": "text",
        "id": "view-in-github"
      },
      "source": [
        "<a href=\"https://colab.research.google.com/github/vitroid/GenIce-core/blob/main/example.ipynb\" target=\"_parent\"><img src=\"https://colab.research.google.com/assets/colab-badge.svg\" alt=\"Open In Colab\"/></a>"
      ]
    },
    {
      "cell_type": "markdown",
      "metadata": {
        "id": "1seOAdKi9r1h"
      },
      "source": [
        "## for Google Colaboratory"
      ]
    },
    {
      "cell_type": "code",
      "execution_count": null,
      "metadata": {
        "id": "oe2Lyk1o9rBf"
      },
      "outputs": [],
      "source": [
        "%pip install git+https://github.com/vitroid/GenIce-core.git pairlist"
      ]
    },
    {
      "cell_type": "markdown",
      "metadata": {
        "id": "RecKmyFH9khy"
      },
      "source": [
        "## 1. Make an arbitrary graph directed."
      ]
    },
    {
      "cell_type": "code",
      "execution_count": null,
      "metadata": {
        "id": "6d-3otwO9kh0"
      },
      "outputs": [],
      "source": [
        "import networkx as nx\n",
        "import matplotlib\n",
        "import genice_core\n",
        "\n",
        "g = nx.dodecahedral_graph()  # dodecahedral 20mer\n",
        "pos = nx.spring_layout(g)\n",
        "\n",
        "# set orientations of the hydrogen bonds.\n",
        "dg = genice_core.ice_graph(g)\n",
        "\n",
        "nx.draw_networkx(dg, pos)"
      ]
    },
    {
      "cell_type": "markdown",
      "metadata": {
        "id": "8fu7gRuU9kh2"
      },
      "source": [
        "## 2. And depolarized."
      ]
    },
    {
      "cell_type": "code",
      "execution_count": null,
      "metadata": {
        "id": "n8pRD6om9kh2"
      },
      "outputs": [],
      "source": [
        "import networkx as nx\n",
        "import matplotlib\n",
        "import genice_core\n",
        "from logging import getLogger, DEBUG, basicConfig, INFO\n",
        "\n",
        "basicConfig(level=INFO)\n",
        "logger=getLogger()\n",
        "\n",
        "g = nx.dodecahedral_graph()  # dodecahedral 20mer\n",
        "pos = nx.spring_layout(g)\n",
        "\n",
        "# set orientations of the hydrogen bonds.\n",
        "# Minimize the net dipole moment.\n",
        "dg = genice_core.ice_graph(g, pos, dipoleOptimizationCycles=100)\n",
        "\n",
        "nx.draw_networkx(dg, pos)"
      ]
    },
    {
      "cell_type": "markdown",
      "metadata": {
        "id": "74Jt1R_T9kh3"
      },
      "source": [
        "## 3. Under the periodic boundary condition."
      ]
    },
    {
      "cell_type": "code",
      "execution_count": null,
      "metadata": {
        "id": "uk-lEcZy9kh4"
      },
      "outputs": [],
      "source": [
        "from logging import DEBUG, INFO, basicConfig, getLogger\n",
        "\n",
        "import networkx as nx\n",
        "import numpy as np\n",
        "\n",
        "# import py3Dmol\n",
        "import pairlist\n",
        "from genice_core import ice_graph\n",
        "\n",
        "logger = getLogger()\n",
        "basicConfig(level=INFO)\n",
        "\n",
        "# a sample structure of ice 1h.\n",
        "# The first line specifies the cell dimension, and atomic positions (absolute) follows.\n",
        "pos = np.loadtxt(\"ice1h.txt\").reshape(-1, 3)\n",
        "cell, coords = pos[0], pos[1:]\n",
        "\n",
        "# prepare the cell matrix\n",
        "cellmat = np.diag(cell)\n",
        "\n",
        "# make the fractional coordinates\n",
        "fracCoords = coords / cell\n",
        "\n",
        "# make a graph from the proximity\n",
        "g = nx.Graph([(i, j) for i, j, _ in pairlist.pairs_iter(fracCoords, 0.3, cellmat)])\n",
        "\n",
        "# set orientations of the hydrogen bonds.\n",
        "dg = ice_graph(\n",
        "    g, vertexPositions=fracCoords, isPeriodicBoundary=True, dipoleOptimizationCycles=100\n",
        ")\n",
        "dg"
      ]
    },
    {
      "cell_type": "markdown",
      "metadata": {
        "id": "1PSs_WiV_aM7"
      },
      "source": [
        "## Benchmark tests"
      ]
    },
    {
      "cell_type": "markdown",
      "metadata": {
        "id": "9a5t5n49_ch-"
      },
      "source": [
        "### Scalability"
      ]
    },
    {
      "cell_type": "code",
      "execution_count": 3,
      "metadata": {
        "id": "ruoRrq7PAT2B"
      },
      "outputs": [],
      "source": [
        "import numpy as np\n",
        "\n",
        "\n",
        "def diamond(N: int) -> np.ndarray:\n",
        "    \"\"\"Diamond lattice. == ice 1c\n",
        "\n",
        "    Args:\n",
        "        N (int): Number of unit cells per an edge of the simulation cell.\n",
        "\n",
        "    Returns:\n",
        "        np.ndarray: atomic positions in the fractional coordinate.\n",
        "    \"\"\"\n",
        "    # make an FCC\n",
        "    xyz = (\n",
        "        np.array(\n",
        "            [\n",
        "                (x, y, z)\n",
        "                for x in range(N)\n",
        "                for y in range(N)\n",
        "                for z in range(N)\n",
        "                if (x + y + z) % 2 == 0\n",
        "            ]\n",
        "        )\n",
        "    )\n",
        "    xyz = np.vstack([xyz, xyz + 0.5])\n",
        "    return xyz / N"
      ]
    },
    {
      "cell_type": "code",
      "execution_count": 4,
      "metadata": {},
      "outputs": [
        {
          "name": "stderr",
          "output_type": "stream",
          "text": [
            "INFO:root:0.0020248889923095703 sec noodlize()\n",
            "INFO:root:0.002090930938720703 sec split_into_simple_paths()\n",
            "INFO:root:0.0033180713653564453 sec noodlize()\n",
            "INFO:root:0.0016598701477050781 sec split_into_simple_paths()\n",
            "INFO:root:0.008889913558959961 sec noodlize()\n",
            "INFO:root:0.0038232803344726562 sec split_into_simple_paths()\n",
            "INFO:root:0.021923065185546875 sec noodlize()\n",
            "INFO:root:0.011368036270141602 sec split_into_simple_paths()\n",
            "INFO:root:0.05575394630432129 sec noodlize()\n",
            "INFO:root:0.04162192344665527 sec split_into_simple_paths()\n",
            "INFO:root:0.28677892684936523 sec noodlize()\n",
            "INFO:root:0.11822891235351562 sec split_into_simple_paths()\n",
            "INFO:root:0.6177577972412109 sec noodlize()\n",
            "INFO:root:0.2656681537628174 sec split_into_simple_paths()\n",
            "INFO:root:1.9251892566680908 sec noodlize()\n",
            "INFO:root:1.1321980953216553 sec split_into_simple_paths()\n",
            "INFO:root:3.3681700229644775 sec noodlize()\n",
            "INFO:root:2.415052652359009 sec split_into_simple_paths()\n",
            "INFO:root:0.0007750988006591797 sec noodlize()\n",
            "INFO:root:0.0004527568817138672 sec split_into_simple_paths()\n",
            "INFO:root:0.0027360916137695312 sec noodlize()\n",
            "INFO:root:0.0013141632080078125 sec split_into_simple_paths()\n",
            "INFO:root:0.0054111480712890625 sec noodlize()\n",
            "INFO:root:0.0032520294189453125 sec split_into_simple_paths()\n",
            "INFO:root:0.01905083656311035 sec noodlize()\n",
            "INFO:root:0.011216163635253906 sec split_into_simple_paths()\n",
            "INFO:root:0.0792539119720459 sec noodlize()\n",
            "INFO:root:0.06975078582763672 sec split_into_simple_paths()\n",
            "INFO:root:0.30030322074890137 sec noodlize()\n",
            "INFO:root:0.12433218955993652 sec split_into_simple_paths()\n",
            "INFO:root:0.42704105377197266 sec noodlize()\n",
            "INFO:root:0.2289597988128662 sec split_into_simple_paths()\n",
            "INFO:root:1.7733209133148193 sec noodlize()\n",
            "INFO:root:1.0649547576904297 sec split_into_simple_paths()\n",
            "INFO:root:3.477389097213745 sec noodlize()\n",
            "INFO:root:2.2078440189361572 sec split_into_simple_paths()\n"
          ]
        },
        {
          "data": {
            "text/plain": [
              "<matplotlib.legend.Legend at 0x14aa74610>"
            ]
          },
          "execution_count": 4,
          "metadata": {},
          "output_type": "execute_result"
        },
        {
          "data": {
            "image/png": "[encoded data removed]",
            "text/plain": [
              "<Figure size 640x480 with 1 Axes>"
            ]
          },
          "metadata": {},
          "output_type": "display_data"
        }
      ],
      "source": [
        "import pairlist as pl\n",
        "import networkx as nx\n",
        "import genice_core\n",
        "import time\n",
        "import matplotlib.pyplot as plt\n",
        "\n",
        "np.random.seed(999)\n",
        "\n",
        "for depol in (0, 100):\n",
        "    X = []\n",
        "    Y = []\n",
        "    for N in (4, 6, 8, 12, 16, 26, 32, 52, 64):\n",
        "        pos = diamond(N)\n",
        "        cell = np.diag([N, N, N])\n",
        "        # adjacency graph\n",
        "        g = nx.Graph(\n",
        "            [\n",
        "                (i, j)\n",
        "                for i, j in pl.pairs_iter(pos, 1, cell, fractional=True, distance=False)\n",
        "            ]\n",
        "        )\n",
        "\n",
        "        now = time.time()\n",
        "        dg = genice_core.ice_graph(\n",
        "            g,\n",
        "            vertexPositions=pos,\n",
        "            dipoleOptimizationCycles=depol,\n",
        "        )\n",
        "        X.append(len(g))\n",
        "        Y.append(time.time() - now)\n",
        "\n",
        "    plt.plot(X, Y, \"o-\", label=f\"depol loop={depol}\")\n",
        "\n",
        "plt.xscale(\"log\")\n",
        "plt.yscale(\"log\")\n",
        "X = np.logspace(3, 5, 10)\n",
        "Y = X / 20000\n",
        "plt.plot(X, Y, \"k:\", label=\"linear\")\n",
        "plt.xlabel(\"Number of nodes\")\n",
        "plt.ylabel(\"Time / s\")\n",
        "plt.legend()"
      ]
    },
    {
      "cell_type": "markdown",
      "metadata": {
        "id": "mNr4y0JsGD7Y"
      },
      "source": [
        "### Doped ice\n",
        "\n",
        "Comparison with original GenIce 2.1 using Buch's algorithm."
      ]
    },
    {
      "cell_type": "code",
      "execution_count": null,
      "metadata": {
        "id": "_jtD5N4SGry6"
      },
      "outputs": [],
      "source": [
        "%pip install git+https://github.com/vitroid/GenIce.git#2.1.7.1"
      ]
    },
    {
      "cell_type": "code",
      "execution_count": null,
      "metadata": {
        "id": "AdTrJPJHGtsa"
      },
      "outputs": [],
      "source": [
        "! time genice2 1c -r 24 24 24 --cation 0=Li --anion 10=F --depol=optimal > doped1c.gro"
      ]
    },
    {
      "cell_type": "code",
      "execution_count": null,
      "metadata": {
        "id": "P4RUi-UEGxYl"
      },
      "outputs": [],
      "source": [
        "! pip install git+https://github.com/vitroid/GenIce.git@genice-core"
      ]
    },
    {
      "cell_type": "code",
      "execution_count": null,
      "metadata": {
        "id": "LaulJumEHfPs"
      },
      "outputs": [],
      "source": [
        "! time genice2 1c -r 24 24 24 --cation 0=Li --anion 10=F --depol=optimal > doped1c.gro"
      ]
    },
    {
      "cell_type": "code",
      "execution_count": null,
      "metadata": {
        "id": "DWjPBn5yHsOb"
      },
      "outputs": [],
      "source": [
        "! pip install py3dmol"
      ]
    },
    {
      "cell_type": "code",
      "execution_count": null,
      "metadata": {
        "id": "CNYtjcETLZ_h"
      },
      "outputs": [],
      "source": [
        "! time genice2 1c -r 4 4 4 --cation 0=Li --anion 10=F --depol=optimal > doped1c.gro"
      ]
    },
    {
      "cell_type": "code",
      "execution_count": null,
      "metadata": {
        "id": "rmt5qMlMKh1v"
      },
      "outputs": [],
      "source": [
        "# なぜか表示されない\n",
        "import py3Dmol\n",
        "\n",
        "# show\n",
        "view = py3Dmol.view()\n",
        "view.addModel(\"doped1c.gro\")\n",
        "view.setStyle({'stick':{}})\n",
        "view.addUnitCell()\n",
        "view.zoomTo()\n",
        "view.show()"
      ]
    },
    {
      "cell_type": "markdown",
      "metadata": {},
      "source": [
        "### Normal ice\n",
        "\n",
        "Improvement from GenIce2.1"
      ]
    },
    {
      "cell_type": "code",
      "execution_count": null,
      "metadata": {
        "id": "RGzd2Ra3Lhms"
      },
      "outputs": [],
      "source": [
        "! pip install git+https://github.com/vitroid/GenIce.git#2.1.7.1\n",
        "! time genice2 1c -r 30 30 30 > doped1c.gro"
      ]
    },
    {
      "cell_type": "code",
      "execution_count": null,
      "metadata": {
        "id": "T-zonSKPOAa7"
      },
      "outputs": [],
      "source": [
        "! pip uninstall -y genice2\n",
        "! pip install git+https://github.com/vitroid/GenIce.git@genice-core\n",
        "! time genice2 1c -r 30 30 30 > doped1c.gro\n",
        "! genice2 --version"
      ]
    },
    {
      "cell_type": "markdown",
      "metadata": {},
      "source": [
        "## Debug and Tuning"
      ]
    },
    {
      "cell_type": "code",
      "execution_count": null,
      "metadata": {
        "id": "wMITeElB9kh5"
      },
      "outputs": [],
      "source": [
        "import pairlist as pl\n",
        "import networkx as nx\n",
        "import genice_core\n",
        "import time\n",
        "import matplotlib.pyplot as plt\n",
        "from logging import getLogger, INFO, basicConfig\n",
        "\n",
        "logger = getLogger()\n",
        "basicConfig(level=INFO)\n",
        "\n",
        "\n",
        "def main():\n",
        "    np.random.seed(999)\n",
        "\n",
        "    N = 64\n",
        "    pos = diamond(N)\n",
        "    cell = np.diag([N, N, N])\n",
        "    # adjacency graph\n",
        "    g = nx.Graph(\n",
        "        [\n",
        "            (i, j)\n",
        "            for i, j in pl.pairs_iter(pos, 1, cell, fractional=True, distance=False)\n",
        "        ]\n",
        "    )\n",
        "\n",
        "    now = time.time()\n",
        "    dg = genice_core.ice_graph(\n",
        "        g,\n",
        "        vertexPositions=pos,\n",
        "        dipoleOptimizationCycles=100,\n",
        "    )\n",
        "\n",
        "\n",
        "import cProfile\n",
        "\n",
        "cProfile.run(\"main()\", filename=\"main.prof\")"
      ]
    },
    {
      "cell_type": "code",
      "execution_count": null,
      "metadata": {},
      "outputs": [],
      "source": [
        "import pstats\n",
        "\n",
        "sts = pstats.Stats(\"main.prof\")\n",
        "sts.strip_dirs().sort_stats(-1).print_stats()"
      ]
    },
    {
      "cell_type": "code",
      "execution_count": null,
      "metadata": {},
      "outputs": [],
      "source": []
    }
  ],
  "metadata": {
    "colab": {
      "include_colab_link": true,
      "provenance": []
    },
    "kernelspec": {
      "display_name": "GenIce-core-RY0sKM3p",
      "language": "python",
      "name": "python3"
    },
    "language_info": {
      "codemirror_mode": {
        "name": "ipython",
        "version": 3
      },
      "file_extension": ".py",
      "mimetype": "text/x-python",
      "name": "python",
      "nbconvert_exporter": "python",
      "pygments_lexer": "ipython3",
      "version": "3.11.4"
    }
  },
  "nbformat": 4,
  "nbformat_minor": 0
}
