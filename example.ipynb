{
  "cells": [
    {
      "cell_type": "markdown",
      "metadata": {
        "colab_type": "text",
        "id": "view-in-github"
      },
      "source": [
        "<a href=\"https://colab.research.google.com/github/vitroid/GenIce-core/blob/main/example.ipynb\" target=\"_parent\"><img src=\"https://colab.research.google.com/assets/colab-badge.svg\" alt=\"Open In Colab\"/></a>"
      ]
    },
    {
      "cell_type": "markdown",
      "metadata": {
        "id": "1seOAdKi9r1h"
      },
      "source": [
        "## for Google Colaboratory"
      ]
    },
    {
      "cell_type": "code",
      "execution_count": null,
      "metadata": {
        "id": "oe2Lyk1o9rBf"
      },
      "outputs": [],
      "source": [
        "%pip install git+https://github.com/vitroid/GenIce-core.git pairlist"
      ]
    },
    {
      "cell_type": "markdown",
      "metadata": {
        "id": "RecKmyFH9khy"
      },
      "source": [
        "## 1. Make an arbitrary graph directed."
      ]
    },
    {
      "cell_type": "code",
      "execution_count": null,
      "metadata": {
        "id": "6d-3otwO9kh0"
      },
      "outputs": [],
      "source": [
        "import networkx as nx\n",
        "import matplotlib\n",
        "import genice_core\n",
        "\n",
        "g = nx.dodecahedral_graph()  # dodecahedral 20mer\n",
        "pos = nx.spring_layout(g)\n",
        "\n",
        "# set orientations of the hydrogen bonds.\n",
        "dg = genice_core.ice_graph(g)\n",
        "\n",
        "nx.draw_networkx(dg, pos)"
      ]
    },
    {
      "cell_type": "markdown",
      "metadata": {
        "id": "8fu7gRuU9kh2"
      },
      "source": [
        "## 2. And depolarized."
      ]
    },
    {
      "cell_type": "code",
      "execution_count": null,
      "metadata": {
        "id": "n8pRD6om9kh2"
      },
      "outputs": [],
      "source": [
        "import networkx as nx\n",
        "import matplotlib\n",
        "import genice_core\n",
        "from logging import getLogger, DEBUG, basicConfig, INFO\n",
        "\n",
        "basicConfig(level=INFO)\n",
        "logger=getLogger()\n",
        "\n",
        "g = nx.dodecahedral_graph()  # dodecahedral 20mer\n",
        "pos = nx.spring_layout(g)\n",
        "\n",
        "# set orientations of the hydrogen bonds.\n",
        "# Minimize the net dipole moment.\n",
        "dg = genice_core.ice_graph(g, pos, dipoleOptimizationCycles=100)\n",
        "\n",
        "nx.draw_networkx(dg, pos)"
      ]
    },
    {
      "cell_type": "markdown",
      "metadata": {
        "id": "74Jt1R_T9kh3"
      },
      "source": [
        "## 3. Under the periodic boundary condition."
      ]
    },
    {
      "cell_type": "code",
      "execution_count": null,
      "metadata": {
        "id": "uk-lEcZy9kh4"
      },
      "outputs": [],
      "source": [
        "from logging import DEBUG, INFO, basicConfig, getLogger\n",
        "\n",
        "import networkx as nx\n",
        "import numpy as np\n",
        "\n",
        "# import py3Dmol\n",
        "import pairlist\n",
        "from genice_core import ice_graph\n",
        "\n",
        "logger = getLogger()\n",
        "basicConfig(level=INFO)\n",
        "\n",
        "# a sample structure of ice 1h.\n",
        "# The first line specifies the cell dimension, and atomic positions (absolute) follows.\n",
        "pos = np.loadtxt(\"ice1h.txt\").reshape(-1, 3)\n",
        "cell, coords = pos[0], pos[1:]\n",
        "\n",
        "# prepare the cell matrix\n",
        "cellmat = np.diag(cell)\n",
        "\n",
        "# make the fractional coordinates\n",
        "fracCoords = coords / cell\n",
        "\n",
        "# make a graph from the proximity\n",
        "g = nx.Graph([(i, j) for i, j, _ in pairlist.pairs_iter(fracCoords, 0.3, cellmat)])\n",
        "\n",
        "# set orientations of the hydrogen bonds.\n",
        "dg = ice_graph(\n",
        "    g, vertexPositions=fracCoords, isPeriodicBoundary=True, dipoleOptimizationCycles=100\n",
        ")\n",
        "dg"
      ]
    },
    {
      "cell_type": "markdown",
      "metadata": {
        "id": "1PSs_WiV_aM7"
      },
      "source": [
        "## Benchmark tests"
      ]
    },
    {
      "cell_type": "markdown",
      "metadata": {
        "id": "9a5t5n49_ch-"
      },
      "source": [
        "### Scalability"
      ]
    },
    {
      "cell_type": "code",
      "execution_count": 41,
      "metadata": {
        "id": "ruoRrq7PAT2B"
      },
      "outputs": [],
      "source": [
        "import numpy as np\n",
        "\n",
        "\n",
        "def diamond(N: int) -> np.ndarray:\n",
        "    \"\"\"Diamond lattice. == ice 1c\n",
        "\n",
        "    Args:\n",
        "        N (int): Number of unit cells per an edge of the simulation cell.\n",
        "\n",
        "    Returns:\n",
        "        np.ndarray: atomic positions in the fractional coordinate.\n",
        "    \"\"\"\n",
        "    # make an FCC\n",
        "    xyz = (\n",
        "        np.array(\n",
        "            [\n",
        "                (x, y, z)\n",
        "                for x in range(N)\n",
        "                for y in range(N)\n",
        "                for z in range(N)\n",
        "                if (x + y + z) % 2 == 0\n",
        "            ]\n",
        "        )\n",
        "    )\n",
        "    xyz = np.vstack([xyz, xyz + 0.5])\n",
        "    return xyz / N"
      ]
    },
    {
      "cell_type": "code",
      "execution_count": 48,
      "metadata": {},
      "outputs": [
        {
          "name": "stdout",
          "output_type": "stream",
          "text": [
            "8\n",
            "12\n",
            "16\n",
            "24\n",
            "36\n",
            "48\n",
            "8\n",
            "12\n",
            "16\n",
            "24\n",
            "36\n",
            "48\n",
            "8\n",
            "12\n"
          ]
        },
        {
          "ename": "KeyboardInterrupt",
          "evalue": "",
          "output_type": "error",
          "traceback": [
            "\u001b[0;31m---------------------------------------------------------------------------\u001b[0m",
            "\u001b[0;31mKeyboardInterrupt\u001b[0m                         Traceback (most recent call last)",
            "\u001b[1;32m/Users/matto/Unison/github/GenIce-core/example.ipynb Cell 13\u001b[0m line \u001b[0;36m3\n\u001b[1;32m     <a href='vscode-notebook-cell:/Users/matto/Unison/github/GenIce-core/example.ipynb#X44sZmlsZQ%3D%3D?line=33'>34</a>\u001b[0m         fixed\u001b[39m.\u001b[39madd_edge(nei, c)\n\u001b[1;32m     <a href='vscode-notebook-cell:/Users/matto/Unison/github/GenIce-core/example.ipynb#X44sZmlsZQ%3D%3D?line=35'>36</a>\u001b[0m now \u001b[39m=\u001b[39m time\u001b[39m.\u001b[39mtime()\n\u001b[0;32m---> <a href='vscode-notebook-cell:/Users/matto/Unison/github/GenIce-core/example.ipynb#X44sZmlsZQ%3D%3D?line=36'>37</a>\u001b[0m dg \u001b[39m=\u001b[39m genice_core\u001b[39m.\u001b[39;49mice_graph(\n\u001b[1;32m     <a href='vscode-notebook-cell:/Users/matto/Unison/github/GenIce-core/example.ipynb#X44sZmlsZQ%3D%3D?line=37'>38</a>\u001b[0m     g,\n\u001b[1;32m     <a href='vscode-notebook-cell:/Users/matto/Unison/github/GenIce-core/example.ipynb#X44sZmlsZQ%3D%3D?line=38'>39</a>\u001b[0m     vertexPositions\u001b[39m=\u001b[39;49mpos,\n\u001b[1;32m     <a href='vscode-notebook-cell:/Users/matto/Unison/github/GenIce-core/example.ipynb#X44sZmlsZQ%3D%3D?line=39'>40</a>\u001b[0m     dipoleOptimizationCycles\u001b[39m=\u001b[39;49mdepol,\n\u001b[1;32m     <a href='vscode-notebook-cell:/Users/matto/Unison/github/GenIce-core/example.ipynb#X44sZmlsZQ%3D%3D?line=40'>41</a>\u001b[0m     isPeriodicBoundary\u001b[39m=\u001b[39;49m\u001b[39mTrue\u001b[39;49;00m,\n\u001b[1;32m     <a href='vscode-notebook-cell:/Users/matto/Unison/github/GenIce-core/example.ipynb#X44sZmlsZQ%3D%3D?line=41'>42</a>\u001b[0m     fixedEdges\u001b[39m=\u001b[39;49mfixed,\n\u001b[1;32m     <a href='vscode-notebook-cell:/Users/matto/Unison/github/GenIce-core/example.ipynb#X44sZmlsZQ%3D%3D?line=42'>43</a>\u001b[0m )\n\u001b[1;32m     <a href='vscode-notebook-cell:/Users/matto/Unison/github/GenIce-core/example.ipynb#X44sZmlsZQ%3D%3D?line=43'>44</a>\u001b[0m X\u001b[39m.\u001b[39mappend(\u001b[39mlen\u001b[39m(g))\n\u001b[1;32m     <a href='vscode-notebook-cell:/Users/matto/Unison/github/GenIce-core/example.ipynb#X44sZmlsZQ%3D%3D?line=44'>45</a>\u001b[0m Y\u001b[39m.\u001b[39mappend(time\u001b[39m.\u001b[39mtime() \u001b[39m-\u001b[39m now)\n",
            "File \u001b[0;32m~/Unison/github/GenIce-core/genice_core/__init__.py:44\u001b[0m, in \u001b[0;36mice_graph\u001b[0;34m(g, vertexPositions, isPeriodicBoundary, dipoleOptimizationCycles, fixedEdges, hook)\u001b[0m\n\u001b[1;32m     41\u001b[0m logger\u001b[39m.\u001b[39mdebug(fixedEdges)\n\u001b[1;32m     43\u001b[0m \u001b[39mif\u001b[39;00m fixedEdges \u001b[39mis\u001b[39;00m \u001b[39mnot\u001b[39;00m \u001b[39mNone\u001b[39;00m:\n\u001b[0;32m---> 44\u001b[0m     balance(fixedEdges, g, hook\u001b[39m=\u001b[39;49mhook)\n\u001b[1;32m     46\u001b[0m \u001b[39m# Divide the graph into noodle graph\u001b[39;00m\n\u001b[1;32m     47\u001b[0m dividedGraph \u001b[39m=\u001b[39m noodlize(g, fixedEdges)\n",
            "File \u001b[0;32m~/Unison/github/GenIce-core/genice_core/topology.py:228\u001b[0m, in \u001b[0;36mbalance\u001b[0;34m(fixed, g, hook)\u001b[0m\n\u001b[1;32m    225\u001b[0m neighborNodes \u001b[39m=\u001b[39m neighborNodes[:\u001b[39m4\u001b[39m]\n\u001b[1;32m    227\u001b[0m \u001b[39mwhile\u001b[39;00m fixed\u001b[39m.\u001b[39min_degree(node) \u001b[39m>\u001b[39m fixed\u001b[39m.\u001b[39mout_degree(node):\n\u001b[0;32m--> 228\u001b[0m     \u001b[39mnext\u001b[39m \u001b[39m=\u001b[39m np\u001b[39m.\u001b[39mrandom\u001b[39m.\u001b[39mchoice(neighborNodes)\n\u001b[1;32m    229\u001b[0m     \u001b[39mif\u001b[39;00m \u001b[39mnot\u001b[39;00m (fixed\u001b[39m.\u001b[39mhas_edge(node, \u001b[39mnext\u001b[39m) \u001b[39mor\u001b[39;00m fixed\u001b[39m.\u001b[39mhas_edge(\u001b[39mnext\u001b[39m, node)):\n\u001b[1;32m    230\u001b[0m         fixed\u001b[39m.\u001b[39madd_edge(node, \u001b[39mnext\u001b[39m)\n",
            "File \u001b[0;32mnumpy/random/mtrand.pyx:936\u001b[0m, in \u001b[0;36mnumpy.random.mtrand.RandomState.choice\u001b[0;34m()\u001b[0m\n",
            "\u001b[0;31mKeyboardInterrupt\u001b[0m: "
          ]
        },
        {
          "data": {
            "image/png": "[encoded data removed]",
            "text/plain": [
              "<Figure size 640x480 with 1 Axes>"
            ]
          },
          "metadata": {},
          "output_type": "display_data"
        }
      ],
      "source": [
        "import pairlist as pl\n",
        "import networkx as nx\n",
        "import genice_core\n",
        "import time\n",
        "import matplotlib.pyplot as plt\n",
        "\n",
        "np.random.seed(999)\n",
        "\n",
        "for doped, depol in ((False, 0), (False, 100), (True, 100)):\n",
        "    X = []\n",
        "    Y = []\n",
        "    for N in (8, 12, 16, 24, 36, 48): #, 64, 96):\n",
        "        print(N)\n",
        "        \n",
        "        pos = diamond(N)\n",
        "        cell = np.diag([N, N, N])\n",
        "\n",
        "        # adjacency graph\n",
        "        g = nx.Graph(\n",
        "            [\n",
        "                (i, j)\n",
        "                for i, j in pl.pairs_iter(pos, 1, cell, fractional=True, distance=False)\n",
        "            ]\n",
        "        )\n",
        "\n",
        "        fixed = nx.DiGraph()\n",
        "        if doped:\n",
        "            for nei in g[0]:\n",
        "                fixed.add_edge(0, nei)\n",
        "            c = len(g.nodes()) // 2\n",
        "            if c > 1000:\n",
        "                c = 1000\n",
        "            for nei in g[c]:\n",
        "                fixed.add_edge(nei, c)\n",
        "\n",
        "        now = time.time()\n",
        "        dg = genice_core.ice_graph(\n",
        "            g,\n",
        "            vertexPositions=pos,\n",
        "            dipoleOptimizationCycles=depol,\n",
        "            isPeriodicBoundary=True,\n",
        "            fixedEdges=fixed,\n",
        "        )\n",
        "        X.append(len(g))\n",
        "        Y.append(time.time() - now)\n",
        "\n",
        "    plt.plot(X, Y, \"o-\", label=f\"depol loop={depol} doped={doped}\")\n",
        "\n",
        "plt.xscale(\"log\")\n",
        "plt.yscale(\"log\")\n",
        "X = np.logspace(3, 5, 10)\n",
        "Y = X / 20000\n",
        "plt.plot(X, Y, \"k:\", label=\"linear\")\n",
        "plt.xlabel(\"Number of nodes\")\n",
        "plt.ylabel(\"Time / s\")\n",
        "plt.legend()"
      ]
    },
    {
      "cell_type": "markdown",
      "metadata": {
        "id": "mNr4y0JsGD7Y"
      },
      "source": [
        "### Doped ice\n",
        "\n",
        "Comparison with original GenIce 2.1 using Buch's algorithm."
      ]
    },
    {
      "cell_type": "code",
      "execution_count": 34,
      "metadata": {
        "id": "_jtD5N4SGry6"
      },
      "outputs": [
        {
          "name": "stdout",
          "output_type": "stream",
          "text": [
            "Collecting git+https://github.com/vitroid/GenIce.git#2.1.7.2\n",
            "  Cloning https://github.com/vitroid/GenIce.git to /private/var/folders/g2/t_qwkbf48xj4860059bm17mh0000gs/T/pip-req-build-htdh8mqy\n",
            "  Running command git clone --filter=blob:none --quiet https://github.com/vitroid/GenIce.git /private/var/folders/g2/t_qwkbf48xj4860059bm17mh0000gs/T/pip-req-build-htdh8mqy\n",
            "  Resolved https://github.com/vitroid/GenIce.git to commit 554fa424ca3d6d0370deedb0b3f82cd706bdab32\n",
            "  Preparing metadata (setup.py) ... \u001b[?25ldone\n",
            "\u001b[?25hRequirement already satisfied: networkx>=2.0.dev20160901144005 in /Users/matto/.local/share/virtualenvs/GenIce-core-RY0sKM3p/lib/python3.11/site-packages (from GenIce2==2.1.7.2) (3.2)\n",
            "Requirement already satisfied: cycless in /Users/matto/.local/share/virtualenvs/GenIce-core-RY0sKM3p/lib/python3.11/site-packages (from GenIce2==2.1.7.2) (0.3.1)\n",
            "Requirement already satisfied: pairlist>=0.2.12.4 in /Users/matto/.local/share/virtualenvs/GenIce-core-RY0sKM3p/lib/python3.11/site-packages (from GenIce2==2.1.7.2) (0.3.0.1)\n",
            "Requirement already satisfied: yaplotlib>=0.1 in /Users/matto/.local/share/virtualenvs/GenIce-core-RY0sKM3p/lib/python3.11/site-packages (from GenIce2==2.1.7.2) (0.1.2)\n",
            "Requirement already satisfied: numpy in /Users/matto/.local/share/virtualenvs/GenIce-core-RY0sKM3p/lib/python3.11/site-packages (from GenIce2==2.1.7.2) (1.26.1)\n",
            "Requirement already satisfied: wheel in /Users/matto/.local/share/virtualenvs/GenIce-core-RY0sKM3p/lib/python3.11/site-packages (from GenIce2==2.1.7.2) (0.41.2)\n",
            "Requirement already satisfied: openpyscad in /Users/matto/.local/share/virtualenvs/GenIce-core-RY0sKM3p/lib/python3.11/site-packages (from GenIce2==2.1.7.2) (0.5.0)\n",
            "Requirement already satisfied: graphstat in /Users/matto/.local/share/virtualenvs/GenIce-core-RY0sKM3p/lib/python3.11/site-packages (from GenIce2==2.1.7.2) (0.2.1)\n",
            "Requirement already satisfied: tilecycles>=0.1.5.6 in /Users/matto/.local/share/virtualenvs/GenIce-core-RY0sKM3p/lib/python3.11/site-packages (from GenIce2==2.1.7.2) (0.1.5.6)\n",
            "Requirement already satisfied: methodtools in /Users/matto/.local/share/virtualenvs/GenIce-core-RY0sKM3p/lib/python3.11/site-packages (from cycless->GenIce2==2.1.7.2) (0.4.7)\n",
            "Requirement already satisfied: six<2.0.0,>=1.14.0 in /Users/matto/.local/share/virtualenvs/GenIce-core-RY0sKM3p/lib/python3.11/site-packages (from openpyscad->GenIce2==2.1.7.2) (1.16.0)\n",
            "Requirement already satisfied: wirerope>=0.4.7 in /Users/matto/.local/share/virtualenvs/GenIce-core-RY0sKM3p/lib/python3.11/site-packages (from methodtools->cycless->GenIce2==2.1.7.2) (0.4.7)\n",
            "Building wheels for collected packages: GenIce2\n",
            "  Building wheel for GenIce2 (setup.py) ... \u001b[?25ldone\n",
            "\u001b[?25h  Created wheel for GenIce2: filename=GenIce2-2.1.7.2-py2.py3-none-any.whl size=814067 sha256=0d2d806144480aef6746f7bb8cfce532a0dc1da247b773099c2a2c26a7e2d63f\n",
            "  Stored in directory: /private/var/folders/g2/t_qwkbf48xj4860059bm17mh0000gs/T/pip-ephem-wheel-cache-lf39p3tg/wheels/e7/05/ff/8e62d9f65694d5f17412fb6af5a438fd678e12a52e99e639b1\n",
            "Successfully built GenIce2\n",
            "Installing collected packages: GenIce2\n",
            "  Attempting uninstall: GenIce2\n",
            "    Found existing installation: GenIce2 2.2\n",
            "    Uninstalling GenIce2-2.2:\n",
            "      Successfully uninstalled GenIce2-2.2\n",
            "Successfully installed GenIce2-2.1.7.2\n",
            "\n",
            "\u001b[1m[\u001b[0m\u001b[34;49mnotice\u001b[0m\u001b[1;39;49m]\u001b[0m\u001b[39;49m A new release of pip is available: \u001b[0m\u001b[31;49m23.2.1\u001b[0m\u001b[39;49m -> \u001b[0m\u001b[32;49m23.3.1\u001b[0m\n",
            "\u001b[1m[\u001b[0m\u001b[34;49mnotice\u001b[0m\u001b[1;39;49m]\u001b[0m\u001b[39;49m To update, run: \u001b[0m\u001b[32;49mpip install --upgrade pip\u001b[0m\n",
            "Note: you may need to restart the kernel to use updated packages.\n"
          ]
        }
      ],
      "source": [
        "%pip install git+https://github.com/vitroid/GenIce.git#2.1.7.2"
      ]
    },
    {
      "cell_type": "code",
      "execution_count": 35,
      "metadata": {
        "id": "AdTrJPJHGtsa"
      },
      "outputs": [
        {
          "name": "stdout",
          "output_type": "stream",
          "text": [
            "INFO ['1000=F']\n",
            "INFO __init__: Constructor of GenIce.\n",
            "INFO   \n",
            "INFO   Command line: /Users/matto/.local/share/virtualenvs/GenIce-core-RY0sKM3p/bin/genice2 1c -r 30 30 30 --cation 0=Li --anion 1000=F --depol=optimal\n",
            "INFO No rotmatrices in lattice\n",
            "INFO Cell dimension:\n",
            "INFO   a = 4.0\n",
            "INFO   b = 4.0\n",
            "INFO   c = 4.0\n",
            "INFO   A = 90.0\n",
            "INFO   B = 90.0\n",
            "INFO   C = 90.0\n",
            "INFO Bond length (specified): 1.9\n",
            "INFO Target Density: 0.92\n",
            "INFO Original Density: 0.0037363002324809044\n",
            "INFO Bond length (scaled, nm): 0.3031365108343017\n",
            "INFO __init__: end.\n",
            "INFO __init__: 11 ms\n",
            "INFO Stage1: Replicate water molecules to make a repeated cell.\n",
            "INFO   Number of water molecules: 216000\n",
            "INFO   Number of water nodes: 8\n",
            "INFO Cell dimension:\n",
            "INFO   a = 0.6381821280722142\n",
            "INFO   b = 0.6381821280722142\n",
            "INFO   c = 0.6381821280722142\n",
            "INFO   A = 90.0\n",
            "INFO   B = 90.0\n",
            "INFO   C = 90.0\n",
            "INFO Stage1: end.\n",
            "INFO Stage1: 21 ms\n",
            "INFO Stage2: Make a random graph and replicate.\n",
            "INFO replicate_graph: 1666 ms\n",
            "INFO   Anionize: {1000: 'F'}.\n",
            "INFO   Cationize: {0: 'Li'}.\n",
            "INFO Stage2: end.\n",
            "INFO Stage2: 1809 ms\n",
            "INFO   Number of pre-oriented hydrogen bonds: 8\n",
            "INFO   Number of unoriented hydrogen bonds: 431992\n",
            "INFO   Number of hydrogen bonds: 432000 (regular num: 432000)\n",
            "INFO Stage3: Make a graph obeying the ice rule.\n",
            "INFO   Defects remaining: 134999\n",
            "INFO   Defects remaining: 131072\n",
            "INFO   Defects remaining: 65536\n",
            "INFO   Defects remaining: 32768\n",
            "INFO   Defects remaining: 16384\n",
            "INFO   Defects remaining: 8192\n",
            "INFO   Defects remaining: 4096\n",
            "INFO   Defects remaining: 2048\n",
            "INFO   Defects remaining: 1024\n",
            "INFO   Defects remaining: 512\n",
            "INFO   Defects remaining: 256\n",
            "INFO   Defects remaining: 128\n",
            "INFO   Defects remaining: 64\n",
            "INFO   Defects remaining: 32\n",
            "INFO   Defects remaining: 16\n",
            "INFO   Defects remaining: 8\n",
            "INFO   Defects remaining: 4\n",
            "INFO   Defects remaining: 2\n",
            "INFO   Defects remaining: 1\n",
            "INFO   Defects remaining: 0\n",
            "INFO Stage3: end.\n",
            "INFO Stage3: 27355 ms\n",
            "INFO Stage4: Depolarize.\n",
            "INFO   Component 0:\n",
            "INFO   Water molecules that do not have 4 neighbors: []\n",
            "INFO   Net polarization: [-5.33 6.53 -2.00]\n",
            "INFO   Net polarization: [-3.33 6.53 -2.00]\n",
            "INFO   Net polarization: [-1.33 6.53 -2.00]\n",
            "INFO   Net polarization: [0.67 6.53 -2.00]\n",
            "INFO   Net polarization: [0.67 6.53 -2.00]\n",
            "INFO   Net polarization: [0.67 4.53 -2.00]\n",
            "INFO   Net polarization: [0.67 2.53 -2.00]\n",
            "INFO   Net polarization: [0.67 0.53 -2.00]\n",
            "INFO   Net polarization: [0.67 0.53 -2.00]\n",
            "INFO   Net polarization: [0.67 0.53 0.00]\n",
            "INFO Stage4: end.\n",
            "INFO Stage4: 38337 ms\n",
            "INFO Residual net polarization: 0.67 0.53 0.00\n",
            "INFO Stage5: Prepare orientations for rigid molecules.\n",
            "INFO Stage5: end.\n",
            "INFO Stage5: 161 ms\n",
            "INFO Stage6: Arrange atoms of water and replacements\n",
            "INFO Stage6: end.\n",
            "INFO Stage6: 579 ms\n",
            "INFO Stage7: Arrange guest atoms.\n",
            "INFO Stage7: end.\n",
            "INFO Stage7: 0 ms\n",
            "INFO Hook7: Output in Gromacs format.\n",
            "INFO   Total number of atoms: 647996\n",
            "WARNING   Fixed-digit format of Gromacs cannot deal with atoms more than 99999. Residue number and atom number are set appropriately.\n",
            "INFO Hook7: end.\n",
            "INFO Hook7: 1947 ms\n",
            "INFO Completed.\n",
            "INFO main: end.\n",
            "INFO main: 72244 ms\n",
            "\n",
            "real\t1m13.427s\n",
            "user\t1m14.156s\n",
            "sys\t0m1.042s\n"
          ]
        }
      ],
      "source": [
        "! time genice2 1c -r 30 30 30 --cation 0=Li --anion 1000=F --depol=optimal > doped1c.gro\n",
        "# 65 sec for stages 3 and 4 on Apple M1\n"
      ]
    },
    {
      "cell_type": "code",
      "execution_count": 36,
      "metadata": {},
      "outputs": [
        {
          "name": "stdout",
          "output_type": "stream",
          "text": [
            "INFO __init__: Constructor of GenIce.\n",
            "INFO   \n",
            "INFO   Command line: /Users/matto/.local/share/virtualenvs/GenIce-core-RY0sKM3p/bin/genice2 1c -r 30 30 30 --depol=strict\n",
            "INFO No rotmatrices in lattice\n",
            "INFO Cell dimension:\n",
            "INFO   a = 4.0\n",
            "INFO   b = 4.0\n",
            "INFO   c = 4.0\n",
            "INFO   A = 90.0\n",
            "INFO   B = 90.0\n",
            "INFO   C = 90.0\n",
            "INFO Bond length (specified): 1.9\n",
            "INFO Target Density: 0.92\n",
            "INFO Original Density: 0.0037363002324809044\n",
            "INFO Bond length (scaled, nm): 0.3031365108343017\n",
            "INFO __init__: end.\n",
            "INFO __init__: 0 ms\n",
            "INFO Stage1: Replicate water molecules to make a repeated cell.\n",
            "INFO   Number of water molecules: 216000\n",
            "INFO   Number of water nodes: 8\n",
            "INFO Cell dimension:\n",
            "INFO   a = 0.6381821280722142\n",
            "INFO   b = 0.6381821280722142\n",
            "INFO   c = 0.6381821280722142\n",
            "INFO   A = 90.0\n",
            "INFO   B = 90.0\n",
            "INFO   C = 90.0\n",
            "INFO Stage1: end.\n",
            "INFO Stage1: 9 ms\n",
            "INFO Stage2: Make a random graph and replicate.\n",
            "INFO replicate_graph: 1277 ms\n",
            "INFO Stage2: end.\n",
            "INFO Stage2: 1277 ms\n",
            "INFO   Number of pre-oriented hydrogen bonds: 0\n",
            "INFO   Number of unoriented hydrogen bonds: 432000\n",
            "INFO   Number of hydrogen bonds: 432000 (regular num: 432000)\n",
            "INFO Stage3D: Tile the graph with directed cycles.\n",
            "INFO spanningCycles: Look up the traversal cycles.\n",
            "INFO spanningCycles: end.\n",
            "INFO spanningCycles: 919 ms\n",
            "INFO direct: Re-orient the cycles so as to minimize the net polarization.\n",
            "INFO direct: end.\n",
            "INFO direct: 0 ms\n",
            "INFO cycles2digraph: Convert cycles to a digraph.\n",
            "INFO cycles2digraph: end.\n",
            "INFO cycles2digraph: 1028 ms\n",
            "INFO Stage3D: end.\n",
            "INFO Stage3D: 6014 ms\n",
            "INFO Residual net polarization: -0.00 -0.00 0.00\n",
            "INFO Stage5: Prepare orientations for rigid molecules.\n",
            "INFO Stage5: end.\n",
            "INFO Stage5: 182 ms\n",
            "INFO Stage6: Arrange atoms of water and replacements\n",
            "INFO Stage6: end.\n",
            "INFO Stage6: 558 ms\n",
            "INFO Stage7: Arrange guest atoms.\n",
            "INFO Stage7: end.\n",
            "INFO Stage7: 0 ms\n",
            "INFO Hook7: Output in Gromacs format.\n",
            "INFO   Total number of atoms: 648000\n",
            "WARNING   Fixed-digit format of Gromacs cannot deal with atoms more than 99999. Residue number and atom number are set appropriately.\n",
            "INFO Hook7: end.\n",
            "INFO Hook7: 1907 ms\n",
            "INFO Completed.\n",
            "INFO main: end.\n",
            "INFO main: 11763 ms\n",
            "\n",
            "real\t0m12.369s\n",
            "user\t0m14.909s\n",
            "sys\t0m0.557s\n"
          ]
        }
      ],
      "source": [
        "! time genice2 1c -r 30 30 30 --depol=strict > doped1c.gro\n",
        "# 6 sec for stage 3D on Apple M1\n"
      ]
    },
    {
      "cell_type": "code",
      "execution_count": 37,
      "metadata": {
        "id": "P4RUi-UEGxYl"
      },
      "outputs": [
        {
          "name": "stdout",
          "output_type": "stream",
          "text": [
            "Collecting git+https://github.com/vitroid/GenIce.git@genice-core\n",
            "  Cloning https://github.com/vitroid/GenIce.git (to revision genice-core) to /private/var/folders/g2/t_qwkbf48xj4860059bm17mh0000gs/T/pip-req-build-q5xec139\n",
            "  Running command git clone --filter=blob:none --quiet https://github.com/vitroid/GenIce.git /private/var/folders/g2/t_qwkbf48xj4860059bm17mh0000gs/T/pip-req-build-q5xec139\n"
          ]
        },
        {
          "name": "stdout",
          "output_type": "stream",
          "text": [
            "  Running command git checkout -b genice-core --track origin/genice-core\n",
            "  Switched to a new branch 'genice-core'\n",
            "  branch 'genice-core' set up to track 'origin/genice-core'.\n",
            "  Resolved https://github.com/vitroid/GenIce.git to commit e9e687ba2e3f58cb5231fa4c003fb7965653bcf0\n",
            "  Preparing metadata (setup.py) ... \u001b[?25ldone\n",
            "\u001b[?25hRequirement already satisfied: networkx>=2.0.dev20160901144005 in /Users/matto/.local/share/virtualenvs/GenIce-core-RY0sKM3p/lib/python3.11/site-packages (from GenIce2==2.2) (3.2)\n",
            "Requirement already satisfied: cycless in /Users/matto/.local/share/virtualenvs/GenIce-core-RY0sKM3p/lib/python3.11/site-packages (from GenIce2==2.2) (0.3.1)\n",
            "Requirement already satisfied: pairlist>=0.2.12.4 in /Users/matto/.local/share/virtualenvs/GenIce-core-RY0sKM3p/lib/python3.11/site-packages (from GenIce2==2.2) (0.3.0.1)\n",
            "Requirement already satisfied: yaplotlib>=0.1 in /Users/matto/.local/share/virtualenvs/GenIce-core-RY0sKM3p/lib/python3.11/site-packages (from GenIce2==2.2) (0.1.2)\n",
            "Requirement already satisfied: numpy in /Users/matto/.local/share/virtualenvs/GenIce-core-RY0sKM3p/lib/python3.11/site-packages (from GenIce2==2.2) (1.26.1)\n",
            "Requirement already satisfied: wheel in /Users/matto/.local/share/virtualenvs/GenIce-core-RY0sKM3p/lib/python3.11/site-packages (from GenIce2==2.2) (0.41.2)\n",
            "Requirement already satisfied: openpyscad in /Users/matto/.local/share/virtualenvs/GenIce-core-RY0sKM3p/lib/python3.11/site-packages (from GenIce2==2.2) (0.5.0)\n",
            "Requirement already satisfied: graphstat in /Users/matto/.local/share/virtualenvs/GenIce-core-RY0sKM3p/lib/python3.11/site-packages (from GenIce2==2.2) (0.2.1)\n",
            "Requirement already satisfied: genice-core in /Users/matto/.local/share/virtualenvs/GenIce-core-RY0sKM3p/lib/python3.11/site-packages (from GenIce2==2.2) (0.6)\n",
            "Requirement already satisfied: methodtools in /Users/matto/.local/share/virtualenvs/GenIce-core-RY0sKM3p/lib/python3.11/site-packages (from cycless->GenIce2==2.2) (0.4.7)\n",
            "Requirement already satisfied: six<2.0.0,>=1.14.0 in /Users/matto/.local/share/virtualenvs/GenIce-core-RY0sKM3p/lib/python3.11/site-packages (from openpyscad->GenIce2==2.2) (1.16.0)\n",
            "Requirement already satisfied: wirerope>=0.4.7 in /Users/matto/.local/share/virtualenvs/GenIce-core-RY0sKM3p/lib/python3.11/site-packages (from methodtools->cycless->GenIce2==2.2) (0.4.7)\n",
            "Building wheels for collected packages: GenIce2\n",
            "  Building wheel for GenIce2 (setup.py) ... \u001b[?25ldone\n",
            "\u001b[?25h  Created wheel for GenIce2: filename=GenIce2-2.2-py2.py3-none-any.whl size=805760 sha256=1c9a019db77ff709a2c0d51b8de17e7de06f04345c5d50bbc565ee8a4064c022\n",
            "  Stored in directory: /private/var/folders/g2/t_qwkbf48xj4860059bm17mh0000gs/T/pip-ephem-wheel-cache-7hx2cz_5/wheels/e8/94/ea/bff3abe4529095b29ff3f1b5efc58463d630c2309b4eef2611\n",
            "Successfully built GenIce2\n",
            "Installing collected packages: GenIce2\n",
            "  Attempting uninstall: GenIce2\n",
            "    Found existing installation: GenIce2 2.1.7.2\n",
            "    Uninstalling GenIce2-2.1.7.2:\n",
            "      Successfully uninstalled GenIce2-2.1.7.2\n",
            "Successfully installed GenIce2-2.2\n",
            "\n",
            "\u001b[1m[\u001b[0m\u001b[34;49mnotice\u001b[0m\u001b[1;39;49m]\u001b[0m\u001b[39;49m A new release of pip is available: \u001b[0m\u001b[31;49m23.2.1\u001b[0m\u001b[39;49m -> \u001b[0m\u001b[32;49m23.3.1\u001b[0m\n",
            "\u001b[1m[\u001b[0m\u001b[34;49mnotice\u001b[0m\u001b[1;39;49m]\u001b[0m\u001b[39;49m To update, run: \u001b[0m\u001b[32;49mpip install --upgrade pip\u001b[0m\n"
          ]
        }
      ],
      "source": [
        "! pip install git+https://github.com/vitroid/GenIce.git@genice-core"
      ]
    },
    {
      "cell_type": "code",
      "execution_count": 38,
      "metadata": {
        "id": "LaulJumEHfPs"
      },
      "outputs": [
        {
          "name": "stdout",
          "output_type": "stream",
          "text": [
            "INFO ['1000=F']\n",
            "INFO __init__: Constructor of GenIce.\n",
            "INFO   \n",
            "INFO   Command line: /Users/matto/.local/share/virtualenvs/GenIce-core-RY0sKM3p/bin/genice2 1c -r 30 30 30 --cation 0=Li --anion 1000=F --depol=optimal\n",
            "INFO Cell dimension:\n",
            "INFO   a = 4.0\n",
            "INFO   b = 4.0\n",
            "INFO   c = 4.0\n",
            "INFO   A = 90.0\n",
            "INFO   B = 90.0\n",
            "INFO   C = 90.0\n",
            "INFO Bond length (specified): 1.9\n",
            "INFO Target Density: 0.92\n",
            "INFO Original Density: 0.0037363002324809044\n",
            "INFO Bond length (scaled, nm): 0.3031365108343017\n",
            "INFO __init__: end.\n",
            "INFO __init__: 13 ms\n",
            "INFO Stage1: Replicate water molecules to make a repeated cell.\n",
            "INFO   Number of water molecules: 216000\n",
            "INFO   Number of water nodes: 8\n",
            "INFO Cell dimension:\n",
            "INFO   a = 0.6381821280722142\n",
            "INFO   b = 0.6381821280722142\n",
            "INFO   c = 0.6381821280722142\n",
            "INFO   A = 90.0\n",
            "INFO   B = 90.0\n",
            "INFO   C = 90.0\n",
            "INFO Stage1: end.\n",
            "INFO Stage1: 34 ms\n",
            "INFO Stage2: Make a random graph and replicate.\n",
            "INFO replicate_graph: 776 ms\n",
            "INFO   Anionize: {1000: 'F'}.\n",
            "INFO   Cationize: {0: 'Li'}.\n",
            "INFO Stage2: end.\n",
            "INFO Stage2: 776 ms\n",
            "INFO   Number of pre-oriented hydrogen bonds: 8\n",
            "INFO   Number of unoriented hydrogen bonds: 431992\n",
            "INFO   Number of hydrogen bonds: 432000 (regular num: 432000)\n",
            "INFO Stage34E: Make a directed ice graph from an undirected ice graph.\n",
            "INFO 0 [ 0.66666667  4.53333333 -2.        ] dipole\n",
            "INFO 2 [ 0.66666667 -1.46666667 -4.        ] dipole\n",
            "INFO 12 [ 2.66666667  0.53333333 -2.        ] dipole\n",
            "INFO 22 [-1.33333333  0.53333333 -2.        ] dipole\n",
            "INFO 151 [-1.33333333  0.53333333 -2.        ] dipole\n",
            "INFO Stage34E: end.\n",
            "INFO Stage34E: 14646 ms\n",
            "INFO Stage5: Prepare orientations for rigid molecules.\n",
            "INFO {1000, 0} immutables\n",
            "INFO Stage5: end.\n",
            "INFO Stage5: 155 ms\n",
            "INFO Stage6: Arrange atoms of water and replacements\n",
            "INFO Stage6: end.\n",
            "INFO Stage6: 575 ms\n",
            "INFO Stage7: Arrange guest atoms.\n",
            "INFO Stage7: end.\n",
            "INFO Stage7: 0 ms\n",
            "INFO Hook7: Output in Gromacs format.\n",
            "INFO   Total number of atoms: 647996\n",
            "WARNING   Fixed-digit format of Gromacs cannot deal with atoms more than 99999. Residue number and atom number are set appropriately.\n",
            "INFO Hook7: end.\n",
            "INFO Hook7: 1892 ms\n",
            "INFO Completed.\n",
            "INFO main: end.\n",
            "INFO main: 18276 ms\n",
            "\n",
            "real\t0m19.165s\n",
            "user\t0m20.467s\n",
            "sys\t0m0.746s\n"
          ]
        }
      ],
      "source": [
        "! time genice2 1c -r 30 30 30 --cation 0=Li --anion 1000=F --depol=optimal > doped1c.gro\n",
        "# 14.6 sec for stage 3D on Apple M1\n"
      ]
    },
    {
      "cell_type": "code",
      "execution_count": 40,
      "metadata": {},
      "outputs": [
        {
          "name": "stdout",
          "output_type": "stream",
          "text": [
            "INFO __init__: Constructor of GenIce.\n",
            "INFO   \n",
            "INFO   Command line: /Users/matto/.local/share/virtualenvs/GenIce-core-RY0sKM3p/bin/genice2 1c -r 30 30 30 --depol=optimal\n",
            "INFO Cell dimension:\n",
            "INFO   a = 4.0\n",
            "INFO   b = 4.0\n",
            "INFO   c = 4.0\n",
            "INFO   A = 90.0\n",
            "INFO   B = 90.0\n",
            "INFO   C = 90.0\n",
            "INFO Bond length (specified): 1.9\n",
            "INFO Target Density: 0.92\n",
            "INFO Original Density: 0.0037363002324809044\n",
            "INFO Bond length (scaled, nm): 0.3031365108343017\n",
            "INFO __init__: end.\n",
            "INFO __init__: 0 ms\n",
            "INFO Stage1: Replicate water molecules to make a repeated cell.\n",
            "INFO   Number of water molecules: 216000\n",
            "INFO   Number of water nodes: 8\n",
            "INFO Cell dimension:\n",
            "INFO   a = 0.6381821280722142\n",
            "INFO   b = 0.6381821280722142\n",
            "INFO   c = 0.6381821280722142\n",
            "INFO   A = 90.0\n",
            "INFO   B = 90.0\n",
            "INFO   C = 90.0\n",
            "INFO Stage1: end.\n",
            "INFO Stage1: 26 ms\n",
            "INFO Stage2: Make a random graph and replicate.\n",
            "INFO replicate_graph: 791 ms\n",
            "INFO Stage2: end.\n",
            "INFO Stage2: 792 ms\n",
            "INFO   Number of pre-oriented hydrogen bonds: 0\n",
            "INFO   Number of unoriented hydrogen bonds: 432000\n",
            "INFO   Number of hydrogen bonds: 432000 (regular num: 432000)\n",
            "INFO Stage34E: Make a directed ice graph from an undirected ice graph.\n",
            "INFO 0 [6. 6. 6.] dipole\n",
            "INFO 1 [-6.  4. -2.] dipole\n",
            "INFO 5 [ 2.66453526e-15 -4.00000000e+00 -3.74700271e-16] dipole\n",
            "INFO 63 [ 2.0000000e+00 -2.0000000e+00 -1.8179902e-15] dipole\n",
            "INFO 161 [-2.00000000e+00 -5.13478149e-16 -5.03763697e-15] dipole\n",
            "INFO 489 [ 2.00000000e+00 -4.64905892e-15 -2.04003481e-15] dipole\n",
            "INFO 806 [-4.44089210e-15  2.00000000e+00  1.80411242e-16] dipole\n",
            "INFO Stage34E: end.\n",
            "INFO Stage34E: 8660 ms\n",
            "INFO Stage5: Prepare orientations for rigid molecules.\n",
            "INFO set() immutables\n",
            "INFO Stage5: end.\n",
            "INFO Stage5: 151 ms\n",
            "INFO Stage6: Arrange atoms of water and replacements\n",
            "INFO Stage6: end.\n",
            "INFO Stage6: 581 ms\n",
            "INFO Stage7: Arrange guest atoms.\n",
            "INFO Stage7: end.\n",
            "INFO Stage7: 0 ms\n",
            "INFO Hook7: Output in Gromacs format.\n",
            "INFO   Total number of atoms: 648000\n",
            "WARNING   Fixed-digit format of Gromacs cannot deal with atoms more than 99999. Residue number and atom number are set appropriately.\n",
            "INFO Hook7: end.\n",
            "INFO Hook7: 1906 ms\n",
            "INFO Completed.\n",
            "INFO main: end.\n",
            "INFO main: 12289 ms\n",
            "\n",
            "real\t0m12.816s\n",
            "user\t0m14.763s\n",
            "sys\t0m0.516s\n"
          ]
        }
      ],
      "source": [
        "! time genice2 1c -r 30 30 30 --depol=optimal > doped1c.gro\n",
        "# 8.7 sec for stage 3D on Apple M1\n"
      ]
    },
    {
      "cell_type": "code",
      "execution_count": 29,
      "metadata": {
        "id": "DWjPBn5yHsOb"
      },
      "outputs": [
        {
          "name": "stdout",
          "output_type": "stream",
          "text": [
            "Requirement already satisfied: py3dmol in /Users/matto/.local/share/virtualenvs/GenIce-core-RY0sKM3p/lib/python3.11/site-packages (2.0.4)\n",
            "\n",
            "\u001b[1m[\u001b[0m\u001b[34;49mnotice\u001b[0m\u001b[1;39;49m]\u001b[0m\u001b[39;49m A new release of pip is available: \u001b[0m\u001b[31;49m23.2.1\u001b[0m\u001b[39;49m -> \u001b[0m\u001b[32;49m23.3.1\u001b[0m\n",
            "\u001b[1m[\u001b[0m\u001b[34;49mnotice\u001b[0m\u001b[1;39;49m]\u001b[0m\u001b[39;49m To update, run: \u001b[0m\u001b[32;49mpip install --upgrade pip\u001b[0m\n"
          ]
        }
      ],
      "source": [
        "! pip install py3dmol"
      ]
    },
    {
      "cell_type": "code",
      "execution_count": 30,
      "metadata": {
        "id": "CNYtjcETLZ_h"
      },
      "outputs": [
        {
          "name": "stdout",
          "output_type": "stream",
          "text": [
            "INFO ['10=F']\n",
            "INFO __init__: Constructor of GenIce.\n",
            "INFO   \n",
            "INFO   Command line: /Users/matto/.local/share/virtualenvs/GenIce-core-RY0sKM3p/bin/genice2 1c -r 4 4 4 --cation 0=Li --anion 10=F --depol=optimal\n",
            "INFO Cell dimension:\n",
            "INFO   a = 4.0\n",
            "INFO   b = 4.0\n",
            "INFO   c = 4.0\n",
            "INFO   A = 90.0\n",
            "INFO   B = 90.0\n",
            "INFO   C = 90.0\n",
            "INFO Bond length (specified): 1.9\n",
            "INFO Target Density: 0.92\n",
            "INFO Original Density: 0.0037363002324809044\n",
            "INFO Bond length (scaled, nm): 0.3031365108343017\n",
            "INFO __init__: end.\n",
            "INFO __init__: 1 ms\n",
            "INFO Stage1: Replicate water molecules to make a repeated cell.\n",
            "INFO   Number of water molecules: 512\n",
            "INFO   Number of water nodes: 8\n",
            "INFO Cell dimension:\n",
            "INFO   a = 0.6381821280722142\n",
            "INFO   b = 0.6381821280722142\n",
            "INFO   c = 0.6381821280722142\n",
            "INFO   A = 90.0\n",
            "INFO   B = 90.0\n",
            "INFO   C = 90.0\n",
            "INFO Stage1: end.\n",
            "INFO Stage1: 27 ms\n",
            "INFO Stage2: Make a random graph and replicate.\n",
            "INFO replicate_graph: 2 ms\n",
            "INFO   Anionize: {10: 'F'}.\n",
            "INFO   Cationize: {0: 'Li'}.\n",
            "INFO Stage2: end.\n",
            "INFO Stage2: 2 ms\n",
            "INFO   Number of pre-oriented hydrogen bonds: 8\n",
            "INFO   Number of unoriented hydrogen bonds: 1016\n",
            "INFO   Number of hydrogen bonds: 1024 (regular num: 1024)\n",
            "INFO Stage34E: Make a directed ice graph from an undirected ice graph.\n",
            "INFO 1 [ 3.5  2.  -1.5] dipole\n",
            "INFO 3 [1.5 2.  0.5] dipole\n",
            "INFO 9 [ 1.5  0.  -1.5] dipole\n",
            "INFO 11 [-0.5  0.   0.5] dipole\n",
            "INFO Stage34E: end.\n",
            "INFO Stage34E: 24 ms\n",
            "INFO Stage5: Prepare orientations for rigid molecules.\n",
            "INFO {0, 10} immutables\n",
            "INFO Stage5: end.\n",
            "INFO Stage5: 1 ms\n",
            "INFO Stage6: Arrange atoms of water and replacements\n",
            "INFO Stage6: end.\n",
            "INFO Stage6: 1 ms\n",
            "INFO Stage7: Arrange guest atoms.\n",
            "INFO Stage7: end.\n",
            "INFO Stage7: 0 ms\n",
            "INFO Hook7: Output in Gromacs format.\n",
            "INFO   Total number of atoms: 1532\n",
            "INFO Hook7: end.\n",
            "INFO Hook7: 4 ms\n",
            "INFO Completed.\n",
            "INFO main: end.\n",
            "INFO main: 115 ms\n",
            "\n",
            "real\t0m0.439s\n",
            "user\t0m1.386s\n",
            "sys\t0m0.134s\n"
          ]
        }
      ],
      "source": [
        "! time genice2 1c -r 4 4 4 --cation 0=Li --anion 10=F --depol=optimal > doped1c.gro"
      ]
    },
    {
      "cell_type": "code",
      "execution_count": 31,
      "metadata": {
        "id": "rmt5qMlMKh1v"
      },
      "outputs": [
        {
          "data": {
            "application/3dmoljs_load.v0": "<div id=\"3dmolviewer_1698857685145372\"  style=\"position: relative; width: 640px; height: 480px;\">\n        <p id=\"3dmolwarning_1698857685145372\" style=\"background-color:#ffcccc;color:black\">You appear to be running in JupyterLab (or JavaScript failed to load for some other reason).  You need to install the 3dmol extension: <br>\n        <tt>jupyter labextension install jupyterlab_3dmol</tt></p>\n        </div>\n<script>\n\nvar loadScriptAsync = function(uri){\n  return new Promise((resolve, reject) => {\n    //this is to ignore the existence of requirejs amd\n    var savedexports, savedmodule;\n    if (typeof exports !== 'undefined') savedexports = exports;\n    else exports = {}\n    if (typeof module !== 'undefined') savedmodule = module;\n    else module = {}\n\n    var tag = document.createElement('script');\n    tag.src = uri;\n    tag.async = true;\n    tag.onload = () => {\n        exports = savedexports;\n        module = savedmodule;\n        resolve();\n    };\n  var firstScriptTag = document.getElementsByTagName('script')[0];\n  firstScriptTag.parentNode.insertBefore(tag, firstScriptTag);\n});\n};\n\nif(typeof $3Dmolpromise === 'undefined') {\n$3Dmolpromise = null;\n  $3Dmolpromise = loadScriptAsync('https://cdnjs.cloudflare.com/ajax/libs/3Dmol/2.0.4/3Dmol-min.js');\n}\n\nvar viewer_1698857685145372 = null;\nvar warn = document.getElementById(\"3dmolwarning_1698857685145372\");\nif(warn) {\n    warn.parentNode.removeChild(warn);\n}\n$3Dmolpromise.then(function() {\nviewer_1698857685145372 = $3Dmol.createViewer(document.getElementById(\"3dmolviewer_1698857685145372\"),{backgroundColor:\"white\"});\nviewer_1698857685145372.zoomTo();\n\tviewer_1698857685145372.addModel(\"doped1c.gro\");\n\tviewer_1698857685145372.setStyle({\"stick\": {}});\n\tviewer_1698857685145372.addUnitCell();\n\tviewer_1698857685145372.zoomTo();\nviewer_1698857685145372.render();\n});\n</script>",
            "text/html": [
              "<div id=\"3dmolviewer_1698857685145372\"  style=\"position: relative; width: 640px; height: 480px;\">\n",
              "        <p id=\"3dmolwarning_1698857685145372\" style=\"background-color:#ffcccc;color:black\">You appear to be running in JupyterLab (or JavaScript failed to load for some other reason).  You need to install the 3dmol extension: <br>\n",
              "        <tt>jupyter labextension install jupyterlab_3dmol</tt></p>\n",
              "        </div>\n",
              "<script>\n",
              "\n",
              "var loadScriptAsync = function(uri){\n",
              "  return new Promise((resolve, reject) => {\n",
              "    //this is to ignore the existence of requirejs amd\n",
              "    var savedexports, savedmodule;\n",
              "    if (typeof exports !== 'undefined') savedexports = exports;\n",
              "    else exports = {}\n",
              "    if (typeof module !== 'undefined') savedmodule = module;\n",
              "    else module = {}\n",
              "\n",
              "    var tag = document.createElement('script');\n",
              "    tag.src = uri;\n",
              "    tag.async = true;\n",
              "    tag.onload = () => {\n",
              "        exports = savedexports;\n",
              "        module = savedmodule;\n",
              "        resolve();\n",
              "    };\n",
              "  var firstScriptTag = document.getElementsByTagName('script')[0];\n",
              "  firstScriptTag.parentNode.insertBefore(tag, firstScriptTag);\n",
              "});\n",
              "};\n",
              "\n",
              "if(typeof $3Dmolpromise === 'undefined') {\n",
              "$3Dmolpromise = null;\n",
              "  $3Dmolpromise = loadScriptAsync('https://cdnjs.cloudflare.com/ajax/libs/3Dmol/2.0.4/3Dmol-min.js');\n",
              "}\n",
              "\n",
              "var viewer_1698857685145372 = null;\n",
              "var warn = document.getElementById(\"3dmolwarning_1698857685145372\");\n",
              "if(warn) {\n",
              "    warn.parentNode.removeChild(warn);\n",
              "}\n",
              "$3Dmolpromise.then(function() {\n",
              "viewer_1698857685145372 = $3Dmol.createViewer(document.getElementById(\"3dmolviewer_1698857685145372\"),{backgroundColor:\"white\"});\n",
              "viewer_1698857685145372.zoomTo();\n",
              "\tviewer_1698857685145372.addModel(\"doped1c.gro\");\n",
              "\tviewer_1698857685145372.setStyle({\"stick\": {}});\n",
              "\tviewer_1698857685145372.addUnitCell();\n",
              "\tviewer_1698857685145372.zoomTo();\n",
              "viewer_1698857685145372.render();\n",
              "});\n",
              "</script>"
            ]
          },
          "metadata": {},
          "output_type": "display_data"
        }
      ],
      "source": [
        "# なぜか表示されない\n",
        "import py3Dmol\n",
        "\n",
        "# show\n",
        "view = py3Dmol.view()\n",
        "view.addModel(\"doped1c.gro\")\n",
        "view.setStyle({'stick':{}})\n",
        "view.addUnitCell()\n",
        "view.zoomTo()\n",
        "view.show()"
      ]
    },
    {
      "cell_type": "markdown",
      "metadata": {},
      "source": [
        "### Normal ice\n",
        "\n",
        "Improvement from GenIce2.1"
      ]
    },
    {
      "cell_type": "code",
      "execution_count": 32,
      "metadata": {
        "id": "RGzd2Ra3Lhms"
      },
      "outputs": [
        {
          "name": "stdout",
          "output_type": "stream",
          "text": [
            "Collecting git+https://github.com/vitroid/GenIce.git#2.1.7.2\n",
            "  Cloning https://github.com/vitroid/GenIce.git to /private/var/folders/g2/t_qwkbf48xj4860059bm17mh0000gs/T/pip-req-build-2zqg2g6a\n",
            "  Running command git clone --filter=blob:none --quiet https://github.com/vitroid/GenIce.git /private/var/folders/g2/t_qwkbf48xj4860059bm17mh0000gs/T/pip-req-build-2zqg2g6a\n",
            "  Resolved https://github.com/vitroid/GenIce.git to commit 554fa424ca3d6d0370deedb0b3f82cd706bdab32\n",
            "  Preparing metadata (setup.py) ... \u001b[?25ldone\n",
            "\u001b[?25hRequirement already satisfied: networkx>=2.0.dev20160901144005 in /Users/matto/.local/share/virtualenvs/GenIce-core-RY0sKM3p/lib/python3.11/site-packages (from GenIce2==2.1.7.2) (3.2)\n",
            "Requirement already satisfied: cycless in /Users/matto/.local/share/virtualenvs/GenIce-core-RY0sKM3p/lib/python3.11/site-packages (from GenIce2==2.1.7.2) (0.3.1)\n",
            "Requirement already satisfied: pairlist>=0.2.12.4 in /Users/matto/.local/share/virtualenvs/GenIce-core-RY0sKM3p/lib/python3.11/site-packages (from GenIce2==2.1.7.2) (0.3.0.1)\n",
            "Requirement already satisfied: yaplotlib>=0.1 in /Users/matto/.local/share/virtualenvs/GenIce-core-RY0sKM3p/lib/python3.11/site-packages (from GenIce2==2.1.7.2) (0.1.2)\n",
            "Requirement already satisfied: numpy in /Users/matto/.local/share/virtualenvs/GenIce-core-RY0sKM3p/lib/python3.11/site-packages (from GenIce2==2.1.7.2) (1.26.1)\n",
            "Requirement already satisfied: wheel in /Users/matto/.local/share/virtualenvs/GenIce-core-RY0sKM3p/lib/python3.11/site-packages (from GenIce2==2.1.7.2) (0.41.2)\n",
            "Requirement already satisfied: openpyscad in /Users/matto/.local/share/virtualenvs/GenIce-core-RY0sKM3p/lib/python3.11/site-packages (from GenIce2==2.1.7.2) (0.5.0)\n",
            "Requirement already satisfied: graphstat in /Users/matto/.local/share/virtualenvs/GenIce-core-RY0sKM3p/lib/python3.11/site-packages (from GenIce2==2.1.7.2) (0.2.1)\n",
            "Requirement already satisfied: tilecycles>=0.1.5.6 in /Users/matto/.local/share/virtualenvs/GenIce-core-RY0sKM3p/lib/python3.11/site-packages (from GenIce2==2.1.7.2) (0.1.5.6)\n",
            "Requirement already satisfied: methodtools in /Users/matto/.local/share/virtualenvs/GenIce-core-RY0sKM3p/lib/python3.11/site-packages (from cycless->GenIce2==2.1.7.2) (0.4.7)\n",
            "Requirement already satisfied: six<2.0.0,>=1.14.0 in /Users/matto/.local/share/virtualenvs/GenIce-core-RY0sKM3p/lib/python3.11/site-packages (from openpyscad->GenIce2==2.1.7.2) (1.16.0)\n",
            "Requirement already satisfied: wirerope>=0.4.7 in /Users/matto/.local/share/virtualenvs/GenIce-core-RY0sKM3p/lib/python3.11/site-packages (from methodtools->cycless->GenIce2==2.1.7.2) (0.4.7)\n",
            "Building wheels for collected packages: GenIce2\n",
            "  Building wheel for GenIce2 (setup.py) ... \u001b[?25ldone\n",
            "\u001b[?25h  Created wheel for GenIce2: filename=GenIce2-2.1.7.2-py2.py3-none-any.whl size=814067 sha256=82a783a135bbfa742223481773bac0a722e3d9434fd199303faa29caebc1a28b\n",
            "  Stored in directory: /private/var/folders/g2/t_qwkbf48xj4860059bm17mh0000gs/T/pip-ephem-wheel-cache-xc9__7tj/wheels/e7/05/ff/8e62d9f65694d5f17412fb6af5a438fd678e12a52e99e639b1\n",
            "Successfully built GenIce2\n",
            "Installing collected packages: GenIce2\n",
            "  Attempting uninstall: GenIce2\n",
            "    Found existing installation: GenIce2 2.2\n",
            "    Uninstalling GenIce2-2.2:\n",
            "      Successfully uninstalled GenIce2-2.2\n",
            "Successfully installed GenIce2-2.1.7.2\n",
            "\n",
            "\u001b[1m[\u001b[0m\u001b[34;49mnotice\u001b[0m\u001b[1;39;49m]\u001b[0m\u001b[39;49m A new release of pip is available: \u001b[0m\u001b[31;49m23.2.1\u001b[0m\u001b[39;49m -> \u001b[0m\u001b[32;49m23.3.1\u001b[0m\n",
            "\u001b[1m[\u001b[0m\u001b[34;49mnotice\u001b[0m\u001b[1;39;49m]\u001b[0m\u001b[39;49m To update, run: \u001b[0m\u001b[32;49mpip install --upgrade pip\u001b[0m\n",
            "INFO __init__: Constructor of GenIce.\n",
            "INFO   \n",
            "INFO   Command line: /Users/matto/.local/share/virtualenvs/GenIce-core-RY0sKM3p/bin/genice2 1c -r 30 30 30\n",
            "INFO No rotmatrices in lattice\n",
            "INFO Cell dimension:\n",
            "INFO   a = 4.0\n",
            "INFO   b = 4.0\n",
            "INFO   c = 4.0\n",
            "INFO   A = 90.0\n",
            "INFO   B = 90.0\n",
            "INFO   C = 90.0\n",
            "INFO Bond length (specified): 1.9\n",
            "INFO Target Density: 0.92\n",
            "INFO Original Density: 0.0037363002324809044\n",
            "INFO Bond length (scaled, nm): 0.3031365108343017\n",
            "INFO __init__: end.\n",
            "INFO __init__: 8 ms\n",
            "INFO Stage1: Replicate water molecules to make a repeated cell.\n",
            "INFO   Number of water molecules: 216000\n",
            "INFO   Number of water nodes: 8\n",
            "INFO Cell dimension:\n",
            "INFO   a = 0.6381821280722142\n",
            "INFO   b = 0.6381821280722142\n",
            "INFO   c = 0.6381821280722142\n",
            "INFO   A = 90.0\n",
            "INFO   B = 90.0\n",
            "INFO   C = 90.0\n",
            "INFO Stage1: end.\n",
            "INFO Stage1: 33 ms\n",
            "INFO Stage2: Make a random graph and replicate.\n",
            "INFO replicate_graph: 1439 ms\n",
            "INFO Stage2: end.\n",
            "INFO Stage2: 1439 ms\n",
            "INFO   Number of pre-oriented hydrogen bonds: 0\n",
            "INFO   Number of unoriented hydrogen bonds: 432000\n",
            "INFO   Number of hydrogen bonds: 432000 (regular num: 432000)\n",
            "INFO Stage3D: Tile the graph with directed cycles.\n",
            "INFO spanningCycles: Look up the traversal cycles.\n",
            "INFO spanningCycles: end.\n",
            "INFO spanningCycles: 1169 ms\n",
            "INFO direct: Re-orient the cycles so as to minimize the net polarization.\n",
            "INFO direct: end.\n",
            "INFO direct: 1 ms\n",
            "INFO cycles2digraph: Convert cycles to a digraph.\n",
            "INFO cycles2digraph: end.\n",
            "INFO cycles2digraph: 1127 ms\n",
            "INFO Stage3D: end.\n",
            "INFO Stage3D: 7177 ms\n",
            "INFO Residual net polarization: -0.00 -0.00 0.00\n",
            "INFO Stage5: Prepare orientations for rigid molecules.\n",
            "INFO Stage5: end.\n",
            "INFO Stage5: 198 ms\n",
            "INFO Stage6: Arrange atoms of water and replacements\n",
            "INFO Stage6: end.\n",
            "INFO Stage6: 586 ms\n",
            "INFO Stage7: Arrange guest atoms.\n",
            "INFO Stage7: end.\n",
            "INFO Stage7: 0 ms\n",
            "INFO Hook7: Output in Gromacs format.\n",
            "INFO   Total number of atoms: 648000\n",
            "WARNING   Fixed-digit format of Gromacs cannot deal with atoms more than 99999. Residue number and atom number are set appropriately.\n",
            "INFO Hook7: end.\n",
            "INFO Hook7: 1917 ms\n",
            "INFO Completed.\n",
            "INFO main: end.\n",
            "INFO main: 13306 ms\n",
            "\n",
            "real\t0m14.351s\n",
            "user\t0m15.338s\n",
            "sys\t0m0.577s\n"
          ]
        }
      ],
      "source": [
        "! pip install git+https://github.com/vitroid/GenIce.git#2.1.7.2\n",
        "! time genice2 1c -r 30 30 30 > doped1c.gro"
      ]
    },
    {
      "cell_type": "code",
      "execution_count": 33,
      "metadata": {
        "id": "T-zonSKPOAa7"
      },
      "outputs": [
        {
          "name": "stdout",
          "output_type": "stream",
          "text": [
            "Found existing installation: GenIce2 2.1.7.2\n",
            "Uninstalling GenIce2-2.1.7.2:\n",
            "  Successfully uninstalled GenIce2-2.1.7.2\n",
            "Collecting git+https://github.com/vitroid/GenIce.git@genice-core\n",
            "  Cloning https://github.com/vitroid/GenIce.git (to revision genice-core) to /private/var/folders/g2/t_qwkbf48xj4860059bm17mh0000gs/T/pip-req-build-cpdxubo4\n",
            "  Running command git clone --filter=blob:none --quiet https://github.com/vitroid/GenIce.git /private/var/folders/g2/t_qwkbf48xj4860059bm17mh0000gs/T/pip-req-build-cpdxubo4\n",
            "  Running command git checkout -b genice-core --track origin/genice-core\n",
            "  Switched to a new branch 'genice-core'\n",
            "  branch 'genice-core' set up to track 'origin/genice-core'.\n",
            "  Resolved https://github.com/vitroid/GenIce.git to commit e9e687ba2e3f58cb5231fa4c003fb7965653bcf0\n",
            "  Preparing metadata (setup.py) ... \u001b[?25ldone\n",
            "\u001b[?25hRequirement already satisfied: networkx>=2.0.dev20160901144005 in /Users/matto/.local/share/virtualenvs/GenIce-core-RY0sKM3p/lib/python3.11/site-packages (from GenIce2==2.2) (3.2)\n",
            "Requirement already satisfied: cycless in /Users/matto/.local/share/virtualenvs/GenIce-core-RY0sKM3p/lib/python3.11/site-packages (from GenIce2==2.2) (0.3.1)\n",
            "Requirement already satisfied: pairlist>=0.2.12.4 in /Users/matto/.local/share/virtualenvs/GenIce-core-RY0sKM3p/lib/python3.11/site-packages (from GenIce2==2.2) (0.3.0.1)\n",
            "Requirement already satisfied: yaplotlib>=0.1 in /Users/matto/.local/share/virtualenvs/GenIce-core-RY0sKM3p/lib/python3.11/site-packages (from GenIce2==2.2) (0.1.2)\n",
            "Requirement already satisfied: numpy in /Users/matto/.local/share/virtualenvs/GenIce-core-RY0sKM3p/lib/python3.11/site-packages (from GenIce2==2.2) (1.26.1)\n",
            "Requirement already satisfied: wheel in /Users/matto/.local/share/virtualenvs/GenIce-core-RY0sKM3p/lib/python3.11/site-packages (from GenIce2==2.2) (0.41.2)\n",
            "Requirement already satisfied: openpyscad in /Users/matto/.local/share/virtualenvs/GenIce-core-RY0sKM3p/lib/python3.11/site-packages (from GenIce2==2.2) (0.5.0)\n",
            "Requirement already satisfied: graphstat in /Users/matto/.local/share/virtualenvs/GenIce-core-RY0sKM3p/lib/python3.11/site-packages (from GenIce2==2.2) (0.2.1)\n",
            "Requirement already satisfied: genice-core in /Users/matto/.local/share/virtualenvs/GenIce-core-RY0sKM3p/lib/python3.11/site-packages (from GenIce2==2.2) (0.6)\n",
            "Requirement already satisfied: methodtools in /Users/matto/.local/share/virtualenvs/GenIce-core-RY0sKM3p/lib/python3.11/site-packages (from cycless->GenIce2==2.2) (0.4.7)\n",
            "Requirement already satisfied: six<2.0.0,>=1.14.0 in /Users/matto/.local/share/virtualenvs/GenIce-core-RY0sKM3p/lib/python3.11/site-packages (from openpyscad->GenIce2==2.2) (1.16.0)\n",
            "Requirement already satisfied: wirerope>=0.4.7 in /Users/matto/.local/share/virtualenvs/GenIce-core-RY0sKM3p/lib/python3.11/site-packages (from methodtools->cycless->GenIce2==2.2) (0.4.7)\n",
            "Building wheels for collected packages: GenIce2\n",
            "  Building wheel for GenIce2 (setup.py) ... \u001b[?25ldone\n",
            "\u001b[?25h  Created wheel for GenIce2: filename=GenIce2-2.2-py2.py3-none-any.whl size=805760 sha256=c85b68c0731217b4f28e3def632bbc6c1502b74639b3cc58acc4149e4eb048fc\n",
            "  Stored in directory: /private/var/folders/g2/t_qwkbf48xj4860059bm17mh0000gs/T/pip-ephem-wheel-cache-7s1uzrc9/wheels/e8/94/ea/bff3abe4529095b29ff3f1b5efc58463d630c2309b4eef2611\n",
            "Successfully built GenIce2\n",
            "Installing collected packages: GenIce2\n",
            "Successfully installed GenIce2-2.2\n",
            "\n",
            "\u001b[1m[\u001b[0m\u001b[34;49mnotice\u001b[0m\u001b[1;39;49m]\u001b[0m\u001b[39;49m A new release of pip is available: \u001b[0m\u001b[31;49m23.2.1\u001b[0m\u001b[39;49m -> \u001b[0m\u001b[32;49m23.3.1\u001b[0m\n",
            "\u001b[1m[\u001b[0m\u001b[34;49mnotice\u001b[0m\u001b[1;39;49m]\u001b[0m\u001b[39;49m To update, run: \u001b[0m\u001b[32;49mpip install --upgrade pip\u001b[0m\n",
            "INFO __init__: Constructor of GenIce.\n",
            "INFO   \n",
            "INFO   Command line: /Users/matto/.local/share/virtualenvs/GenIce-core-RY0sKM3p/bin/genice2 1c -r 30 30 30\n",
            "INFO Cell dimension:\n",
            "INFO   a = 4.0\n",
            "INFO   b = 4.0\n",
            "INFO   c = 4.0\n",
            "INFO   A = 90.0\n",
            "INFO   B = 90.0\n",
            "INFO   C = 90.0\n",
            "INFO Bond length (specified): 1.9\n",
            "INFO Target Density: 0.92\n",
            "INFO Original Density: 0.0037363002324809044\n",
            "INFO Bond length (scaled, nm): 0.3031365108343017\n",
            "INFO __init__: end.\n",
            "INFO __init__: 2 ms\n",
            "INFO Stage1: Replicate water molecules to make a repeated cell.\n",
            "INFO   Number of water molecules: 216000\n",
            "INFO   Number of water nodes: 8\n",
            "INFO Cell dimension:\n",
            "INFO   a = 0.6381821280722142\n",
            "INFO   b = 0.6381821280722142\n",
            "INFO   c = 0.6381821280722142\n",
            "INFO   A = 90.0\n",
            "INFO   B = 90.0\n",
            "INFO   C = 90.0\n",
            "INFO Stage1: end.\n",
            "INFO Stage1: 32 ms\n",
            "INFO Stage2: Make a random graph and replicate.\n",
            "INFO replicate_graph: 781 ms\n",
            "INFO Stage2: end.\n",
            "INFO Stage2: 781 ms\n",
            "INFO   Number of pre-oriented hydrogen bonds: 0\n",
            "INFO   Number of unoriented hydrogen bonds: 432000\n",
            "INFO   Number of hydrogen bonds: 432000 (regular num: 432000)\n",
            "INFO Stage34E: Make a directed ice graph from an undirected ice graph.\n",
            "INFO 0 [6. 6. 6.] dipole\n",
            "INFO 1 [-6.  4. -2.] dipole\n",
            "INFO 5 [ 2.66453526e-15 -4.00000000e+00 -3.74700271e-16] dipole\n",
            "INFO 63 [ 2.0000000e+00 -2.0000000e+00 -1.8179902e-15] dipole\n",
            "INFO 161 [-2.00000000e+00 -5.13478149e-16 -5.03763697e-15] dipole\n",
            "INFO 489 [ 2.00000000e+00 -4.64905892e-15 -2.04003481e-15] dipole\n",
            "INFO 806 [-4.44089210e-15  2.00000000e+00  1.80411242e-16] dipole\n",
            "INFO Stage34E: end.\n",
            "INFO Stage34E: 9128 ms\n",
            "INFO Stage5: Prepare orientations for rigid molecules.\n",
            "INFO set() immutables\n",
            "INFO Stage5: end.\n",
            "INFO Stage5: 229 ms\n",
            "INFO Stage6: Arrange atoms of water and replacements\n",
            "INFO Stage6: end.\n",
            "INFO Stage6: 568 ms\n",
            "INFO Stage7: Arrange guest atoms.\n",
            "INFO Stage7: end.\n",
            "INFO Stage7: 0 ms\n",
            "INFO Hook7: Output in Gromacs format.\n",
            "INFO   Total number of atoms: 648000\n",
            "WARNING   Fixed-digit format of Gromacs cannot deal with atoms more than 99999. Residue number and atom number are set appropriately.\n",
            "INFO Hook7: end.\n",
            "INFO Hook7: 1930 ms\n",
            "INFO Completed.\n",
            "INFO main: end.\n",
            "INFO main: 12873 ms\n",
            "\n",
            "real\t0m13.349s\n",
            "user\t0m15.444s\n",
            "sys\t0m0.590s\n",
            "genice2 2.2\n"
          ]
        }
      ],
      "source": [
        "! pip uninstall -y genice2\n",
        "! pip install git+https://github.com/vitroid/GenIce.git@genice-core\n",
        "! time genice2 1c -r 30 30 30 > doped1c.gro\n",
        "! genice2 --version"
      ]
    },
    {
      "cell_type": "markdown",
      "metadata": {},
      "source": [
        "## Debug and Tuning"
      ]
    },
    {
      "cell_type": "code",
      "execution_count": null,
      "metadata": {
        "id": "wMITeElB9kh5"
      },
      "outputs": [],
      "source": [
        "import pairlist as pl\n",
        "import networkx as nx\n",
        "import genice_core\n",
        "import time\n",
        "import matplotlib.pyplot as plt\n",
        "from logging import getLogger, INFO, basicConfig\n",
        "\n",
        "logger = getLogger()\n",
        "basicConfig(level=INFO)\n",
        "\n",
        "\n",
        "def main():\n",
        "    np.random.seed(999)\n",
        "\n",
        "    N = 64\n",
        "    pos = diamond(N)\n",
        "    cell = np.diag([N, N, N])\n",
        "    # adjacency graph\n",
        "    g = nx.Graph(\n",
        "        [\n",
        "            (i, j)\n",
        "            for i, j in pl.pairs_iter(pos, 1, cell, fractional=True, distance=False)\n",
        "        ]\n",
        "    )\n",
        "\n",
        "    now = time.time()\n",
        "    dg = genice_core.ice_graph(\n",
        "        g,\n",
        "        vertexPositions=pos,\n",
        "        dipoleOptimizationCycles=100,\n",
        "    )\n",
        "\n",
        "\n",
        "import cProfile\n",
        "\n",
        "cProfile.run(\"main()\", filename=\"main.prof\")"
      ]
    },
    {
      "cell_type": "code",
      "execution_count": null,
      "metadata": {},
      "outputs": [],
      "source": [
        "import pstats\n",
        "\n",
        "sts = pstats.Stats(\"main.prof\")\n",
        "sts.strip_dirs().sort_stats(-1).print_stats()"
      ]
    },
    {
      "cell_type": "code",
      "execution_count": null,
      "metadata": {},
      "outputs": [],
      "source": []
    }
  ],
  "metadata": {
    "colab": {
      "include_colab_link": true,
      "provenance": []
    },
    "kernelspec": {
      "display_name": "GenIce-core-RY0sKM3p",
      "language": "python",
      "name": "python3"
    },
    "language_info": {
      "codemirror_mode": {
        "name": "ipython",
        "version": 3
      },
      "file_extension": ".py",
      "mimetype": "text/x-python",
      "name": "python",
      "nbconvert_exporter": "python",
      "pygments_lexer": "ipython3",
      "version": "3.11.4"
    }
  },
  "nbformat": 4,
  "nbformat_minor": 0
}
